{
 "cells": [
  {
   "cell_type": "markdown",
   "id": "5d5ff628",
   "metadata": {},
   "source": [
    "# pandas Series\n",
    "1. Create pandas series with different `data types` in `different ways`\n",
    "2. Find the `attributes` of Series of [10,30,40,1,3,6,14,18,23] with index starts from `100`\n",
    "3. create salaries of `30 employee salaries randomly from 30000-90000` then `measure and describe` the data using pandas series.\n",
    "4. What are the `similaraties` and `differences` between pandas series and nnumpy array.Prove it with code.\n",
    "5. create pandas series with ranges from 100 to 150 then apply indexing and slicing on it."
   ]
  },
  {
   "cell_type": "markdown",
   "id": "c629a2d4",
   "metadata": {},
   "source": [
    "### Create pandas series with different data types in different ways"
   ]
  },
  {
   "cell_type": "code",
   "execution_count": 1,
   "id": "b00e623c",
   "metadata": {},
   "outputs": [],
   "source": [
    "import pandas as pd"
   ]
  },
  {
   "cell_type": "code",
   "execution_count": 2,
   "id": "57c4be5c",
   "metadata": {},
   "outputs": [],
   "source": [
    "# using list"
   ]
  },
  {
   "cell_type": "code",
   "execution_count": 4,
   "id": "96a34eb3",
   "metadata": {},
   "outputs": [],
   "source": [
    "num = [1,2,3,4,5,6,7,8,9,10]"
   ]
  },
  {
   "cell_type": "code",
   "execution_count": 5,
   "id": "9206333a",
   "metadata": {},
   "outputs": [],
   "source": [
    "a = pd.Series(num)"
   ]
  },
  {
   "cell_type": "code",
   "execution_count": 6,
   "id": "2970ea2e",
   "metadata": {},
   "outputs": [
    {
     "data": {
      "text/plain": [
       "0     1\n",
       "1     2\n",
       "2     3\n",
       "3     4\n",
       "4     5\n",
       "5     6\n",
       "6     7\n",
       "7     8\n",
       "8     9\n",
       "9    10\n",
       "dtype: int64"
      ]
     },
     "execution_count": 6,
     "metadata": {},
     "output_type": "execute_result"
    }
   ],
   "source": [
    "a"
   ]
  },
  {
   "cell_type": "code",
   "execution_count": 7,
   "id": "5100dd7a",
   "metadata": {},
   "outputs": [
    {
     "data": {
      "text/plain": [
       "0     1\n",
       "1     2\n",
       "2     3\n",
       "3     4\n",
       "4     5\n",
       "5     6\n",
       "6     7\n",
       "7     8\n",
       "8     9\n",
       "9    10\n",
       "dtype: int64"
      ]
     },
     "execution_count": 7,
     "metadata": {},
     "output_type": "execute_result"
    }
   ],
   "source": [
    "n = list(range(1,11))\n",
    "pd.Series(n)"
   ]
  },
  {
   "cell_type": "code",
   "execution_count": 8,
   "id": "15cc3288",
   "metadata": {},
   "outputs": [],
   "source": [
    "# using tuple"
   ]
  },
  {
   "cell_type": "code",
   "execution_count": 9,
   "id": "3b586fe9",
   "metadata": {},
   "outputs": [],
   "source": [
    "tup = (20,40,60,80,100)"
   ]
  },
  {
   "cell_type": "code",
   "execution_count": 10,
   "id": "00f9a75d",
   "metadata": {},
   "outputs": [
    {
     "data": {
      "text/plain": [
       "0     20\n",
       "1     40\n",
       "2     60\n",
       "3     80\n",
       "4    100\n",
       "dtype: int64"
      ]
     },
     "execution_count": 10,
     "metadata": {},
     "output_type": "execute_result"
    }
   ],
   "source": [
    "pd.Series(tup)"
   ]
  },
  {
   "cell_type": "code",
   "execution_count": 11,
   "id": "169e0508",
   "metadata": {},
   "outputs": [],
   "source": [
    "# using dictionary"
   ]
  },
  {
   "cell_type": "code",
   "execution_count": 12,
   "id": "3929a6d1",
   "metadata": {},
   "outputs": [],
   "source": [
    "names = {1:'Sourav',2:'virat',3:'Akki',4:'raju'}"
   ]
  },
  {
   "cell_type": "code",
   "execution_count": 13,
   "id": "679f8f3c",
   "metadata": {},
   "outputs": [
    {
     "data": {
      "text/plain": [
       "1    Sourav\n",
       "2     virat\n",
       "3      Akki\n",
       "4      raju\n",
       "dtype: object"
      ]
     },
     "execution_count": 13,
     "metadata": {},
     "output_type": "execute_result"
    }
   ],
   "source": [
    "pd.Series(names)"
   ]
  },
  {
   "cell_type": "code",
   "execution_count": 14,
   "id": "7ac2012c",
   "metadata": {},
   "outputs": [],
   "source": [
    "# using random"
   ]
  },
  {
   "cell_type": "code",
   "execution_count": 15,
   "id": "166e8c3d",
   "metadata": {},
   "outputs": [],
   "source": [
    "import numpy as np"
   ]
  },
  {
   "cell_type": "code",
   "execution_count": 16,
   "id": "68cb4ce2",
   "metadata": {},
   "outputs": [],
   "source": [
    "val = np.random.randint(1,20,10)"
   ]
  },
  {
   "cell_type": "code",
   "execution_count": 17,
   "id": "aa273992",
   "metadata": {},
   "outputs": [
    {
     "data": {
      "text/plain": [
       "0    13\n",
       "1     3\n",
       "2     2\n",
       "3    10\n",
       "4    19\n",
       "5     1\n",
       "6     5\n",
       "7     9\n",
       "8    11\n",
       "9     9\n",
       "dtype: int32"
      ]
     },
     "execution_count": 17,
     "metadata": {},
     "output_type": "execute_result"
    }
   ],
   "source": [
    "pd.Series(val)"
   ]
  },
  {
   "cell_type": "markdown",
   "id": "f3f76c22",
   "metadata": {},
   "source": [
    "### Find the attributes of Series of [10,30,40,1,3,6,14,18,23] with index starts from 100"
   ]
  },
  {
   "cell_type": "code",
   "execution_count": 18,
   "id": "a6a474d8",
   "metadata": {},
   "outputs": [],
   "source": [
    "series = [10,30,40,1,3,6,14,18,23]"
   ]
  },
  {
   "cell_type": "code",
   "execution_count": 19,
   "id": "843622b5",
   "metadata": {},
   "outputs": [],
   "source": [
    "n = len(series)"
   ]
  },
  {
   "cell_type": "code",
   "execution_count": 20,
   "id": "b79ff838",
   "metadata": {},
   "outputs": [
    {
     "data": {
      "text/plain": [
       "100    10\n",
       "101    30\n",
       "102    40\n",
       "103     1\n",
       "104     3\n",
       "105     6\n",
       "106    14\n",
       "107    18\n",
       "108    23\n",
       "dtype: int64"
      ]
     },
     "execution_count": 20,
     "metadata": {},
     "output_type": "execute_result"
    }
   ],
   "source": [
    "num = pd.Series(series,index = list(range(100,100+n)))\n",
    "num"
   ]
  },
  {
   "cell_type": "code",
   "execution_count": 30,
   "id": "3f4273a0",
   "metadata": {},
   "outputs": [
    {
     "name": "stdout",
     "output_type": "stream",
     "text": [
      "<class 'pandas.core.series.Series'>\n",
      "Index: 9 entries, 100 to 108\n",
      "Series name: None\n",
      "Non-Null Count  Dtype\n",
      "--------------  -----\n",
      "9 non-null      int64\n",
      "dtypes: int64(1)\n",
      "memory usage: 144.0 bytes\n"
     ]
    }
   ],
   "source": [
    "num.info()"
   ]
  },
  {
   "cell_type": "code",
   "execution_count": 21,
   "id": "a7e78c82",
   "metadata": {},
   "outputs": [
    {
     "data": {
      "text/plain": [
       "dtype('int64')"
      ]
     },
     "execution_count": 21,
     "metadata": {},
     "output_type": "execute_result"
    }
   ],
   "source": [
    " num.dtype"
   ]
  },
  {
   "cell_type": "code",
   "execution_count": 22,
   "id": "c6e3069c",
   "metadata": {},
   "outputs": [
    {
     "data": {
      "text/plain": [
       "100    10\n",
       "101    30\n",
       "102    40\n",
       "103     1\n",
       "104     3\n",
       "105     6\n",
       "dtype: int64"
      ]
     },
     "execution_count": 22,
     "metadata": {},
     "output_type": "execute_result"
    }
   ],
   "source": [
    "num.head(6)"
   ]
  },
  {
   "cell_type": "code",
   "execution_count": 24,
   "id": "884df7eb",
   "metadata": {},
   "outputs": [
    {
     "data": {
      "text/plain": [
       "106    14\n",
       "107    18\n",
       "108    23\n",
       "dtype: int64"
      ]
     },
     "execution_count": 24,
     "metadata": {},
     "output_type": "execute_result"
    }
   ],
   "source": [
    "num.tail(3)"
   ]
  },
  {
   "cell_type": "code",
   "execution_count": 25,
   "id": "9db603a9",
   "metadata": {},
   "outputs": [
    {
     "data": {
      "text/plain": [
       "144"
      ]
     },
     "execution_count": 25,
     "metadata": {},
     "output_type": "execute_result"
    }
   ],
   "source": [
    "num.memory_usage()"
   ]
  },
  {
   "cell_type": "code",
   "execution_count": 29,
   "id": "5ff2ce33",
   "metadata": {},
   "outputs": [
    {
     "data": {
      "text/plain": [
       "count     9.000000\n",
       "mean     16.111111\n",
       "std      13.033078\n",
       "min       1.000000\n",
       "25%       6.000000\n",
       "50%      14.000000\n",
       "75%      23.000000\n",
       "max      40.000000\n",
       "dtype: float64"
      ]
     },
     "execution_count": 29,
     "metadata": {},
     "output_type": "execute_result"
    }
   ],
   "source": [
    "num.describe()"
   ]
  },
  {
   "cell_type": "markdown",
   "id": "1f358656",
   "metadata": {},
   "source": [
    "### create salaries of 30 employee salaries randomly from 30000-90000 then measure and describe the data using pandas series"
   ]
  },
  {
   "cell_type": "code",
   "execution_count": 37,
   "id": "35572ab8",
   "metadata": {},
   "outputs": [
    {
     "data": {
      "text/plain": [
       "array([59332, 64071, 48149, 52654, 40359, 45699, 82492, 82252, 79275,\n",
       "       69048, 45697, 44609, 47982, 46877, 62747, 88464, 40888, 30040,\n",
       "       42682, 38756, 82030, 51448, 34813, 46994, 78456, 76878, 86000,\n",
       "       48095, 41252, 47002])"
      ]
     },
     "execution_count": 37,
     "metadata": {},
     "output_type": "execute_result"
    }
   ],
   "source": [
    "salaries = np.random.randint(30000,90000,30)\n",
    "salaries"
   ]
  },
  {
   "cell_type": "code",
   "execution_count": 38,
   "id": "cb25c59a",
   "metadata": {},
   "outputs": [
    {
     "data": {
      "text/plain": [
       "1     59332\n",
       "2     64071\n",
       "3     48149\n",
       "4     52654\n",
       "5     40359\n",
       "6     45699\n",
       "7     82492\n",
       "8     82252\n",
       "9     79275\n",
       "10    69048\n",
       "11    45697\n",
       "12    44609\n",
       "13    47982\n",
       "14    46877\n",
       "15    62747\n",
       "16    88464\n",
       "17    40888\n",
       "18    30040\n",
       "19    42682\n",
       "20    38756\n",
       "21    82030\n",
       "22    51448\n",
       "23    34813\n",
       "24    46994\n",
       "25    78456\n",
       "26    76878\n",
       "27    86000\n",
       "28    48095\n",
       "29    41252\n",
       "30    47002\n",
       "dtype: int32"
      ]
     },
     "execution_count": 38,
     "metadata": {},
     "output_type": "execute_result"
    }
   ],
   "source": [
    "salary = pd.Series(salaries,index = list(range(1,31)))\n",
    "salary"
   ]
  },
  {
   "cell_type": "code",
   "execution_count": 39,
   "id": "fc618dca",
   "metadata": {},
   "outputs": [
    {
     "data": {
      "text/plain": [
       "56834.7"
      ]
     },
     "execution_count": 39,
     "metadata": {},
     "output_type": "execute_result"
    }
   ],
   "source": [
    "salary.mean()"
   ]
  },
  {
   "cell_type": "code",
   "execution_count": 40,
   "id": "66694563",
   "metadata": {},
   "outputs": [
    {
     "data": {
      "text/plain": [
       "48122.0"
      ]
     },
     "execution_count": 40,
     "metadata": {},
     "output_type": "execute_result"
    }
   ],
   "source": [
    "salary.median()"
   ]
  },
  {
   "cell_type": "code",
   "execution_count": 41,
   "id": "b811c972",
   "metadata": {},
   "outputs": [
    {
     "data": {
      "text/plain": [
       "0     30040\n",
       "1     34813\n",
       "2     38756\n",
       "3     40359\n",
       "4     40888\n",
       "5     41252\n",
       "6     42682\n",
       "7     44609\n",
       "8     45697\n",
       "9     45699\n",
       "10    46877\n",
       "11    46994\n",
       "12    47002\n",
       "13    47982\n",
       "14    48095\n",
       "15    48149\n",
       "16    51448\n",
       "17    52654\n",
       "18    59332\n",
       "19    62747\n",
       "20    64071\n",
       "21    69048\n",
       "22    76878\n",
       "23    78456\n",
       "24    79275\n",
       "25    82030\n",
       "26    82252\n",
       "27    82492\n",
       "28    86000\n",
       "29    88464\n",
       "dtype: int32"
      ]
     },
     "execution_count": 41,
     "metadata": {},
     "output_type": "execute_result"
    }
   ],
   "source": [
    "salary.mode()      # no common or same salary, every employee has unique salaries"
   ]
  },
  {
   "cell_type": "code",
   "execution_count": 42,
   "id": "a784a260",
   "metadata": {},
   "outputs": [
    {
     "data": {
      "text/plain": [
       "305902436.28620684"
      ]
     },
     "execution_count": 42,
     "metadata": {},
     "output_type": "execute_result"
    }
   ],
   "source": [
    "salary.var()"
   ]
  },
  {
   "cell_type": "code",
   "execution_count": 43,
   "id": "534b887c",
   "metadata": {},
   "outputs": [
    {
     "data": {
      "text/plain": [
       "17490.066789072214"
      ]
     },
     "execution_count": 43,
     "metadata": {},
     "output_type": "execute_result"
    }
   ],
   "source": [
    "salary.std()"
   ]
  },
  {
   "cell_type": "code",
   "execution_count": 44,
   "id": "77fb3237",
   "metadata": {},
   "outputs": [
    {
     "data": {
      "text/plain": [
       "30040"
      ]
     },
     "execution_count": 44,
     "metadata": {},
     "output_type": "execute_result"
    }
   ],
   "source": [
    "salary.min()"
   ]
  },
  {
   "cell_type": "code",
   "execution_count": 45,
   "id": "99a89e05",
   "metadata": {},
   "outputs": [
    {
     "data": {
      "text/plain": [
       "88464"
      ]
     },
     "execution_count": 45,
     "metadata": {},
     "output_type": "execute_result"
    }
   ],
   "source": [
    "salary.max()"
   ]
  },
  {
   "cell_type": "code",
   "execution_count": 46,
   "id": "124f2332",
   "metadata": {},
   "outputs": [
    {
     "data": {
      "text/plain": [
       "44881.0"
      ]
     },
     "execution_count": 46,
     "metadata": {},
     "output_type": "execute_result"
    }
   ],
   "source": [
    "salary.quantile(0.25)     "
   ]
  },
  {
   "cell_type": "code",
   "execution_count": 47,
   "id": "cf21ab18",
   "metadata": {},
   "outputs": [
    {
     "data": {
      "text/plain": [
       "48122.0"
      ]
     },
     "execution_count": 47,
     "metadata": {},
     "output_type": "execute_result"
    }
   ],
   "source": [
    "salary.quantile(0.5)"
   ]
  },
  {
   "cell_type": "code",
   "execution_count": 48,
   "id": "2fd2c959",
   "metadata": {},
   "outputs": [
    {
     "data": {
      "text/plain": [
       "74920.5"
      ]
     },
     "execution_count": 48,
     "metadata": {},
     "output_type": "execute_result"
    }
   ],
   "source": [
    "salary.quantile(0.75)"
   ]
  },
  {
   "cell_type": "code",
   "execution_count": 49,
   "id": "3313ee57",
   "metadata": {},
   "outputs": [
    {
     "data": {
      "text/plain": [
       "count       30.000000\n",
       "mean     56834.700000\n",
       "std      17490.066789\n",
       "min      30040.000000\n",
       "25%      44881.000000\n",
       "50%      48122.000000\n",
       "75%      74920.500000\n",
       "max      88464.000000\n",
       "dtype: float64"
      ]
     },
     "execution_count": 49,
     "metadata": {},
     "output_type": "execute_result"
    }
   ],
   "source": [
    "salary.describe()"
   ]
  },
  {
   "cell_type": "markdown",
   "id": "6db5d814",
   "metadata": {},
   "source": [
    "### What are the similaraties and differences between pandas series and nnumpy array.Prove it with code."
   ]
  },
  {
   "cell_type": "markdown",
   "id": "e6c0cdf5",
   "metadata": {},
   "source": [
    "Numpy deals with numeric values and homogeneous data types and it is an n-dimensional array\n",
    "\n",
    "Pandas deals with heterogenous data types and it is 1-d array,2-d array, 3-d array\n",
    "\n",
    "Pandas has index numbers where as Numpy does not have Index numbers"
   ]
  },
  {
   "cell_type": "code",
   "execution_count": 55,
   "id": "62acf62a",
   "metadata": {},
   "outputs": [],
   "source": [
    "names = ['Sourav','virat','Akki','raju','suresh']"
   ]
  },
  {
   "cell_type": "code",
   "execution_count": 56,
   "id": "d2c82754",
   "metadata": {},
   "outputs": [
    {
     "data": {
      "text/plain": [
       "array([[['Sourav', 'virat', 'Akki', 'raju', 'suresh']]], dtype='<U6')"
      ]
     },
     "execution_count": 56,
     "metadata": {},
     "output_type": "execute_result"
    }
   ],
   "source": [
    "n1 = np.array(names,ndmin = 3)\n",
    "n1"
   ]
  },
  {
   "cell_type": "code",
   "execution_count": 57,
   "id": "9f0f9d02",
   "metadata": {},
   "outputs": [
    {
     "data": {
      "text/plain": [
       "0    Sourav\n",
       "1     virat\n",
       "2      Akki\n",
       "3      raju\n",
       "4    suresh\n",
       "dtype: object"
      ]
     },
     "execution_count": 57,
     "metadata": {},
     "output_type": "execute_result"
    }
   ],
   "source": [
    "name = pd.Series(names)\n",
    "name"
   ]
  },
  {
   "cell_type": "code",
   "execution_count": 59,
   "id": "e22f9e21",
   "metadata": {},
   "outputs": [
    {
     "data": {
      "text/plain": [
       "3"
      ]
     },
     "execution_count": 59,
     "metadata": {},
     "output_type": "execute_result"
    }
   ],
   "source": [
    "n1.ndim"
   ]
  },
  {
   "cell_type": "code",
   "execution_count": 60,
   "id": "0f2b0a13",
   "metadata": {},
   "outputs": [
    {
     "data": {
      "text/plain": [
       "1"
      ]
     },
     "execution_count": 60,
     "metadata": {},
     "output_type": "execute_result"
    }
   ],
   "source": [
    "name.ndim"
   ]
  },
  {
   "cell_type": "markdown",
   "id": "bf8f92ad",
   "metadata": {},
   "source": [
    "### create pandas series with ranges from 100 to 150 then apply indexing and slicing on it."
   ]
  },
  {
   "cell_type": "code",
   "execution_count": 61,
   "id": "679a6758",
   "metadata": {},
   "outputs": [],
   "source": [
    "a = list(range(100,150))"
   ]
  },
  {
   "cell_type": "code",
   "execution_count": 62,
   "id": "cfdea2c2",
   "metadata": {},
   "outputs": [
    {
     "data": {
      "text/plain": [
       "0     100\n",
       "1     101\n",
       "2     102\n",
       "3     103\n",
       "4     104\n",
       "5     105\n",
       "6     106\n",
       "7     107\n",
       "8     108\n",
       "9     109\n",
       "10    110\n",
       "11    111\n",
       "12    112\n",
       "13    113\n",
       "14    114\n",
       "15    115\n",
       "16    116\n",
       "17    117\n",
       "18    118\n",
       "19    119\n",
       "20    120\n",
       "21    121\n",
       "22    122\n",
       "23    123\n",
       "24    124\n",
       "25    125\n",
       "26    126\n",
       "27    127\n",
       "28    128\n",
       "29    129\n",
       "30    130\n",
       "31    131\n",
       "32    132\n",
       "33    133\n",
       "34    134\n",
       "35    135\n",
       "36    136\n",
       "37    137\n",
       "38    138\n",
       "39    139\n",
       "40    140\n",
       "41    141\n",
       "42    142\n",
       "43    143\n",
       "44    144\n",
       "45    145\n",
       "46    146\n",
       "47    147\n",
       "48    148\n",
       "49    149\n",
       "dtype: int64"
      ]
     },
     "execution_count": 62,
     "metadata": {},
     "output_type": "execute_result"
    }
   ],
   "source": [
    "b = pd.Series(a)\n",
    "b"
   ]
  },
  {
   "cell_type": "code",
   "execution_count": 65,
   "id": "2192e50f",
   "metadata": {},
   "outputs": [
    {
     "data": {
      "text/plain": [
       "118"
      ]
     },
     "execution_count": 65,
     "metadata": {},
     "output_type": "execute_result"
    }
   ],
   "source": [
    "b[18]   # indexing"
   ]
  },
  {
   "cell_type": "code",
   "execution_count": 68,
   "id": "7624784f",
   "metadata": {},
   "outputs": [
    {
     "data": {
      "text/plain": [
       "15    115\n",
       "20    120\n",
       "25    125\n",
       "30    130\n",
       "35    135\n",
       "40    140\n",
       "45    145\n",
       "dtype: int64"
      ]
     },
     "execution_count": 68,
     "metadata": {},
     "output_type": "execute_result"
    }
   ],
   "source": [
    "b[15:50:5]   # slicing"
   ]
  },
  {
   "cell_type": "code",
   "execution_count": null,
   "id": "8e11285b",
   "metadata": {},
   "outputs": [],
   "source": []
  }
 ],
 "metadata": {
  "kernelspec": {
   "display_name": "Python 3 (ipykernel)",
   "language": "python",
   "name": "python3"
  },
  "language_info": {
   "codemirror_mode": {
    "name": "ipython",
    "version": 3
   },
   "file_extension": ".py",
   "mimetype": "text/x-python",
   "name": "python",
   "nbconvert_exporter": "python",
   "pygments_lexer": "ipython3",
   "version": "3.11.4"
  }
 },
 "nbformat": 4,
 "nbformat_minor": 5
}
