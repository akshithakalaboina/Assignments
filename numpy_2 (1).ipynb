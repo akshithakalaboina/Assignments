{
 "cells": [
  {
   "cell_type": "markdown",
   "id": "e4decde1",
   "metadata": {},
   "source": [
    "**Creation of ndarray**\n",
    "\n",
    "1. Write python code to create 3d array in different ways with 15 elements.\n",
    "2. Array Creation:\n",
    "a. Create a 4D NumPy array containing the first 12 positive integers as arr1.\n",
    "b. Create a 3D NumPy array1 with 20 random elements containing integers between 0 and 1.\n",
    "3. Find all attributes of array1 and array2\n",
    "4. Apply measure and describe the data (attributes and descriptive statistics) to above arrays using NumPy.\n",
    "\n",
    "\n",
    "**Array Slicing and Indexing:**\n",
    "\n",
    "a. Creating Arrays:\n",
    "      - Create a 1-dimensional NumPy array  arr1 with the values [0, 11, 26, 73, 42, 51, 6,77, 8,29].\n",
    "      - Create a 2-dimensional NumPy array  arr2  with the values  [[0, 1, 2], [3, 4, 5], [6, 7, 8]].\n",
    "      \n",
    " b.Basic Indexing:\n",
    "      - Print the element at index 3 of  arr1.\n",
    "      - Print the element at row 2, column 1 of  arr2\n",
    "\n",
    "   c. Array Slicing:\n",
    "      - Print the first five elements of `arr1`.\n",
    "      - Print the subarray of `arr2` consisting of the last two rows and the first two columns.\n",
    "       - Print every second element starting from index 1 up to index 7 of `arr1`.\n",
    "\n",
    "\n",
    "\n",
    "\n",
    "\n",
    "\n",
    "\n",
    "**Data Type Manipulation**\n",
    "\n",
    "a. Creating Arrays with Specific Data Types:\n",
    "      - Create a 1-dimensional NumPy array `int_array` with the values `[1, 2, 3, 4, 5]` and the data type `int16`.\n",
    "      - Create a 1-dimensional NumPy array `float_array` with the values `[0.1, 0.2, 0.3, 0.4, 0.5]` and the data type `float64`.\n",
    "      \n",
    "b. Data Type Conversion:\n",
    "      - Convert the `float_array` to an array with data type `int32`. Print the result.\n",
    "      - Convert the `int_array` to an array with data type `float32`. Print the result.\n",
    "\n",
    "**Generating Random Numbers:**\n",
    "\n",
    "1.\tUse numpy.random.randint() to create an array rand_integers containing 10 random integers between 0 and 100 (inclusive).\n",
    "\n",
    "2.\tUse numpy.random.uniform() to create an array rand_uniform containing 5 random numbers sampled from a uniform distribution between -1 and 1.\n",
    "\n",
    "3.\tCreate an array rand_matrix with random integers between 50 and 100 (inclusive).and reshape it to 2-dimensional (4 x 4) matrix\n",
    "\n",
    "4.\tApply descriptive statistics for rand_matrix.\n",
    "\n",
    "\n",
    "**Analyze the Data:**\n",
    "\n",
    "Salaries = [87877, 54494, 54804, 85051, 52453, 31250, 94868, 66349, 39828, 60501, 58570, 74906, 41671, 51428, 56414, 98446, 56819, 82833, 50477, 62898, 99658, 89224, 34225, 79172, 32199, 63795, 90947, 55723, 64557, 3113638]\n",
    "\n",
    "\n",
    "\n",
    "\n",
    "Describe the data using numpy array.\n",
    "Measure the following:\n",
    "1.\tHow many employees are getting more less than 50000?\n",
    "\n",
    "2.\tIs it following Normal Distribution?\n",
    "\n",
    "3.\tWhat is the median salary?\n",
    "\n",
    "4.\tWhat is the range of salaries for this company?\n",
    "\n",
    "5.\tFind the salaries between average salary and 75% of salaries?\n",
    "\n",
    "6.\tHow many employees are getting less than 25 % of salaries ?\n",
    "\n"
   ]
  },
  {
   "cell_type": "code",
   "execution_count": 2,
   "id": "c47eb3d0",
   "metadata": {},
   "outputs": [],
   "source": [
    "import numpy as np"
   ]
  },
  {
   "cell_type": "code",
   "execution_count": 17,
   "id": "72b617fa",
   "metadata": {},
   "outputs": [
    {
     "data": {
      "text/plain": [
       "array([[[ 1,  2,  3,  4,  5,  6,  7,  8,  9, 10, 11, 12, 13, 14, 15]]])"
      ]
     },
     "execution_count": 17,
     "metadata": {},
     "output_type": "execute_result"
    }
   ],
   "source": [
    "array1 = np.array([[[1,2,3,4,5,6,7,8,9,10,11,12,13,14,15]]])\n",
    "array1"
   ]
  },
  {
   "cell_type": "code",
   "execution_count": 18,
   "id": "8fd9885a",
   "metadata": {},
   "outputs": [
    {
     "data": {
      "text/plain": [
       "array([[[ 1,  2,  3,  4,  5,  6,  7,  8,  9, 10, 11, 12, 13, 14, 15]]])"
      ]
     },
     "execution_count": 18,
     "metadata": {},
     "output_type": "execute_result"
    }
   ],
   "source": [
    "array1 = np.array([[[1,2,3,4,5,6,7,8,9,10,11,12,13,14,15]]],ndmin=3)\n",
    "array1"
   ]
  },
  {
   "cell_type": "code",
   "execution_count": 19,
   "id": "fe34ec01",
   "metadata": {},
   "outputs": [
    {
     "data": {
      "text/plain": [
       "array([[[ 1,  2,  3,  4,  5,  6,  7,  8,  9, 10, 11, 12, 13, 14, 15]]])"
      ]
     },
     "execution_count": 19,
     "metadata": {},
     "output_type": "execute_result"
    }
   ],
   "source": [
    "array1.reshape(1,3,5)\n",
    "array1"
   ]
  },
  {
   "cell_type": "code",
   "execution_count": 20,
   "id": "807cf3d4",
   "metadata": {},
   "outputs": [
    {
     "data": {
      "text/plain": [
       "array([[[ 1,  2,  3,  4,  5],\n",
       "        [ 6,  7,  8,  9, 10],\n",
       "        [11, 12, 13, 14, 15]]])"
      ]
     },
     "execution_count": 20,
     "metadata": {},
     "output_type": "execute_result"
    }
   ],
   "source": [
    "array1 = np.arange(1,16).reshape(1,3,5)\n",
    "array1"
   ]
  },
  {
   "cell_type": "code",
   "execution_count": 21,
   "id": "2e869ad7",
   "metadata": {},
   "outputs": [
    {
     "data": {
      "text/plain": [
       "array([[[[ 1,  2,  3],\n",
       "         [ 4,  5,  6],\n",
       "         [ 7,  8,  9],\n",
       "         [10, 11, 12]]]])"
      ]
     },
     "execution_count": 21,
     "metadata": {},
     "output_type": "execute_result"
    }
   ],
   "source": [
    "arr1 = np.arange(1,13).reshape(1,1,4,3)\n",
    "arr1"
   ]
  },
  {
   "cell_type": "code",
   "execution_count": 22,
   "id": "b6900fad",
   "metadata": {},
   "outputs": [
    {
     "data": {
      "text/plain": [
       "array([[[0.69395208, 0.84992033, 0.71218149, 0.64199686, 0.43673968],\n",
       "        [0.02438406, 0.6032218 , 0.25317417, 0.44271521, 0.9875729 ],\n",
       "        [0.29578809, 0.49001196, 0.95394752, 0.19374204, 0.72345519],\n",
       "        [0.95345183, 0.39029761, 0.67432885, 0.98887351, 0.67204173]]])"
      ]
     },
     "execution_count": 22,
     "metadata": {},
     "output_type": "execute_result"
    }
   ],
   "source": [
    "array2 = np.random.rand(20).reshape(1,4,5)\n",
    "array2"
   ]
  },
  {
   "cell_type": "markdown",
   "id": "ac5df935",
   "metadata": {},
   "source": [
    "### Attributes of arr1"
   ]
  },
  {
   "cell_type": "code",
   "execution_count": 23,
   "id": "1c2294ec",
   "metadata": {},
   "outputs": [
    {
     "data": {
      "text/plain": [
       "array([[[[ 1,  2,  3],\n",
       "         [ 4,  5,  6],\n",
       "         [ 7,  8,  9],\n",
       "         [10, 11, 12]]]])"
      ]
     },
     "execution_count": 23,
     "metadata": {},
     "output_type": "execute_result"
    }
   ],
   "source": [
    "arr1"
   ]
  },
  {
   "cell_type": "code",
   "execution_count": 29,
   "id": "6fc665b8",
   "metadata": {},
   "outputs": [
    {
     "data": {
      "text/plain": [
       "dtype('int32')"
      ]
     },
     "execution_count": 29,
     "metadata": {},
     "output_type": "execute_result"
    }
   ],
   "source": [
    "arr1.dtype"
   ]
  },
  {
   "cell_type": "code",
   "execution_count": 24,
   "id": "221e4712",
   "metadata": {},
   "outputs": [
    {
     "data": {
      "text/plain": [
       "4"
      ]
     },
     "execution_count": 24,
     "metadata": {},
     "output_type": "execute_result"
    }
   ],
   "source": [
    "arr1.ndim"
   ]
  },
  {
   "cell_type": "code",
   "execution_count": 26,
   "id": "56b17cb9",
   "metadata": {},
   "outputs": [
    {
     "data": {
      "text/plain": [
       "12"
      ]
     },
     "execution_count": 26,
     "metadata": {},
     "output_type": "execute_result"
    }
   ],
   "source": [
    "arr1.size"
   ]
  },
  {
   "cell_type": "code",
   "execution_count": 27,
   "id": "0504cf98",
   "metadata": {},
   "outputs": [
    {
     "data": {
      "text/plain": [
       "4"
      ]
     },
     "execution_count": 27,
     "metadata": {},
     "output_type": "execute_result"
    }
   ],
   "source": [
    "arr1.itemsize"
   ]
  },
  {
   "cell_type": "code",
   "execution_count": 28,
   "id": "129ac16a",
   "metadata": {},
   "outputs": [
    {
     "data": {
      "text/plain": [
       "48"
      ]
     },
     "execution_count": 28,
     "metadata": {},
     "output_type": "execute_result"
    }
   ],
   "source": [
    "arr1.nbytes"
   ]
  },
  {
   "cell_type": "markdown",
   "id": "b2c6a63d",
   "metadata": {},
   "source": [
    "### Attributes of array2"
   ]
  },
  {
   "cell_type": "code",
   "execution_count": 31,
   "id": "0cccb135",
   "metadata": {},
   "outputs": [
    {
     "data": {
      "text/plain": [
       "array([[[0.69395208, 0.84992033, 0.71218149, 0.64199686, 0.43673968],\n",
       "        [0.02438406, 0.6032218 , 0.25317417, 0.44271521, 0.9875729 ],\n",
       "        [0.29578809, 0.49001196, 0.95394752, 0.19374204, 0.72345519],\n",
       "        [0.95345183, 0.39029761, 0.67432885, 0.98887351, 0.67204173]]])"
      ]
     },
     "execution_count": 31,
     "metadata": {},
     "output_type": "execute_result"
    }
   ],
   "source": [
    "array2"
   ]
  },
  {
   "cell_type": "code",
   "execution_count": 32,
   "id": "5147f1c4",
   "metadata": {},
   "outputs": [
    {
     "data": {
      "text/plain": [
       "dtype('float64')"
      ]
     },
     "execution_count": 32,
     "metadata": {},
     "output_type": "execute_result"
    }
   ],
   "source": [
    "array2.dtype"
   ]
  },
  {
   "cell_type": "code",
   "execution_count": 33,
   "id": "549097c2",
   "metadata": {},
   "outputs": [
    {
     "data": {
      "text/plain": [
       "3"
      ]
     },
     "execution_count": 33,
     "metadata": {},
     "output_type": "execute_result"
    }
   ],
   "source": [
    "array2.ndim"
   ]
  },
  {
   "cell_type": "code",
   "execution_count": 34,
   "id": "7662cc7c",
   "metadata": {},
   "outputs": [
    {
     "data": {
      "text/plain": [
       "8"
      ]
     },
     "execution_count": 34,
     "metadata": {},
     "output_type": "execute_result"
    }
   ],
   "source": [
    "array2.itemsize"
   ]
  },
  {
   "cell_type": "code",
   "execution_count": 35,
   "id": "fe117e5f",
   "metadata": {},
   "outputs": [
    {
     "data": {
      "text/plain": [
       "160"
      ]
     },
     "execution_count": 35,
     "metadata": {},
     "output_type": "execute_result"
    }
   ],
   "source": [
    "array2.nbytes"
   ]
  },
  {
   "cell_type": "code",
   "execution_count": 36,
   "id": "f8380878",
   "metadata": {},
   "outputs": [
    {
     "data": {
      "text/plain": [
       "20"
      ]
     },
     "execution_count": 36,
     "metadata": {},
     "output_type": "execute_result"
    }
   ],
   "source": [
    "array2.size"
   ]
  },
  {
   "cell_type": "markdown",
   "id": "bccb0365",
   "metadata": {},
   "source": [
    "### Applying Descriptive statistics on arr1"
   ]
  },
  {
   "cell_type": "code",
   "execution_count": 37,
   "id": "59c454ac",
   "metadata": {},
   "outputs": [
    {
     "data": {
      "text/plain": [
       "array([[[[ 1,  2,  3],\n",
       "         [ 4,  5,  6],\n",
       "         [ 7,  8,  9],\n",
       "         [10, 11, 12]]]])"
      ]
     },
     "execution_count": 37,
     "metadata": {},
     "output_type": "execute_result"
    }
   ],
   "source": [
    "arr1"
   ]
  },
  {
   "cell_type": "code",
   "execution_count": 38,
   "id": "d9bd99ae",
   "metadata": {},
   "outputs": [
    {
     "data": {
      "text/plain": [
       "6.5"
      ]
     },
     "execution_count": 38,
     "metadata": {},
     "output_type": "execute_result"
    }
   ],
   "source": [
    "arr1.mean()"
   ]
  },
  {
   "cell_type": "code",
   "execution_count": 40,
   "id": "4b15ab81",
   "metadata": {},
   "outputs": [
    {
     "data": {
      "text/plain": [
       "6.5"
      ]
     },
     "execution_count": 40,
     "metadata": {},
     "output_type": "execute_result"
    }
   ],
   "source": [
    "np.median(arr1)"
   ]
  },
  {
   "cell_type": "code",
   "execution_count": 41,
   "id": "226cf336",
   "metadata": {},
   "outputs": [
    {
     "data": {
      "text/plain": [
       "11.916666666666666"
      ]
     },
     "execution_count": 41,
     "metadata": {},
     "output_type": "execute_result"
    }
   ],
   "source": [
    "arr1.var()"
   ]
  },
  {
   "cell_type": "code",
   "execution_count": 42,
   "id": "baeecffd",
   "metadata": {},
   "outputs": [
    {
     "data": {
      "text/plain": [
       "3.452052529534663"
      ]
     },
     "execution_count": 42,
     "metadata": {},
     "output_type": "execute_result"
    }
   ],
   "source": [
    "arr1.std()"
   ]
  },
  {
   "cell_type": "code",
   "execution_count": 43,
   "id": "fa78f569",
   "metadata": {},
   "outputs": [
    {
     "data": {
      "text/plain": [
       "11"
      ]
     },
     "execution_count": 43,
     "metadata": {},
     "output_type": "execute_result"
    }
   ],
   "source": [
    "range = arr1.max()-arr1.min()\n",
    "range"
   ]
  },
  {
   "cell_type": "code",
   "execution_count": 44,
   "id": "dba81649",
   "metadata": {},
   "outputs": [
    {
     "data": {
      "text/plain": [
       "3.75"
      ]
     },
     "execution_count": 44,
     "metadata": {},
     "output_type": "execute_result"
    }
   ],
   "source": [
    "q1 = np.percentile(arr1,25)\n",
    "q1"
   ]
  },
  {
   "cell_type": "code",
   "execution_count": 45,
   "id": "9d323103",
   "metadata": {},
   "outputs": [
    {
     "data": {
      "text/plain": [
       "9.25"
      ]
     },
     "execution_count": 45,
     "metadata": {},
     "output_type": "execute_result"
    }
   ],
   "source": [
    "q3 = np.percentile(arr1,75)\n",
    "q3"
   ]
  },
  {
   "cell_type": "code",
   "execution_count": 46,
   "id": "9bc8972e",
   "metadata": {},
   "outputs": [
    {
     "data": {
      "text/plain": [
       "5.5"
      ]
     },
     "execution_count": 46,
     "metadata": {},
     "output_type": "execute_result"
    }
   ],
   "source": [
    "IQR = q3 - q1\n",
    "IQR"
   ]
  },
  {
   "cell_type": "code",
   "execution_count": 47,
   "id": "642d75dc",
   "metadata": {},
   "outputs": [
    {
     "data": {
      "text/plain": [
       "-4.5"
      ]
     },
     "execution_count": 47,
     "metadata": {},
     "output_type": "execute_result"
    }
   ],
   "source": [
    "lower_limit = q1 - (1.5 * IQR)\n",
    "lower_limit"
   ]
  },
  {
   "cell_type": "code",
   "execution_count": 48,
   "id": "b8f269ef",
   "metadata": {},
   "outputs": [
    {
     "data": {
      "text/plain": [
       "17.5"
      ]
     },
     "execution_count": 48,
     "metadata": {},
     "output_type": "execute_result"
    }
   ],
   "source": [
    "upper_limit = q3  +  (1.5 * IQR)\n",
    "upper_limit"
   ]
  },
  {
   "cell_type": "code",
   "execution_count": 49,
   "id": "570b2678",
   "metadata": {},
   "outputs": [
    {
     "data": {
      "text/plain": [
       "array([], dtype=int32)"
      ]
     },
     "execution_count": 49,
     "metadata": {},
     "output_type": "execute_result"
    }
   ],
   "source": [
    "arr1[arr1<lower_limit]"
   ]
  },
  {
   "cell_type": "code",
   "execution_count": 51,
   "id": "80df65d3",
   "metadata": {},
   "outputs": [
    {
     "data": {
      "text/plain": [
       "array([], dtype=int32)"
      ]
     },
     "execution_count": 51,
     "metadata": {},
     "output_type": "execute_result"
    }
   ],
   "source": [
    "arr1[arr1>upper_limit]"
   ]
  },
  {
   "cell_type": "markdown",
   "id": "eb2e7f9f",
   "metadata": {},
   "source": [
    "### Applying Descriptive statistics on array2\n"
   ]
  },
  {
   "cell_type": "code",
   "execution_count": 52,
   "id": "2d46e94d",
   "metadata": {},
   "outputs": [
    {
     "data": {
      "text/plain": [
       "array([[[0.69395208, 0.84992033, 0.71218149, 0.64199686, 0.43673968],\n",
       "        [0.02438406, 0.6032218 , 0.25317417, 0.44271521, 0.9875729 ],\n",
       "        [0.29578809, 0.49001196, 0.95394752, 0.19374204, 0.72345519],\n",
       "        [0.95345183, 0.39029761, 0.67432885, 0.98887351, 0.67204173]]])"
      ]
     },
     "execution_count": 52,
     "metadata": {},
     "output_type": "execute_result"
    }
   ],
   "source": [
    "array2"
   ]
  },
  {
   "cell_type": "code",
   "execution_count": 54,
   "id": "cade1b63",
   "metadata": {},
   "outputs": [
    {
     "data": {
      "text/plain": [
       "0.5990898455683789"
      ]
     },
     "execution_count": 54,
     "metadata": {},
     "output_type": "execute_result"
    }
   ],
   "source": [
    "array2.mean()"
   ]
  },
  {
   "cell_type": "code",
   "execution_count": 56,
   "id": "c671709f",
   "metadata": {},
   "outputs": [
    {
     "data": {
      "text/plain": [
       "0.6570192954081466"
      ]
     },
     "execution_count": 56,
     "metadata": {},
     "output_type": "execute_result"
    }
   ],
   "source": [
    "np.median(array2)"
   ]
  },
  {
   "cell_type": "code",
   "execution_count": 58,
   "id": "287a4b38",
   "metadata": {},
   "outputs": [
    {
     "data": {
      "text/plain": [
       "0.9644894525512594"
      ]
     },
     "execution_count": 58,
     "metadata": {},
     "output_type": "execute_result"
    }
   ],
   "source": [
    "range = array2.max()-array2.min()\n",
    "range"
   ]
  },
  {
   "cell_type": "code",
   "execution_count": 59,
   "id": "c7f01b62",
   "metadata": {},
   "outputs": [
    {
     "data": {
      "text/plain": [
       "0.0739952480289042"
      ]
     },
     "execution_count": 59,
     "metadata": {},
     "output_type": "execute_result"
    }
   ],
   "source": [
    "array2.var()"
   ]
  },
  {
   "cell_type": "code",
   "execution_count": 60,
   "id": "65bfe02d",
   "metadata": {},
   "outputs": [
    {
     "data": {
      "text/plain": [
       "0.27202067573790084"
      ]
     },
     "execution_count": 60,
     "metadata": {},
     "output_type": "execute_result"
    }
   ],
   "source": [
    "array2.std()"
   ]
  },
  {
   "cell_type": "code",
   "execution_count": 62,
   "id": "5c11e594",
   "metadata": {},
   "outputs": [
    {
     "data": {
      "text/plain": [
       "0.42512916178706556"
      ]
     },
     "execution_count": 62,
     "metadata": {},
     "output_type": "execute_result"
    }
   ],
   "source": [
    "q1 = np.percentile(array2,25)\n",
    "q1"
   ]
  },
  {
   "cell_type": "code",
   "execution_count": 63,
   "id": "bef534c9",
   "metadata": {},
   "outputs": [
    {
     "data": {
      "text/plain": [
       "0.7550714758817063"
      ]
     },
     "execution_count": 63,
     "metadata": {},
     "output_type": "execute_result"
    }
   ],
   "source": [
    "q3 = np.percentile(array2,75)\n",
    "q3"
   ]
  },
  {
   "cell_type": "code",
   "execution_count": 64,
   "id": "1aa09488",
   "metadata": {},
   "outputs": [
    {
     "data": {
      "text/plain": [
       "0.32994231409464075"
      ]
     },
     "execution_count": 64,
     "metadata": {},
     "output_type": "execute_result"
    }
   ],
   "source": [
    "IQR = q3-q1\n",
    "IQR"
   ]
  },
  {
   "cell_type": "code",
   "execution_count": 65,
   "id": "10f087c0",
   "metadata": {},
   "outputs": [
    {
     "data": {
      "text/plain": [
       "-0.0697843093548956"
      ]
     },
     "execution_count": 65,
     "metadata": {},
     "output_type": "execute_result"
    }
   ],
   "source": [
    "lower_limit = q1 - (1.5*IQR)\n",
    "lower_limit"
   ]
  },
  {
   "cell_type": "code",
   "execution_count": 66,
   "id": "e81de500",
   "metadata": {},
   "outputs": [
    {
     "data": {
      "text/plain": [
       "1.2499849470236675"
      ]
     },
     "execution_count": 66,
     "metadata": {},
     "output_type": "execute_result"
    }
   ],
   "source": [
    "upper_limit = q3 + (1.5*IQR)\n",
    "upper_limit"
   ]
  },
  {
   "cell_type": "code",
   "execution_count": 68,
   "id": "f2e90f5d",
   "metadata": {},
   "outputs": [
    {
     "data": {
      "text/plain": [
       "array([], dtype=float64)"
      ]
     },
     "execution_count": 68,
     "metadata": {},
     "output_type": "execute_result"
    }
   ],
   "source": [
    "array2[array2<lower_limit]"
   ]
  },
  {
   "cell_type": "code",
   "execution_count": 69,
   "id": "5803a72c",
   "metadata": {},
   "outputs": [
    {
     "data": {
      "text/plain": [
       "array([], dtype=float64)"
      ]
     },
     "execution_count": 69,
     "metadata": {},
     "output_type": "execute_result"
    }
   ],
   "source": [
    "array2[array2>upper_limit]"
   ]
  },
  {
   "cell_type": "markdown",
   "id": "b92c80dd",
   "metadata": {},
   "source": [
    "### Array Slicing and Indexing:\n",
    "\n",
    "a. Creating Arrays: - Create a 1-dimensional NumPy array arr1 with the values [0, 11, 26, 73, 42, 51, 6,77, 8,29]. - Create a 2-dimensional NumPy array arr2 with the values [[0, 1, 2], [3, 4, 5], [6, 7, 8]].\n",
    "\n",
    "b.Basic Indexing: - Print the element at index 3 of arr1. - Print the element at row 2, column 1 of arr2\n",
    "\n",
    "c. Array Slicing: - Print the first five elements of arr1. - Print the subarray of arr2 consisting of the last two rows and the first two columns. - Print every second element starting from index 1 up to index 7 of arr1."
   ]
  },
  {
   "cell_type": "code",
   "execution_count": 71,
   "id": "a46b02fe",
   "metadata": {},
   "outputs": [
    {
     "data": {
      "text/plain": [
       "array([ 0, 11, 26, 73, 42, 51,  6, 77,  8, 29])"
      ]
     },
     "execution_count": 71,
     "metadata": {},
     "output_type": "execute_result"
    }
   ],
   "source": [
    "n1 = np.array([0, 11, 26, 73, 42, 51, 6,77, 8,29])\n",
    "n1"
   ]
  },
  {
   "cell_type": "code",
   "execution_count": 72,
   "id": "b5700d5e",
   "metadata": {},
   "outputs": [
    {
     "data": {
      "text/plain": [
       "array([[0, 1, 2],\n",
       "       [3, 4, 5],\n",
       "       [6, 7, 8]])"
      ]
     },
     "execution_count": 72,
     "metadata": {},
     "output_type": "execute_result"
    }
   ],
   "source": [
    "n2 = np.array([[0, 1, 2], [3, 4, 5], [6, 7, 8]])\n",
    "n2"
   ]
  },
  {
   "cell_type": "code",
   "execution_count": 73,
   "id": "be11be6b",
   "metadata": {},
   "outputs": [
    {
     "data": {
      "text/plain": [
       "73"
      ]
     },
     "execution_count": 73,
     "metadata": {},
     "output_type": "execute_result"
    }
   ],
   "source": [
    "n1[3]"
   ]
  },
  {
   "cell_type": "code",
   "execution_count": 74,
   "id": "a8d16479",
   "metadata": {},
   "outputs": [
    {
     "data": {
      "text/plain": [
       "7"
      ]
     },
     "execution_count": 74,
     "metadata": {},
     "output_type": "execute_result"
    }
   ],
   "source": [
    "n2[2][1]"
   ]
  },
  {
   "cell_type": "code",
   "execution_count": 75,
   "id": "d7046075",
   "metadata": {},
   "outputs": [
    {
     "data": {
      "text/plain": [
       "array([ 0, 11, 26, 73, 42])"
      ]
     },
     "execution_count": 75,
     "metadata": {},
     "output_type": "execute_result"
    }
   ],
   "source": [
    "n1[:5]"
   ]
  },
  {
   "cell_type": "code",
   "execution_count": 76,
   "id": "3d6356f9",
   "metadata": {},
   "outputs": [
    {
     "data": {
      "text/plain": [
       "array([[3, 4],\n",
       "       [6, 7]])"
      ]
     },
     "execution_count": 76,
     "metadata": {},
     "output_type": "execute_result"
    }
   ],
   "source": [
    "n2[1:,0:2]"
   ]
  },
  {
   "cell_type": "code",
   "execution_count": 77,
   "id": "1fb42bad",
   "metadata": {},
   "outputs": [
    {
     "data": {
      "text/plain": [
       "array([11, 26, 73, 42, 51,  6, 77])"
      ]
     },
     "execution_count": 77,
     "metadata": {},
     "output_type": "execute_result"
    }
   ],
   "source": [
    "n1[1:8]"
   ]
  },
  {
   "cell_type": "markdown",
   "id": "2269753a",
   "metadata": {},
   "source": [
    "### Data Type Manipulation\n",
    "\n",
    "a. Creating Arrays with Specific Data Types: - Create a 1-dimensional NumPy array int_array with the values [1, 2, 3, 4, 5] and the data type int16. - Create a 1-dimensional NumPy array float_array with the values [0.1, 0.2, 0.3, 0.4, 0.5] and the data type float64.\n",
    "\n",
    "b. Data Type Conversion: - Convert the float_array to an array with data type int32. Print the result. - Convert the int_array to an array with data type float32. Print the result."
   ]
  },
  {
   "cell_type": "code",
   "execution_count": 78,
   "id": "3a1ea66d",
   "metadata": {},
   "outputs": [],
   "source": [
    "a = np.array([1, 2, 3, 4, 5],dtype = \"int16\")"
   ]
  },
  {
   "cell_type": "code",
   "execution_count": 80,
   "id": "0671dd8f",
   "metadata": {},
   "outputs": [
    {
     "data": {
      "text/plain": [
       "dtype('int16')"
      ]
     },
     "execution_count": 80,
     "metadata": {},
     "output_type": "execute_result"
    }
   ],
   "source": [
    "a.dtype"
   ]
  },
  {
   "cell_type": "code",
   "execution_count": 81,
   "id": "c902b074",
   "metadata": {},
   "outputs": [],
   "source": [
    "a = np.array([0.1, 0.2, 0.3, 0.4, 0.5],dtype = \"float64\")"
   ]
  },
  {
   "cell_type": "code",
   "execution_count": 82,
   "id": "976f29bc",
   "metadata": {},
   "outputs": [
    {
     "data": {
      "text/plain": [
       "dtype('float64')"
      ]
     },
     "execution_count": 82,
     "metadata": {},
     "output_type": "execute_result"
    }
   ],
   "source": [
    "a.dtype"
   ]
  },
  {
   "cell_type": "code",
   "execution_count": 83,
   "id": "671a2d6d",
   "metadata": {},
   "outputs": [
    {
     "data": {
      "text/plain": [
       "dtype('int32')"
      ]
     },
     "execution_count": 83,
     "metadata": {},
     "output_type": "execute_result"
    }
   ],
   "source": [
    "b = np.array([0.1, 0.2, 0.3, 0.4, 0.5],dtype = \"int32\")\n",
    "b.dtype"
   ]
  },
  {
   "cell_type": "code",
   "execution_count": 84,
   "id": "595a0a18",
   "metadata": {},
   "outputs": [
    {
     "data": {
      "text/plain": [
       "array([1., 2., 3., 4., 5.], dtype=float32)"
      ]
     },
     "execution_count": 84,
     "metadata": {},
     "output_type": "execute_result"
    }
   ],
   "source": [
    "c = np.array([1, 2, 3, 4, 5],dtype = \"float32\")\n",
    "c"
   ]
  },
  {
   "cell_type": "markdown",
   "id": "a8e84d0d",
   "metadata": {},
   "source": [
    "### Generating Random Numbers:\n",
    "\n",
    "Use numpy.random.randint() to create an array rand_integers containing 10 random integers between 0 and 100 (inclusive).\n",
    "\n",
    "Use numpy.random.uniform() to create an array rand_uniform containing 5 random numbers sampled from a uniform distribution between -1 and 1.\n",
    "\n",
    "Create an array rand_matrix with random integers between 50 and 100 (inclusive).and reshape it to 2-dimensional (4 x 4) matrix\n",
    "\n",
    "Apply descriptive statistics for rand_matrix."
   ]
  },
  {
   "cell_type": "code",
   "execution_count": 85,
   "id": "3e214f87",
   "metadata": {},
   "outputs": [
    {
     "data": {
      "text/plain": [
       "array([18, 44, 97, 29,  9, 24, 36, 45, 97, 44])"
      ]
     },
     "execution_count": 85,
     "metadata": {},
     "output_type": "execute_result"
    }
   ],
   "source": [
    "n = np.random.randint(0,101,10)\n",
    "n"
   ]
  },
  {
   "cell_type": "code",
   "execution_count": 86,
   "id": "89e876bc",
   "metadata": {},
   "outputs": [
    {
     "data": {
      "text/plain": [
       "array([ 0.43541692, -0.85143422,  0.32525762, -0.44649465,  0.15702274])"
      ]
     },
     "execution_count": 86,
     "metadata": {},
     "output_type": "execute_result"
    }
   ],
   "source": [
    "np.random.uniform(-1,1,5)"
   ]
  },
  {
   "cell_type": "code",
   "execution_count": 87,
   "id": "3d593c38",
   "metadata": {},
   "outputs": [
    {
     "data": {
      "text/plain": [
       "array([[78, 94, 80, 79],\n",
       "       [99, 50, 83, 78],\n",
       "       [62, 70, 62, 65],\n",
       "       [82, 73, 68, 89]])"
      ]
     },
     "execution_count": 87,
     "metadata": {},
     "output_type": "execute_result"
    }
   ],
   "source": [
    "rand_matrix = np.random.randint(50,101,16).reshape(4,4)\n",
    "rand_matrix"
   ]
  },
  {
   "cell_type": "markdown",
   "id": "808372af",
   "metadata": {},
   "source": [
    "### Descriptive statistics for rand_matrix."
   ]
  },
  {
   "cell_type": "code",
   "execution_count": 88,
   "id": "43104969",
   "metadata": {},
   "outputs": [
    {
     "data": {
      "text/plain": [
       "75.75"
      ]
     },
     "execution_count": 88,
     "metadata": {},
     "output_type": "execute_result"
    }
   ],
   "source": [
    "rand_matrix.mean()"
   ]
  },
  {
   "cell_type": "code",
   "execution_count": 89,
   "id": "c11eb06c",
   "metadata": {},
   "outputs": [
    {
     "data": {
      "text/plain": [
       "78.0"
      ]
     },
     "execution_count": 89,
     "metadata": {},
     "output_type": "execute_result"
    }
   ],
   "source": [
    "np.median(rand_matrix)"
   ]
  },
  {
   "cell_type": "code",
   "execution_count": 90,
   "id": "132a78bc",
   "metadata": {},
   "outputs": [
    {
     "data": {
      "text/plain": [
       "array([[78, 94, 80, 79],\n",
       "       [99, 50, 83, 78],\n",
       "       [62, 70, 62, 65],\n",
       "       [82, 73, 68, 89]])"
      ]
     },
     "execution_count": 90,
     "metadata": {},
     "output_type": "execute_result"
    }
   ],
   "source": [
    "rand_matrix.max()-rand_matrix.min()\n",
    "rand_matrix"
   ]
  },
  {
   "cell_type": "code",
   "execution_count": 91,
   "id": "3be3d286",
   "metadata": {},
   "outputs": [
    {
     "data": {
      "text/plain": [
       "12.341495047197483"
      ]
     },
     "execution_count": 91,
     "metadata": {},
     "output_type": "execute_result"
    }
   ],
   "source": [
    "rand_matrix.std()"
   ]
  },
  {
   "cell_type": "code",
   "execution_count": 92,
   "id": "3ddb4d31",
   "metadata": {},
   "outputs": [
    {
     "data": {
      "text/plain": [
       "152.3125"
      ]
     },
     "execution_count": 92,
     "metadata": {},
     "output_type": "execute_result"
    }
   ],
   "source": [
    "rand_matrix.var()"
   ]
  },
  {
   "cell_type": "code",
   "execution_count": 93,
   "id": "f9a17f3c",
   "metadata": {},
   "outputs": [
    {
     "data": {
      "text/plain": [
       "67.25"
      ]
     },
     "execution_count": 93,
     "metadata": {},
     "output_type": "execute_result"
    }
   ],
   "source": [
    "q1 = np.percentile(rand_matrix,25)\n",
    "q1"
   ]
  },
  {
   "cell_type": "code",
   "execution_count": 94,
   "id": "19653f7d",
   "metadata": {},
   "outputs": [
    {
     "data": {
      "text/plain": [
       "82.25"
      ]
     },
     "execution_count": 94,
     "metadata": {},
     "output_type": "execute_result"
    }
   ],
   "source": [
    "q3 = np.percentile(rand_matrix,75)\n",
    "q3"
   ]
  },
  {
   "cell_type": "code",
   "execution_count": 95,
   "id": "4874bb8d",
   "metadata": {},
   "outputs": [
    {
     "data": {
      "text/plain": [
       "15.0"
      ]
     },
     "execution_count": 95,
     "metadata": {},
     "output_type": "execute_result"
    }
   ],
   "source": [
    "IQR = q3-q1\n",
    "IQR"
   ]
  },
  {
   "cell_type": "code",
   "execution_count": 96,
   "id": "41305df9",
   "metadata": {},
   "outputs": [
    {
     "data": {
      "text/plain": [
       "44.75"
      ]
     },
     "execution_count": 96,
     "metadata": {},
     "output_type": "execute_result"
    }
   ],
   "source": [
    "lower = q1 - (1.5 * IQR)\n",
    "lower"
   ]
  },
  {
   "cell_type": "code",
   "execution_count": 97,
   "id": "9243d04f",
   "metadata": {},
   "outputs": [
    {
     "data": {
      "text/plain": [
       "104.75"
      ]
     },
     "execution_count": 97,
     "metadata": {},
     "output_type": "execute_result"
    }
   ],
   "source": [
    "upper = q3 + (1.5 * IQR)\n",
    "upper"
   ]
  },
  {
   "cell_type": "code",
   "execution_count": 98,
   "id": "ae4e3343",
   "metadata": {},
   "outputs": [
    {
     "data": {
      "text/plain": [
       "array([], dtype=int32)"
      ]
     },
     "execution_count": 98,
     "metadata": {},
     "output_type": "execute_result"
    }
   ],
   "source": [
    "rand_matrix[rand_matrix < lower]"
   ]
  },
  {
   "cell_type": "code",
   "execution_count": 99,
   "id": "96def8df",
   "metadata": {},
   "outputs": [
    {
     "data": {
      "text/plain": [
       "array([], dtype=int32)"
      ]
     },
     "execution_count": 99,
     "metadata": {},
     "output_type": "execute_result"
    }
   ],
   "source": [
    "rand_matrix[rand_matrix > upper]"
   ]
  },
  {
   "cell_type": "markdown",
   "id": "6c0b4c9a",
   "metadata": {},
   "source": [
    "### Analyze the Data:\n",
    "\n",
    "Salaries = [87877, 54494, 54804, 85051, 52453, 31250, 94868, 66349, 39828, 60501, 58570, 74906, 41671, 51428, 56414, 98446, 56819, 82833, 50477, 62898, 99658, 89224, 34225, 79172, 32199, 63795, 90947, 55723, 64557, 3113638]\n",
    "\n",
    "Describe the data using numpy array. Measure the following: 1. How many employees are getting more less than 50000?\n",
    "\n",
    "Is it following Normal Distribution?\n",
    "\n",
    "What is the median salary?\n",
    "\n",
    "What is the range of salaries for this company?\n",
    "\n",
    "Find the salaries between average salary and 75% of salaries?\n",
    "\n",
    "How many employees are getting less than 25 % of salaries ?"
   ]
  },
  {
   "cell_type": "code",
   "execution_count": 6,
   "id": "9114ebeb",
   "metadata": {},
   "outputs": [],
   "source": [
    "salaries = np.array([87877, 54494, 54804, 85051, 52453, 31250, 94868, 66349, 39828, 60501, 58570, 74906, 41671, 51428, 56414, 98446, 56819, 82833, 50477, 62898, 99658, 89224, 34225, 79172, 32199, 63795, 90947, 55723, 64557, 3113638])"
   ]
  },
  {
   "cell_type": "code",
   "execution_count": 7,
   "id": "07e11040",
   "metadata": {},
   "outputs": [
    {
     "data": {
      "text/plain": [
       "array([31250, 39828, 41671, 34225, 32199])"
      ]
     },
     "execution_count": 7,
     "metadata": {},
     "output_type": "execute_result"
    }
   ],
   "source": [
    "salaries[salaries < 50000]"
   ]
  },
  {
   "cell_type": "code",
   "execution_count": 16,
   "id": "79fbda76",
   "metadata": {},
   "outputs": [
    {
     "data": {
      "text/plain": [
       "61699.5"
      ]
     },
     "execution_count": 16,
     "metadata": {},
     "output_type": "execute_result"
    }
   ],
   "source": [
    "np.median(salaries)  # median salary"
   ]
  },
  {
   "cell_type": "code",
   "execution_count": 17,
   "id": "39930149",
   "metadata": {},
   "outputs": [
    {
     "data": {
      "text/plain": [
       "3082388"
      ]
     },
     "execution_count": 17,
     "metadata": {},
     "output_type": "execute_result"
    }
   ],
   "source": [
    "salaries.max() - salaries.min() # range"
   ]
  },
  {
   "cell_type": "code",
   "execution_count": 12,
   "id": "79473c2e",
   "metadata": {},
   "outputs": [
    {
     "data": {
      "text/plain": [
       "166169.16666666666"
      ]
     },
     "execution_count": 12,
     "metadata": {},
     "output_type": "execute_result"
    }
   ],
   "source": [
    "avg = salaries.mean()\n",
    "avg"
   ]
  },
  {
   "cell_type": "code",
   "execution_count": 13,
   "id": "a43a11a0",
   "metadata": {},
   "outputs": [
    {
     "data": {
      "text/plain": [
       "52963.25"
      ]
     },
     "execution_count": 13,
     "metadata": {},
     "output_type": "execute_result"
    }
   ],
   "source": [
    "q1 = np.percentile(salaries,25)\n",
    "q1"
   ]
  },
  {
   "cell_type": "code",
   "execution_count": 14,
   "id": "6c884902",
   "metadata": {},
   "outputs": [
    {
     "data": {
      "text/plain": [
       "84496.5"
      ]
     },
     "execution_count": 14,
     "metadata": {},
     "output_type": "execute_result"
    }
   ],
   "source": [
    "q3 = np.percentile(salaries,75)\n",
    "q3"
   ]
  },
  {
   "cell_type": "code",
   "execution_count": 15,
   "id": "9cc6a75c",
   "metadata": {},
   "outputs": [
    {
     "data": {
      "text/plain": [
       "array([], dtype=int32)"
      ]
     },
     "execution_count": 15,
     "metadata": {},
     "output_type": "execute_result"
    }
   ],
   "source": [
    "salaries[(salaries > avg) & (salaries <= q3)]"
   ]
  },
  {
   "cell_type": "code",
   "execution_count": 19,
   "id": "77e7c4ce",
   "metadata": {},
   "outputs": [
    {
     "data": {
      "text/plain": [
       "31533.25"
      ]
     },
     "execution_count": 19,
     "metadata": {},
     "output_type": "execute_result"
    }
   ],
   "source": [
    "IQR = q3-q1\n",
    "IQR                   # finding outliers"
   ]
  },
  {
   "cell_type": "code",
   "execution_count": 20,
   "id": "2d7463cb",
   "metadata": {},
   "outputs": [
    {
     "data": {
      "text/plain": [
       "5663.375"
      ]
     },
     "execution_count": 20,
     "metadata": {},
     "output_type": "execute_result"
    }
   ],
   "source": [
    "lower = q1 - (1.5 * IQR)\n",
    "lower"
   ]
  },
  {
   "cell_type": "code",
   "execution_count": 21,
   "id": "2bf4812f",
   "metadata": {},
   "outputs": [
    {
     "data": {
      "text/plain": [
       "131796.375"
      ]
     },
     "execution_count": 21,
     "metadata": {},
     "output_type": "execute_result"
    }
   ],
   "source": [
    "upper = q3 + (1.5 * IQR)\n",
    "upper"
   ]
  },
  {
   "cell_type": "code",
   "execution_count": 22,
   "id": "af007cb2",
   "metadata": {},
   "outputs": [
    {
     "data": {
      "text/plain": [
       "array([], dtype=int32)"
      ]
     },
     "execution_count": 22,
     "metadata": {},
     "output_type": "execute_result"
    }
   ],
   "source": [
    "salaries[salaries<lower]"
   ]
  },
  {
   "cell_type": "code",
   "execution_count": 23,
   "id": "c7b45bd6",
   "metadata": {},
   "outputs": [
    {
     "data": {
      "text/plain": [
       "array([3113638])"
      ]
     },
     "execution_count": 23,
     "metadata": {},
     "output_type": "execute_result"
    }
   ],
   "source": [
    "salaries[salaries>upper]"
   ]
  },
  {
   "cell_type": "code",
   "execution_count": null,
   "id": "f2f4ba16",
   "metadata": {},
   "outputs": [],
   "source": []
  }
 ],
 "metadata": {
  "kernelspec": {
   "display_name": "Python 3 (ipykernel)",
   "language": "python",
   "name": "python3"
  },
  "language_info": {
   "codemirror_mode": {
    "name": "ipython",
    "version": 3
   },
   "file_extension": ".py",
   "mimetype": "text/x-python",
   "name": "python",
   "nbconvert_exporter": "python",
   "pygments_lexer": "ipython3",
   "version": "3.11.4"
  }
 },
 "nbformat": 4,
 "nbformat_minor": 5
}
