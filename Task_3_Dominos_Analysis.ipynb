{
 "cells": [
  {
   "cell_type": "markdown",
   "id": "690df289",
   "metadata": {},
   "source": [
    "## Importing libraries"
   ]
  },
  {
   "cell_type": "code",
   "execution_count": 1,
   "id": "32f6db73",
   "metadata": {},
   "outputs": [],
   "source": [
    "import pandas as pd\n",
    "import ast\n",
    "import numpy as np\n",
    "import re"
   ]
  },
  {
   "cell_type": "markdown",
   "id": "64808c99",
   "metadata": {},
   "source": [
    "## Loading Data Set"
   ]
  },
  {
   "cell_type": "code",
   "execution_count": 2,
   "id": "afb7dd09",
   "metadata": {},
   "outputs": [],
   "source": [
    "dd_delivery = pd.read_csv(r\"C:\\Users\\hi\\Desktop\\Innomatics\\Internship 2024 Sample Docs\\diminos_data_v2\\deliveries.csv\")"
   ]
  },
  {
   "cell_type": "code",
   "execution_count": 3,
   "id": "48b8c906",
   "metadata": {},
   "outputs": [],
   "source": [
    "dd_items = pd.read_csv(r\"C:\\Users\\hi\\Desktop\\Innomatics\\Internship 2024 Sample Docs\\diminos_data_v2\\order_items.csv\")"
   ]
  },
  {
   "cell_type": "code",
   "execution_count": 4,
   "id": "5f3c6fa4",
   "metadata": {},
   "outputs": [],
   "source": [
    "dd_order = pd.read_csv(r\"C:\\Users\\hi\\Desktop\\Innomatics\\Internship 2024 Sample Docs\\diminos_data_v2\\orders.csv\")"
   ]
  },
  {
   "cell_type": "code",
   "execution_count": 5,
   "id": "942f8e2f",
   "metadata": {},
   "outputs": [],
   "source": [
    "dd_pro = pd.read_csv(r\"C:\\Users\\hi\\Desktop\\Innomatics\\Internship 2024 Sample Docs\\diminos_data_v2\\products.csv\")"
   ]
  },
  {
   "cell_type": "code",
   "execution_count": 6,
   "id": "eb7a5f9f",
   "metadata": {},
   "outputs": [
    {
     "data": {
      "text/html": [
       "<div>\n",
       "<style scoped>\n",
       "    .dataframe tbody tr th:only-of-type {\n",
       "        vertical-align: middle;\n",
       "    }\n",
       "\n",
       "    .dataframe tbody tr th {\n",
       "        vertical-align: top;\n",
       "    }\n",
       "\n",
       "    .dataframe thead th {\n",
       "        text-align: right;\n",
       "    }\n",
       "</style>\n",
       "<table border=\"1\" class=\"dataframe\">\n",
       "  <thead>\n",
       "    <tr style=\"text-align: right;\">\n",
       "      <th></th>\n",
       "      <th>order_id</th>\n",
       "      <th>time_stamp</th>\n",
       "      <th>status</th>\n",
       "    </tr>\n",
       "  </thead>\n",
       "  <tbody>\n",
       "    <tr>\n",
       "      <th>0</th>\n",
       "      <td>321230114</td>\n",
       "      <td>2020-12-11 00:01:29.000000000</td>\n",
       "      <td>Pending</td>\n",
       "    </tr>\n",
       "    <tr>\n",
       "      <th>1</th>\n",
       "      <td>321230114</td>\n",
       "      <td>2020-12-11 00:06:29.000000000</td>\n",
       "      <td>Out For Delivery</td>\n",
       "    </tr>\n",
       "    <tr>\n",
       "      <th>2</th>\n",
       "      <td>321230114</td>\n",
       "      <td>2020-12-11 00:19:13.299151076</td>\n",
       "      <td>Delivered</td>\n",
       "    </tr>\n",
       "    <tr>\n",
       "      <th>3</th>\n",
       "      <td>321230115</td>\n",
       "      <td>2020-12-11 00:36:02.000000000</td>\n",
       "      <td>Pending</td>\n",
       "    </tr>\n",
       "    <tr>\n",
       "      <th>4</th>\n",
       "      <td>321230115</td>\n",
       "      <td>2020-12-11 00:41:02.000000000</td>\n",
       "      <td>Out For Delivery</td>\n",
       "    </tr>\n",
       "  </tbody>\n",
       "</table>\n",
       "</div>"
      ],
      "text/plain": [
       "    order_id                     time_stamp            status\n",
       "0  321230114  2020-12-11 00:01:29.000000000           Pending\n",
       "1  321230114  2020-12-11 00:06:29.000000000  Out For Delivery\n",
       "2  321230114  2020-12-11 00:19:13.299151076         Delivered\n",
       "3  321230115  2020-12-11 00:36:02.000000000           Pending\n",
       "4  321230115  2020-12-11 00:41:02.000000000  Out For Delivery"
      ]
     },
     "execution_count": 6,
     "metadata": {},
     "output_type": "execute_result"
    }
   ],
   "source": [
    "dd_delivery.head()"
   ]
  },
  {
   "cell_type": "code",
   "execution_count": 7,
   "id": "9b89637b",
   "metadata": {},
   "outputs": [
    {
     "data": {
      "text/html": [
       "<div>\n",
       "<style scoped>\n",
       "    .dataframe tbody tr th:only-of-type {\n",
       "        vertical-align: middle;\n",
       "    }\n",
       "\n",
       "    .dataframe tbody tr th {\n",
       "        vertical-align: top;\n",
       "    }\n",
       "\n",
       "    .dataframe thead th {\n",
       "        text-align: right;\n",
       "    }\n",
       "</style>\n",
       "<table border=\"1\" class=\"dataframe\">\n",
       "  <thead>\n",
       "    <tr style=\"text-align: right;\">\n",
       "      <th></th>\n",
       "      <th>order_id</th>\n",
       "      <th>items_ordered</th>\n",
       "    </tr>\n",
       "  </thead>\n",
       "  <tbody>\n",
       "    <tr>\n",
       "      <th>0</th>\n",
       "      <td>321230114</td>\n",
       "      <td>['p_025', 'p_032', 'p_037']</td>\n",
       "    </tr>\n",
       "    <tr>\n",
       "      <th>1</th>\n",
       "      <td>321230115</td>\n",
       "      <td>['p_017', 'p_012']</td>\n",
       "    </tr>\n",
       "    <tr>\n",
       "      <th>2</th>\n",
       "      <td>321230116</td>\n",
       "      <td>['p_027', 'p_037']</td>\n",
       "    </tr>\n",
       "    <tr>\n",
       "      <th>3</th>\n",
       "      <td>321230117</td>\n",
       "      <td>['p_004', 'p_029']</td>\n",
       "    </tr>\n",
       "    <tr>\n",
       "      <th>4</th>\n",
       "      <td>321230118</td>\n",
       "      <td>['p_017', 'p_037']</td>\n",
       "    </tr>\n",
       "  </tbody>\n",
       "</table>\n",
       "</div>"
      ],
      "text/plain": [
       "    order_id                items_ordered\n",
       "0  321230114  ['p_025', 'p_032', 'p_037']\n",
       "1  321230115           ['p_017', 'p_012']\n",
       "2  321230116           ['p_027', 'p_037']\n",
       "3  321230117           ['p_004', 'p_029']\n",
       "4  321230118           ['p_017', 'p_037']"
      ]
     },
     "execution_count": 7,
     "metadata": {},
     "output_type": "execute_result"
    }
   ],
   "source": [
    "dd_items.head()"
   ]
  },
  {
   "cell_type": "code",
   "execution_count": 8,
   "id": "86e50298",
   "metadata": {},
   "outputs": [
    {
     "data": {
      "text/html": [
       "<div>\n",
       "<style scoped>\n",
       "    .dataframe tbody tr th:only-of-type {\n",
       "        vertical-align: middle;\n",
       "    }\n",
       "\n",
       "    .dataframe tbody tr th {\n",
       "        vertical-align: top;\n",
       "    }\n",
       "\n",
       "    .dataframe thead th {\n",
       "        text-align: right;\n",
       "    }\n",
       "</style>\n",
       "<table border=\"1\" class=\"dataframe\">\n",
       "  <thead>\n",
       "    <tr style=\"text-align: right;\">\n",
       "      <th></th>\n",
       "      <th>order_id</th>\n",
       "      <th>order_placed_at</th>\n",
       "    </tr>\n",
       "  </thead>\n",
       "  <tbody>\n",
       "    <tr>\n",
       "      <th>0</th>\n",
       "      <td>321230114</td>\n",
       "      <td>2020-12-11 00:01:29</td>\n",
       "    </tr>\n",
       "    <tr>\n",
       "      <th>1</th>\n",
       "      <td>321230115</td>\n",
       "      <td>2020-12-11 00:36:02</td>\n",
       "    </tr>\n",
       "    <tr>\n",
       "      <th>2</th>\n",
       "      <td>321230116</td>\n",
       "      <td>2020-12-11 00:55:01</td>\n",
       "    </tr>\n",
       "    <tr>\n",
       "      <th>3</th>\n",
       "      <td>321230117</td>\n",
       "      <td>2020-12-11 01:05:27</td>\n",
       "    </tr>\n",
       "    <tr>\n",
       "      <th>4</th>\n",
       "      <td>321230118</td>\n",
       "      <td>2020-12-11 01:14:20</td>\n",
       "    </tr>\n",
       "  </tbody>\n",
       "</table>\n",
       "</div>"
      ],
      "text/plain": [
       "    order_id      order_placed_at\n",
       "0  321230114  2020-12-11 00:01:29\n",
       "1  321230115  2020-12-11 00:36:02\n",
       "2  321230116  2020-12-11 00:55:01\n",
       "3  321230117  2020-12-11 01:05:27\n",
       "4  321230118  2020-12-11 01:14:20"
      ]
     },
     "execution_count": 8,
     "metadata": {},
     "output_type": "execute_result"
    }
   ],
   "source": [
    "dd_order.head()"
   ]
  },
  {
   "cell_type": "code",
   "execution_count": 9,
   "id": "9bcb07d4",
   "metadata": {},
   "outputs": [
    {
     "data": {
      "text/html": [
       "<div>\n",
       "<style scoped>\n",
       "    .dataframe tbody tr th:only-of-type {\n",
       "        vertical-align: middle;\n",
       "    }\n",
       "\n",
       "    .dataframe tbody tr th {\n",
       "        vertical-align: top;\n",
       "    }\n",
       "\n",
       "    .dataframe thead th {\n",
       "        text-align: right;\n",
       "    }\n",
       "</style>\n",
       "<table border=\"1\" class=\"dataframe\">\n",
       "  <thead>\n",
       "    <tr style=\"text-align: right;\">\n",
       "      <th></th>\n",
       "      <th>item_id</th>\n",
       "      <th>category</th>\n",
       "      <th>Item</th>\n",
       "      <th>Size</th>\n",
       "      <th>Price</th>\n",
       "    </tr>\n",
       "  </thead>\n",
       "  <tbody>\n",
       "    <tr>\n",
       "      <th>0</th>\n",
       "      <td>p_001</td>\n",
       "      <td>Veg</td>\n",
       "      <td>Margherita</td>\n",
       "      <td>Regular</td>\n",
       "      <td>109</td>\n",
       "    </tr>\n",
       "    <tr>\n",
       "      <th>1</th>\n",
       "      <td>p_002</td>\n",
       "      <td>Veg</td>\n",
       "      <td>Margherita</td>\n",
       "      <td>Medium</td>\n",
       "      <td>245</td>\n",
       "    </tr>\n",
       "    <tr>\n",
       "      <th>2</th>\n",
       "      <td>p_003</td>\n",
       "      <td>Veg</td>\n",
       "      <td>Margherita</td>\n",
       "      <td>Large</td>\n",
       "      <td>455</td>\n",
       "    </tr>\n",
       "    <tr>\n",
       "      <th>3</th>\n",
       "      <td>p_004</td>\n",
       "      <td>Veg</td>\n",
       "      <td>Double Cheese Margherita</td>\n",
       "      <td>Regular</td>\n",
       "      <td>215</td>\n",
       "    </tr>\n",
       "    <tr>\n",
       "      <th>4</th>\n",
       "      <td>p_005</td>\n",
       "      <td>Veg</td>\n",
       "      <td>Double Cheese Margherita</td>\n",
       "      <td>Medium</td>\n",
       "      <td>385</td>\n",
       "    </tr>\n",
       "  </tbody>\n",
       "</table>\n",
       "</div>"
      ],
      "text/plain": [
       "  item_id category                      Item     Size  Price\n",
       "0   p_001      Veg                Margherita  Regular    109\n",
       "1   p_002      Veg                Margherita   Medium    245\n",
       "2   p_003      Veg                Margherita    Large    455\n",
       "3   p_004      Veg  Double Cheese Margherita  Regular    215\n",
       "4   p_005      Veg  Double Cheese Margherita   Medium    385"
      ]
     },
     "execution_count": 9,
     "metadata": {},
     "output_type": "execute_result"
    }
   ],
   "source": [
    "dd_pro.head()"
   ]
  },
  {
   "cell_type": "code",
   "execution_count": 10,
   "id": "f0356021",
   "metadata": {},
   "outputs": [],
   "source": [
    "dd_items['items_ordered'] = dd_items['items_ordered'].apply(ast.literal_eval)"
   ]
  },
  {
   "cell_type": "code",
   "execution_count": 11,
   "id": "03f8fe46",
   "metadata": {},
   "outputs": [],
   "source": [
    "dd_items = dd_items.explode('items_ordered').reset_index(drop=True)"
   ]
  },
  {
   "cell_type": "code",
   "execution_count": 12,
   "id": "c20615bc",
   "metadata": {},
   "outputs": [
    {
     "data": {
      "text/html": [
       "<div>\n",
       "<style scoped>\n",
       "    .dataframe tbody tr th:only-of-type {\n",
       "        vertical-align: middle;\n",
       "    }\n",
       "\n",
       "    .dataframe tbody tr th {\n",
       "        vertical-align: top;\n",
       "    }\n",
       "\n",
       "    .dataframe thead th {\n",
       "        text-align: right;\n",
       "    }\n",
       "</style>\n",
       "<table border=\"1\" class=\"dataframe\">\n",
       "  <thead>\n",
       "    <tr style=\"text-align: right;\">\n",
       "      <th></th>\n",
       "      <th>order_id</th>\n",
       "      <th>items_ordered</th>\n",
       "    </tr>\n",
       "  </thead>\n",
       "  <tbody>\n",
       "    <tr>\n",
       "      <th>0</th>\n",
       "      <td>321230114</td>\n",
       "      <td>p_025</td>\n",
       "    </tr>\n",
       "    <tr>\n",
       "      <th>1</th>\n",
       "      <td>321230114</td>\n",
       "      <td>p_032</td>\n",
       "    </tr>\n",
       "    <tr>\n",
       "      <th>2</th>\n",
       "      <td>321230114</td>\n",
       "      <td>p_037</td>\n",
       "    </tr>\n",
       "    <tr>\n",
       "      <th>3</th>\n",
       "      <td>321230115</td>\n",
       "      <td>p_017</td>\n",
       "    </tr>\n",
       "    <tr>\n",
       "      <th>4</th>\n",
       "      <td>321230115</td>\n",
       "      <td>p_012</td>\n",
       "    </tr>\n",
       "    <tr>\n",
       "      <th>...</th>\n",
       "      <td>...</td>\n",
       "      <td>...</td>\n",
       "    </tr>\n",
       "    <tr>\n",
       "      <th>1158888</th>\n",
       "      <td>321684448</td>\n",
       "      <td>p_007</td>\n",
       "    </tr>\n",
       "    <tr>\n",
       "      <th>1158889</th>\n",
       "      <td>321684448</td>\n",
       "      <td>p_003</td>\n",
       "    </tr>\n",
       "    <tr>\n",
       "      <th>1158890</th>\n",
       "      <td>321684448</td>\n",
       "      <td>p_037</td>\n",
       "    </tr>\n",
       "    <tr>\n",
       "      <th>1158891</th>\n",
       "      <td>321684449</td>\n",
       "      <td>p_022</td>\n",
       "    </tr>\n",
       "    <tr>\n",
       "      <th>1158892</th>\n",
       "      <td>321684449</td>\n",
       "      <td>p_037</td>\n",
       "    </tr>\n",
       "  </tbody>\n",
       "</table>\n",
       "<p>1158893 rows × 2 columns</p>\n",
       "</div>"
      ],
      "text/plain": [
       "          order_id items_ordered\n",
       "0        321230114         p_025\n",
       "1        321230114         p_032\n",
       "2        321230114         p_037\n",
       "3        321230115         p_017\n",
       "4        321230115         p_012\n",
       "...            ...           ...\n",
       "1158888  321684448         p_007\n",
       "1158889  321684448         p_003\n",
       "1158890  321684448         p_037\n",
       "1158891  321684449         p_022\n",
       "1158892  321684449         p_037\n",
       "\n",
       "[1158893 rows x 2 columns]"
      ]
     },
     "execution_count": 12,
     "metadata": {},
     "output_type": "execute_result"
    }
   ],
   "source": [
    "dd_items"
   ]
  },
  {
   "cell_type": "markdown",
   "id": "88629a4a",
   "metadata": {},
   "source": [
    "## Merging Data Frames"
   ]
  },
  {
   "cell_type": "code",
   "execution_count": 13,
   "id": "5b1d0c02",
   "metadata": {},
   "outputs": [],
   "source": [
    "merged_1 = pd.merge(dd_delivery, dd_items, how=\"outer\", on = 'order_id' )"
   ]
  },
  {
   "cell_type": "code",
   "execution_count": 14,
   "id": "411a2b1c",
   "metadata": {},
   "outputs": [],
   "source": [
    "merged_2 = pd.merge(merged_1, dd_order, how=\"outer\", on = 'order_id' )"
   ]
  },
  {
   "cell_type": "code",
   "execution_count": 15,
   "id": "9e8c4a76",
   "metadata": {},
   "outputs": [],
   "source": [
    "merged_data = pd.merge(merged_2, dd_pro, how = 'outer', left_on= 'items_ordered',right_on=\"item_id\" )"
   ]
  },
  {
   "cell_type": "code",
   "execution_count": 16,
   "id": "756629c5",
   "metadata": {},
   "outputs": [],
   "source": [
    "merged_data.drop('items_ordered', axis = 1, inplace = True)"
   ]
  },
  {
   "cell_type": "markdown",
   "id": "132cd705",
   "metadata": {},
   "source": [
    "### Type Casting"
   ]
  },
  {
   "cell_type": "code",
   "execution_count": 17,
   "id": "251ab74a",
   "metadata": {},
   "outputs": [],
   "source": [
    "merged_data['time_stamp'] = merged_data['time_stamp'].astype('datetime64[ns]')"
   ]
  },
  {
   "cell_type": "code",
   "execution_count": 18,
   "id": "a6350a68",
   "metadata": {},
   "outputs": [],
   "source": [
    "merged_data['order_placed_at'] = merged_data['order_placed_at'].astype('datetime64[ns]')"
   ]
  },
  {
   "cell_type": "code",
   "execution_count": 19,
   "id": "5b9eba9a",
   "metadata": {},
   "outputs": [
    {
     "name": "stdout",
     "output_type": "stream",
     "text": [
      "<class 'pandas.core.frame.DataFrame'>\n",
      "Int64Index: 3476679 entries, 0 to 3476678\n",
      "Data columns (total 9 columns):\n",
      " #   Column           Dtype         \n",
      "---  ------           -----         \n",
      " 0   order_id         int64         \n",
      " 1   time_stamp       datetime64[ns]\n",
      " 2   status           object        \n",
      " 3   order_placed_at  datetime64[ns]\n",
      " 4   item_id          object        \n",
      " 5   category         object        \n",
      " 6   Item             object        \n",
      " 7   Size             object        \n",
      " 8   Price            int64         \n",
      "dtypes: datetime64[ns](2), int64(2), object(5)\n",
      "memory usage: 265.2+ MB\n"
     ]
    }
   ],
   "source": [
    "merged_data.info()"
   ]
  },
  {
   "cell_type": "markdown",
   "id": "15e75d66",
   "metadata": {},
   "source": [
    "## Analysis"
   ]
  },
  {
   "cell_type": "markdown",
   "id": "e23f3fe7",
   "metadata": {},
   "source": [
    "##### 1) What is the average Delivery Time (in minutes) taken by the store to deliver the Pizza?"
   ]
  },
  {
   "cell_type": "code",
   "execution_count": 20,
   "id": "8ecb2403",
   "metadata": {},
   "outputs": [],
   "source": [
    "pending = merged_data[merged_data['status']== 'Pending']"
   ]
  },
  {
   "cell_type": "code",
   "execution_count": 21,
   "id": "44f29929",
   "metadata": {},
   "outputs": [],
   "source": [
    "delivered = merged_data[merged_data['status']== 'Delivered']"
   ]
  },
  {
   "cell_type": "code",
   "execution_count": 22,
   "id": "6c8f2a6a",
   "metadata": {},
   "outputs": [],
   "source": [
    "time = ((delivered['time_stamp'].values - pending['time_stamp'].values)/ pd.Timedelta('1s') / 60)"
   ]
  },
  {
   "cell_type": "code",
   "execution_count": 23,
   "id": "3fb80c35",
   "metadata": {},
   "outputs": [
    {
     "name": "stderr",
     "output_type": "stream",
     "text": [
      "C:\\Users\\hi\\AppData\\Local\\Temp\\ipykernel_8108\\685693908.py:1: SettingWithCopyWarning: \n",
      "A value is trying to be set on a copy of a slice from a DataFrame.\n",
      "Try using .loc[row_indexer,col_indexer] = value instead\n",
      "\n",
      "See the caveats in the documentation: https://pandas.pydata.org/pandas-docs/stable/user_guide/indexing.html#returning-a-view-versus-a-copy\n",
      "  delivered['Delivery_in_mins'] = time\n"
     ]
    }
   ],
   "source": [
    "delivered['Delivery_in_mins'] = time"
   ]
  },
  {
   "cell_type": "code",
   "execution_count": 24,
   "id": "c20edbb4",
   "metadata": {},
   "outputs": [],
   "source": [
    "avg_time = time.mean().round(2)"
   ]
  },
  {
   "cell_type": "code",
   "execution_count": 25,
   "id": "b0a2ad17",
   "metadata": {},
   "outputs": [
    {
     "name": "stdout",
     "output_type": "stream",
     "text": [
      "The Average Delivery time: 20.65 minutes\n"
     ]
    }
   ],
   "source": [
    "print(f\"The Average Delivery time: {avg_time} minutes\")"
   ]
  },
  {
   "cell_type": "markdown",
   "id": "227a2ccb",
   "metadata": {},
   "source": [
    "### 2) What is the 99th percentile Delivery Time (in minutes) taken by the store to deliver the Pizza?"
   ]
  },
  {
   "cell_type": "code",
   "execution_count": 26,
   "id": "4aaa0552",
   "metadata": {},
   "outputs": [],
   "source": [
    "percentile_99 = np.percentile(time,99)"
   ]
  },
  {
   "cell_type": "code",
   "execution_count": 27,
   "id": "42074aa1",
   "metadata": {},
   "outputs": [
    {
     "name": "stdout",
     "output_type": "stream",
     "text": [
      "99th percentile Delivery Time (in minutes): 30.89 minutes\n"
     ]
    }
   ],
   "source": [
    "print(f\"99th percentile Delivery Time (in minutes): {percentile_99.round(2)} minutes\")"
   ]
  },
  {
   "cell_type": "markdown",
   "id": "490e3ec1",
   "metadata": {},
   "source": [
    "### 3) Which metric is the better choice to determine the stores performance based on Delivery Time?"
   ]
  },
  {
   "cell_type": "code",
   "execution_count": 28,
   "id": "5f4b5694",
   "metadata": {},
   "outputs": [
    {
     "name": "stdout",
     "output_type": "stream",
     "text": [
      "Mean : 20.65,\n",
      "Median : 19.98,\n",
      "99th Percentile: 30.89,\n",
      "95th Percentile: 26.35\n"
     ]
    }
   ],
   "source": [
    "print(f\"Mean : {time.mean().round(2)},\\nMedian : {np.median(time).round(2)},\\n99th Percentile: {np.percentile(time,99).round(2)},\\n95th Percentile: {np.percentile(time,95).round(2)}\")"
   ]
  },
  {
   "cell_type": "markdown",
   "id": "10b31bb5",
   "metadata": {},
   "source": [
    "### 4) What is the order id with the maximum delivery time?"
   ]
  },
  {
   "cell_type": "code",
   "execution_count": 29,
   "id": "aa5b48e4",
   "metadata": {},
   "outputs": [
    {
     "data": {
      "text/html": [
       "<div>\n",
       "<style scoped>\n",
       "    .dataframe tbody tr th:only-of-type {\n",
       "        vertical-align: middle;\n",
       "    }\n",
       "\n",
       "    .dataframe tbody tr th {\n",
       "        vertical-align: top;\n",
       "    }\n",
       "\n",
       "    .dataframe thead th {\n",
       "        text-align: right;\n",
       "    }\n",
       "</style>\n",
       "<table border=\"1\" class=\"dataframe\">\n",
       "  <thead>\n",
       "    <tr style=\"text-align: right;\">\n",
       "      <th></th>\n",
       "      <th>order_id</th>\n",
       "      <th>time_stamp</th>\n",
       "      <th>status</th>\n",
       "      <th>order_placed_at</th>\n",
       "      <th>item_id</th>\n",
       "      <th>category</th>\n",
       "      <th>Item</th>\n",
       "      <th>Size</th>\n",
       "      <th>Price</th>\n",
       "      <th>Delivery_in_mins</th>\n",
       "    </tr>\n",
       "  </thead>\n",
       "  <tbody>\n",
       "    <tr>\n",
       "      <th>1146008</th>\n",
       "      <td>321629049</td>\n",
       "      <td>2023-09-21 16:52:49.724687723</td>\n",
       "      <td>Delivered</td>\n",
       "      <td>2023-09-21 15:49:55</td>\n",
       "      <td>p_037</td>\n",
       "      <td>Veg</td>\n",
       "      <td>Coke</td>\n",
       "      <td>Regular</td>\n",
       "      <td>71</td>\n",
       "      <td>62.912078</td>\n",
       "    </tr>\n",
       "    <tr>\n",
       "      <th>1600838</th>\n",
       "      <td>321629049</td>\n",
       "      <td>2023-09-21 16:52:49.724687723</td>\n",
       "      <td>Delivered</td>\n",
       "      <td>2023-09-21 15:49:55</td>\n",
       "      <td>p_029</td>\n",
       "      <td>Non Veg</td>\n",
       "      <td>Pepper Barbecue Chicken</td>\n",
       "      <td>Medium</td>\n",
       "      <td>419</td>\n",
       "      <td>62.912078</td>\n",
       "    </tr>\n",
       "    <tr>\n",
       "      <th>1858259</th>\n",
       "      <td>321629049</td>\n",
       "      <td>2023-09-21 16:52:49.724687723</td>\n",
       "      <td>Delivered</td>\n",
       "      <td>2023-09-21 15:49:55</td>\n",
       "      <td>p_022</td>\n",
       "      <td>Non Veg</td>\n",
       "      <td>Non Veg Supreme</td>\n",
       "      <td>Regular</td>\n",
       "      <td>365</td>\n",
       "      <td>62.912078</td>\n",
       "    </tr>\n",
       "  </tbody>\n",
       "</table>\n",
       "</div>"
      ],
      "text/plain": [
       "          order_id                    time_stamp     status  \\\n",
       "1146008  321629049 2023-09-21 16:52:49.724687723  Delivered   \n",
       "1600838  321629049 2023-09-21 16:52:49.724687723  Delivered   \n",
       "1858259  321629049 2023-09-21 16:52:49.724687723  Delivered   \n",
       "\n",
       "            order_placed_at item_id category                     Item  \\\n",
       "1146008 2023-09-21 15:49:55   p_037      Veg                     Coke   \n",
       "1600838 2023-09-21 15:49:55   p_029  Non Veg  Pepper Barbecue Chicken   \n",
       "1858259 2023-09-21 15:49:55   p_022  Non Veg          Non Veg Supreme   \n",
       "\n",
       "            Size  Price  Delivery_in_mins  \n",
       "1146008  Regular     71         62.912078  \n",
       "1600838   Medium    419         62.912078  \n",
       "1858259  Regular    365         62.912078  "
      ]
     },
     "execution_count": 29,
     "metadata": {},
     "output_type": "execute_result"
    }
   ],
   "source": [
    "delivered[delivered['Delivery_in_mins'] == delivered['Delivery_in_mins'].max()]"
   ]
  },
  {
   "cell_type": "markdown",
   "id": "bdf72ea9",
   "metadata": {},
   "source": [
    "### 5) How many pizza's were ordered between 1st January and 31st January 2024 (INCLUSIVE)?"
   ]
  },
  {
   "cell_type": "code",
   "execution_count": 30,
   "id": "c76fc79e",
   "metadata": {},
   "outputs": [],
   "source": [
    "jan_1st = \"2024-01-01\"\n",
    "Feb_1st = \"2024-02-01\""
   ]
  },
  {
   "cell_type": "code",
   "execution_count": 31,
   "id": "fb061452",
   "metadata": {},
   "outputs": [
    {
     "data": {
      "text/html": [
       "<div>\n",
       "<style scoped>\n",
       "    .dataframe tbody tr th:only-of-type {\n",
       "        vertical-align: middle;\n",
       "    }\n",
       "\n",
       "    .dataframe tbody tr th {\n",
       "        vertical-align: top;\n",
       "    }\n",
       "\n",
       "    .dataframe thead th {\n",
       "        text-align: right;\n",
       "    }\n",
       "</style>\n",
       "<table border=\"1\" class=\"dataframe\">\n",
       "  <thead>\n",
       "    <tr style=\"text-align: right;\">\n",
       "      <th></th>\n",
       "      <th>order_id</th>\n",
       "      <th>time_stamp</th>\n",
       "      <th>status</th>\n",
       "      <th>order_placed_at</th>\n",
       "      <th>item_id</th>\n",
       "      <th>category</th>\n",
       "      <th>Item</th>\n",
       "      <th>Size</th>\n",
       "      <th>Price</th>\n",
       "    </tr>\n",
       "  </thead>\n",
       "  <tbody>\n",
       "    <tr>\n",
       "      <th>62628</th>\n",
       "      <td>321672182</td>\n",
       "      <td>2024-01-01 02:32:03</td>\n",
       "      <td>Pending</td>\n",
       "      <td>2024-01-01 02:32:03</td>\n",
       "      <td>p_025</td>\n",
       "      <td>Non Veg</td>\n",
       "      <td>Chicken Dominator</td>\n",
       "      <td>Regular</td>\n",
       "      <td>365</td>\n",
       "    </tr>\n",
       "    <tr>\n",
       "      <th>62631</th>\n",
       "      <td>321672233</td>\n",
       "      <td>2024-01-01 08:43:15</td>\n",
       "      <td>Pending</td>\n",
       "      <td>2024-01-01 08:43:15</td>\n",
       "      <td>p_025</td>\n",
       "      <td>Non Veg</td>\n",
       "      <td>Chicken Dominator</td>\n",
       "      <td>Regular</td>\n",
       "      <td>365</td>\n",
       "    </tr>\n",
       "    <tr>\n",
       "      <th>62634</th>\n",
       "      <td>321672299</td>\n",
       "      <td>2024-01-01 13:13:38</td>\n",
       "      <td>Pending</td>\n",
       "      <td>2024-01-01 13:13:38</td>\n",
       "      <td>p_025</td>\n",
       "      <td>Non Veg</td>\n",
       "      <td>Chicken Dominator</td>\n",
       "      <td>Regular</td>\n",
       "      <td>365</td>\n",
       "    </tr>\n",
       "    <tr>\n",
       "      <th>62637</th>\n",
       "      <td>321672304</td>\n",
       "      <td>2024-01-01 13:47:40</td>\n",
       "      <td>Pending</td>\n",
       "      <td>2024-01-01 13:47:40</td>\n",
       "      <td>p_025</td>\n",
       "      <td>Non Veg</td>\n",
       "      <td>Chicken Dominator</td>\n",
       "      <td>Regular</td>\n",
       "      <td>365</td>\n",
       "    </tr>\n",
       "    <tr>\n",
       "      <th>62640</th>\n",
       "      <td>321672309</td>\n",
       "      <td>2024-01-01 14:19:24</td>\n",
       "      <td>Pending</td>\n",
       "      <td>2024-01-01 14:19:24</td>\n",
       "      <td>p_025</td>\n",
       "      <td>Non Veg</td>\n",
       "      <td>Chicken Dominator</td>\n",
       "      <td>Regular</td>\n",
       "      <td>365</td>\n",
       "    </tr>\n",
       "    <tr>\n",
       "      <th>...</th>\n",
       "      <td>...</td>\n",
       "      <td>...</td>\n",
       "      <td>...</td>\n",
       "      <td>...</td>\n",
       "      <td>...</td>\n",
       "      <td>...</td>\n",
       "      <td>...</td>\n",
       "      <td>...</td>\n",
       "      <td>...</td>\n",
       "    </tr>\n",
       "    <tr>\n",
       "      <th>3476664</th>\n",
       "      <td>321684344</td>\n",
       "      <td>2024-01-31 16:49:59</td>\n",
       "      <td>Pending</td>\n",
       "      <td>2024-01-31 16:49:59</td>\n",
       "      <td>p_035</td>\n",
       "      <td>Non Veg</td>\n",
       "      <td>Chicken Pepperoni</td>\n",
       "      <td>Medium</td>\n",
       "      <td>609</td>\n",
       "    </tr>\n",
       "    <tr>\n",
       "      <th>3476667</th>\n",
       "      <td>321684386</td>\n",
       "      <td>2024-01-31 18:34:03</td>\n",
       "      <td>Pending</td>\n",
       "      <td>2024-01-31 18:34:03</td>\n",
       "      <td>p_035</td>\n",
       "      <td>Non Veg</td>\n",
       "      <td>Chicken Pepperoni</td>\n",
       "      <td>Medium</td>\n",
       "      <td>609</td>\n",
       "    </tr>\n",
       "    <tr>\n",
       "      <th>3476670</th>\n",
       "      <td>321684398</td>\n",
       "      <td>2024-01-31 19:05:01</td>\n",
       "      <td>Pending</td>\n",
       "      <td>2024-01-31 19:05:01</td>\n",
       "      <td>p_035</td>\n",
       "      <td>Non Veg</td>\n",
       "      <td>Chicken Pepperoni</td>\n",
       "      <td>Medium</td>\n",
       "      <td>609</td>\n",
       "    </tr>\n",
       "    <tr>\n",
       "      <th>3476673</th>\n",
       "      <td>321684401</td>\n",
       "      <td>2024-01-31 19:16:36</td>\n",
       "      <td>Pending</td>\n",
       "      <td>2024-01-31 19:16:36</td>\n",
       "      <td>p_035</td>\n",
       "      <td>Non Veg</td>\n",
       "      <td>Chicken Pepperoni</td>\n",
       "      <td>Medium</td>\n",
       "      <td>609</td>\n",
       "    </tr>\n",
       "    <tr>\n",
       "      <th>3476676</th>\n",
       "      <td>321684410</td>\n",
       "      <td>2024-01-31 20:00:40</td>\n",
       "      <td>Pending</td>\n",
       "      <td>2024-01-31 20:00:40</td>\n",
       "      <td>p_035</td>\n",
       "      <td>Non Veg</td>\n",
       "      <td>Chicken Pepperoni</td>\n",
       "      <td>Medium</td>\n",
       "      <td>609</td>\n",
       "    </tr>\n",
       "  </tbody>\n",
       "</table>\n",
       "<p>20951 rows × 9 columns</p>\n",
       "</div>"
      ],
      "text/plain": [
       "          order_id          time_stamp   status     order_placed_at item_id  \\\n",
       "62628    321672182 2024-01-01 02:32:03  Pending 2024-01-01 02:32:03   p_025   \n",
       "62631    321672233 2024-01-01 08:43:15  Pending 2024-01-01 08:43:15   p_025   \n",
       "62634    321672299 2024-01-01 13:13:38  Pending 2024-01-01 13:13:38   p_025   \n",
       "62637    321672304 2024-01-01 13:47:40  Pending 2024-01-01 13:47:40   p_025   \n",
       "62640    321672309 2024-01-01 14:19:24  Pending 2024-01-01 14:19:24   p_025   \n",
       "...            ...                 ...      ...                 ...     ...   \n",
       "3476664  321684344 2024-01-31 16:49:59  Pending 2024-01-31 16:49:59   p_035   \n",
       "3476667  321684386 2024-01-31 18:34:03  Pending 2024-01-31 18:34:03   p_035   \n",
       "3476670  321684398 2024-01-31 19:05:01  Pending 2024-01-31 19:05:01   p_035   \n",
       "3476673  321684401 2024-01-31 19:16:36  Pending 2024-01-31 19:16:36   p_035   \n",
       "3476676  321684410 2024-01-31 20:00:40  Pending 2024-01-31 20:00:40   p_035   \n",
       "\n",
       "        category               Item     Size  Price  \n",
       "62628    Non Veg  Chicken Dominator  Regular    365  \n",
       "62631    Non Veg  Chicken Dominator  Regular    365  \n",
       "62634    Non Veg  Chicken Dominator  Regular    365  \n",
       "62637    Non Veg  Chicken Dominator  Regular    365  \n",
       "62640    Non Veg  Chicken Dominator  Regular    365  \n",
       "...          ...                ...      ...    ...  \n",
       "3476664  Non Veg  Chicken Pepperoni   Medium    609  \n",
       "3476667  Non Veg  Chicken Pepperoni   Medium    609  \n",
       "3476670  Non Veg  Chicken Pepperoni   Medium    609  \n",
       "3476673  Non Veg  Chicken Pepperoni   Medium    609  \n",
       "3476676  Non Veg  Chicken Pepperoni   Medium    609  \n",
       "\n",
       "[20951 rows x 9 columns]"
      ]
     },
     "execution_count": 31,
     "metadata": {},
     "output_type": "execute_result"
    }
   ],
   "source": [
    "pending[(pending['time_stamp'] >= jan_1st) & (pending['time_stamp'] < Feb_1st) & (pending['Item'] != \"Coke\")]"
   ]
  },
  {
   "cell_type": "markdown",
   "id": "d253b225",
   "metadata": {},
   "source": [
    "### 6) How many order took more than 30 minutes to deliver between 1st January and 31st January 2024 (INCLUSIVE)?\n",
    "*\n",
    "This is important as Diminos promise 30 minutes delivery. For any pizza delivered after 30 minutes, customer will get a full refund."
   ]
  },
  {
   "cell_type": "code",
   "execution_count": 32,
   "id": "51595d0a",
   "metadata": {},
   "outputs": [
    {
     "data": {
      "text/plain": [
       "162"
      ]
     },
     "execution_count": 32,
     "metadata": {},
     "output_type": "execute_result"
    }
   ],
   "source": [
    "len(delivered[(delivered['order_placed_at'] >= jan_1st) & (delivered['order_placed_at'] < Feb_1st) & (delivered['Delivery_in_mins'] > 30)]['order_id'].unique())"
   ]
  },
  {
   "cell_type": "markdown",
   "id": "6ba25838",
   "metadata": {},
   "source": [
    "### 7) What is the total amount Pizza store lost in 2023 due to refunds on late deliveries?"
   ]
  },
  {
   "cell_type": "code",
   "execution_count": 33,
   "id": "881b15e2",
   "metadata": {},
   "outputs": [
    {
     "data": {
      "text/plain": [
       "1826393"
      ]
     },
     "execution_count": 33,
     "metadata": {},
     "output_type": "execute_result"
    }
   ],
   "source": [
    "delivered[(delivered['order_placed_at'] >= \"2023-01-01\") & (delivered['order_placed_at'] < \"2024-01-01\") & (delivered['Delivery_in_mins'] > 30)][\"Price\"].sum()"
   ]
  },
  {
   "cell_type": "markdown",
   "id": "743754af",
   "metadata": {},
   "source": [
    "### 8)In which year Pizza store has lost maximum amount due to refunds on late deliveries?"
   ]
  },
  {
   "cell_type": "code",
   "execution_count": 34,
   "id": "12e3680e",
   "metadata": {},
   "outputs": [
    {
     "name": "stderr",
     "output_type": "stream",
     "text": [
      "C:\\Users\\hi\\AppData\\Local\\Temp\\ipykernel_8108\\1571650666.py:1: SettingWithCopyWarning: \n",
      "A value is trying to be set on a copy of a slice from a DataFrame.\n",
      "Try using .loc[row_indexer,col_indexer] = value instead\n",
      "\n",
      "See the caveats in the documentation: https://pandas.pydata.org/pandas-docs/stable/user_guide/indexing.html#returning-a-view-versus-a-copy\n",
      "  delivered['Order_year'] = delivered['order_placed_at'].dt.year\n"
     ]
    }
   ],
   "source": [
    "delivered['Order_year'] = delivered['order_placed_at'].dt.year"
   ]
  },
  {
   "cell_type": "code",
   "execution_count": 35,
   "id": "df77dff5",
   "metadata": {},
   "outputs": [
    {
     "data": {
      "text/plain": [
       "Order_year\n",
       "2023    1826393\n",
       "2021    1791568\n",
       "2022    1664113\n",
       "2024     145669\n",
       "2020      96688\n",
       "Name: Price, dtype: int64"
      ]
     },
     "execution_count": 35,
     "metadata": {},
     "output_type": "execute_result"
    }
   ],
   "source": [
    "delivered[delivered['Delivery_in_mins'] > 30].groupby('Order_year')[\"Price\"].sum().sort_values(ascending = False)"
   ]
  },
  {
   "cell_type": "markdown",
   "id": "2b52d0a4",
   "metadata": {},
   "source": [
    "### 9)How much revenue is generated by the pizza store till date? Don't include the refund amount in revenue."
   ]
  },
  {
   "cell_type": "code",
   "execution_count": 36,
   "id": "f0978f80",
   "metadata": {},
   "outputs": [
    {
     "data": {
      "text/plain": [
       "402310056"
      ]
     },
     "execution_count": 36,
     "metadata": {},
     "output_type": "execute_result"
    }
   ],
   "source": [
    "delivered[delivered['Delivery_in_mins'] <= 30][\"Price\"].sum()"
   ]
  },
  {
   "cell_type": "markdown",
   "id": "df66a213",
   "metadata": {},
   "source": [
    "### 10) (BONUS QUESTION) Which distribution can be used to model the number of orders incoming each hour? If we can somehow model it, which problem for owner of Pizza Store can be solved? (Implement this in a Jupyter Notebook. Upload your implementation on the google drive and share the link below.) "
   ]
  },
  {
   "cell_type": "code",
   "execution_count": 37,
   "id": "1a104f94",
   "metadata": {},
   "outputs": [
    {
     "name": "stderr",
     "output_type": "stream",
     "text": [
      "C:\\Users\\hi\\AppData\\Local\\Temp\\ipykernel_8108\\796387728.py:1: SettingWithCopyWarning: \n",
      "A value is trying to be set on a copy of a slice from a DataFrame.\n",
      "Try using .loc[row_indexer,col_indexer] = value instead\n",
      "\n",
      "See the caveats in the documentation: https://pandas.pydata.org/pandas-docs/stable/user_guide/indexing.html#returning-a-view-versus-a-copy\n",
      "  delivered['hour'] = delivered['order_placed_at'].dt.hour\n"
     ]
    }
   ],
   "source": [
    "delivered['hour'] = delivered['order_placed_at'].dt.hour"
   ]
  },
  {
   "cell_type": "code",
   "execution_count": 38,
   "id": "dc1ecb73",
   "metadata": {},
   "outputs": [
    {
     "name": "stderr",
     "output_type": "stream",
     "text": [
      "C:\\Users\\hi\\AppData\\Local\\Temp\\ipykernel_8108\\1815212841.py:1: SettingWithCopyWarning: \n",
      "A value is trying to be set on a copy of a slice from a DataFrame.\n",
      "Try using .loc[row_indexer,col_indexer] = value instead\n",
      "\n",
      "See the caveats in the documentation: https://pandas.pydata.org/pandas-docs/stable/user_guide/indexing.html#returning-a-view-versus-a-copy\n",
      "  delivered['date']  = delivered['order_placed_at'].dt.date\n"
     ]
    }
   ],
   "source": [
    "delivered['date']  = delivered['order_placed_at'].dt.date"
   ]
  },
  {
   "cell_type": "code",
   "execution_count": 39,
   "id": "366bd4b3",
   "metadata": {},
   "outputs": [
    {
     "data": {
      "text/html": [
       "<div>\n",
       "<style scoped>\n",
       "    .dataframe tbody tr th:only-of-type {\n",
       "        vertical-align: middle;\n",
       "    }\n",
       "\n",
       "    .dataframe tbody tr th {\n",
       "        vertical-align: top;\n",
       "    }\n",
       "\n",
       "    .dataframe thead th {\n",
       "        text-align: right;\n",
       "    }\n",
       "</style>\n",
       "<table border=\"1\" class=\"dataframe\">\n",
       "  <thead>\n",
       "    <tr style=\"text-align: right;\">\n",
       "      <th></th>\n",
       "      <th>order_id</th>\n",
       "      <th>time_stamp</th>\n",
       "      <th>status</th>\n",
       "      <th>order_placed_at</th>\n",
       "      <th>item_id</th>\n",
       "      <th>category</th>\n",
       "      <th>Item</th>\n",
       "      <th>Size</th>\n",
       "      <th>Price</th>\n",
       "      <th>Delivery_in_mins</th>\n",
       "      <th>Order_year</th>\n",
       "      <th>hour</th>\n",
       "      <th>date</th>\n",
       "    </tr>\n",
       "  </thead>\n",
       "  <tbody>\n",
       "    <tr>\n",
       "      <th>2</th>\n",
       "      <td>321230114</td>\n",
       "      <td>2020-12-11 00:19:13.299151076</td>\n",
       "      <td>Delivered</td>\n",
       "      <td>2020-12-11 00:01:29</td>\n",
       "      <td>p_025</td>\n",
       "      <td>Non Veg</td>\n",
       "      <td>Chicken Dominator</td>\n",
       "      <td>Regular</td>\n",
       "      <td>365</td>\n",
       "      <td>17.738319</td>\n",
       "      <td>2020</td>\n",
       "      <td>0</td>\n",
       "      <td>2020-12-11</td>\n",
       "    </tr>\n",
       "    <tr>\n",
       "      <th>5</th>\n",
       "      <td>321230125</td>\n",
       "      <td>2020-12-11 03:24:01.429084233</td>\n",
       "      <td>Delivered</td>\n",
       "      <td>2020-12-11 03:02:34</td>\n",
       "      <td>p_025</td>\n",
       "      <td>Non Veg</td>\n",
       "      <td>Chicken Dominator</td>\n",
       "      <td>Regular</td>\n",
       "      <td>365</td>\n",
       "      <td>21.457151</td>\n",
       "      <td>2020</td>\n",
       "      <td>3</td>\n",
       "      <td>2020-12-11</td>\n",
       "    </tr>\n",
       "    <tr>\n",
       "      <th>8</th>\n",
       "      <td>321230132</td>\n",
       "      <td>2020-12-11 04:04:51.192638615</td>\n",
       "      <td>Delivered</td>\n",
       "      <td>2020-12-11 03:47:25</td>\n",
       "      <td>p_025</td>\n",
       "      <td>Non Veg</td>\n",
       "      <td>Chicken Dominator</td>\n",
       "      <td>Regular</td>\n",
       "      <td>365</td>\n",
       "      <td>17.436544</td>\n",
       "      <td>2020</td>\n",
       "      <td>3</td>\n",
       "      <td>2020-12-11</td>\n",
       "    </tr>\n",
       "    <tr>\n",
       "      <th>11</th>\n",
       "      <td>321230136</td>\n",
       "      <td>2020-12-11 04:44:40.175141823</td>\n",
       "      <td>Delivered</td>\n",
       "      <td>2020-12-11 04:19:56</td>\n",
       "      <td>p_025</td>\n",
       "      <td>Non Veg</td>\n",
       "      <td>Chicken Dominator</td>\n",
       "      <td>Regular</td>\n",
       "      <td>365</td>\n",
       "      <td>24.736252</td>\n",
       "      <td>2020</td>\n",
       "      <td>4</td>\n",
       "      <td>2020-12-11</td>\n",
       "    </tr>\n",
       "    <tr>\n",
       "      <th>14</th>\n",
       "      <td>321230174</td>\n",
       "      <td>2020-12-11 08:22:09.140170569</td>\n",
       "      <td>Delivered</td>\n",
       "      <td>2020-12-11 08:04:24</td>\n",
       "      <td>p_025</td>\n",
       "      <td>Non Veg</td>\n",
       "      <td>Chicken Dominator</td>\n",
       "      <td>Regular</td>\n",
       "      <td>365</td>\n",
       "      <td>17.752336</td>\n",
       "      <td>2020</td>\n",
       "      <td>8</td>\n",
       "      <td>2020-12-11</td>\n",
       "    </tr>\n",
       "    <tr>\n",
       "      <th>...</th>\n",
       "      <td>...</td>\n",
       "      <td>...</td>\n",
       "      <td>...</td>\n",
       "      <td>...</td>\n",
       "      <td>...</td>\n",
       "      <td>...</td>\n",
       "      <td>...</td>\n",
       "      <td>...</td>\n",
       "      <td>...</td>\n",
       "      <td>...</td>\n",
       "      <td>...</td>\n",
       "      <td>...</td>\n",
       "      <td>...</td>\n",
       "    </tr>\n",
       "    <tr>\n",
       "      <th>3476666</th>\n",
       "      <td>321684344</td>\n",
       "      <td>2024-01-31 17:07:16.198293573</td>\n",
       "      <td>Delivered</td>\n",
       "      <td>2024-01-31 16:49:59</td>\n",
       "      <td>p_035</td>\n",
       "      <td>Non Veg</td>\n",
       "      <td>Chicken Pepperoni</td>\n",
       "      <td>Medium</td>\n",
       "      <td>609</td>\n",
       "      <td>17.286638</td>\n",
       "      <td>2024</td>\n",
       "      <td>16</td>\n",
       "      <td>2024-01-31</td>\n",
       "    </tr>\n",
       "    <tr>\n",
       "      <th>3476669</th>\n",
       "      <td>321684386</td>\n",
       "      <td>2024-01-31 18:53:03.984373283</td>\n",
       "      <td>Delivered</td>\n",
       "      <td>2024-01-31 18:34:03</td>\n",
       "      <td>p_035</td>\n",
       "      <td>Non Veg</td>\n",
       "      <td>Chicken Pepperoni</td>\n",
       "      <td>Medium</td>\n",
       "      <td>609</td>\n",
       "      <td>19.016406</td>\n",
       "      <td>2024</td>\n",
       "      <td>18</td>\n",
       "      <td>2024-01-31</td>\n",
       "    </tr>\n",
       "    <tr>\n",
       "      <th>3476672</th>\n",
       "      <td>321684398</td>\n",
       "      <td>2024-01-31 19:24:43.512111920</td>\n",
       "      <td>Delivered</td>\n",
       "      <td>2024-01-31 19:05:01</td>\n",
       "      <td>p_035</td>\n",
       "      <td>Non Veg</td>\n",
       "      <td>Chicken Pepperoni</td>\n",
       "      <td>Medium</td>\n",
       "      <td>609</td>\n",
       "      <td>19.708535</td>\n",
       "      <td>2024</td>\n",
       "      <td>19</td>\n",
       "      <td>2024-01-31</td>\n",
       "    </tr>\n",
       "    <tr>\n",
       "      <th>3476675</th>\n",
       "      <td>321684401</td>\n",
       "      <td>2024-01-31 19:33:01.304076752</td>\n",
       "      <td>Delivered</td>\n",
       "      <td>2024-01-31 19:16:36</td>\n",
       "      <td>p_035</td>\n",
       "      <td>Non Veg</td>\n",
       "      <td>Chicken Pepperoni</td>\n",
       "      <td>Medium</td>\n",
       "      <td>609</td>\n",
       "      <td>16.421735</td>\n",
       "      <td>2024</td>\n",
       "      <td>19</td>\n",
       "      <td>2024-01-31</td>\n",
       "    </tr>\n",
       "    <tr>\n",
       "      <th>3476678</th>\n",
       "      <td>321684410</td>\n",
       "      <td>2024-01-31 20:18:15.167953404</td>\n",
       "      <td>Delivered</td>\n",
       "      <td>2024-01-31 20:00:40</td>\n",
       "      <td>p_035</td>\n",
       "      <td>Non Veg</td>\n",
       "      <td>Chicken Pepperoni</td>\n",
       "      <td>Medium</td>\n",
       "      <td>609</td>\n",
       "      <td>17.586133</td>\n",
       "      <td>2024</td>\n",
       "      <td>20</td>\n",
       "      <td>2024-01-31</td>\n",
       "    </tr>\n",
       "  </tbody>\n",
       "</table>\n",
       "<p>1158893 rows × 13 columns</p>\n",
       "</div>"
      ],
      "text/plain": [
       "          order_id                    time_stamp     status  \\\n",
       "2        321230114 2020-12-11 00:19:13.299151076  Delivered   \n",
       "5        321230125 2020-12-11 03:24:01.429084233  Delivered   \n",
       "8        321230132 2020-12-11 04:04:51.192638615  Delivered   \n",
       "11       321230136 2020-12-11 04:44:40.175141823  Delivered   \n",
       "14       321230174 2020-12-11 08:22:09.140170569  Delivered   \n",
       "...            ...                           ...        ...   \n",
       "3476666  321684344 2024-01-31 17:07:16.198293573  Delivered   \n",
       "3476669  321684386 2024-01-31 18:53:03.984373283  Delivered   \n",
       "3476672  321684398 2024-01-31 19:24:43.512111920  Delivered   \n",
       "3476675  321684401 2024-01-31 19:33:01.304076752  Delivered   \n",
       "3476678  321684410 2024-01-31 20:18:15.167953404  Delivered   \n",
       "\n",
       "            order_placed_at item_id category               Item     Size  \\\n",
       "2       2020-12-11 00:01:29   p_025  Non Veg  Chicken Dominator  Regular   \n",
       "5       2020-12-11 03:02:34   p_025  Non Veg  Chicken Dominator  Regular   \n",
       "8       2020-12-11 03:47:25   p_025  Non Veg  Chicken Dominator  Regular   \n",
       "11      2020-12-11 04:19:56   p_025  Non Veg  Chicken Dominator  Regular   \n",
       "14      2020-12-11 08:04:24   p_025  Non Veg  Chicken Dominator  Regular   \n",
       "...                     ...     ...      ...                ...      ...   \n",
       "3476666 2024-01-31 16:49:59   p_035  Non Veg  Chicken Pepperoni   Medium   \n",
       "3476669 2024-01-31 18:34:03   p_035  Non Veg  Chicken Pepperoni   Medium   \n",
       "3476672 2024-01-31 19:05:01   p_035  Non Veg  Chicken Pepperoni   Medium   \n",
       "3476675 2024-01-31 19:16:36   p_035  Non Veg  Chicken Pepperoni   Medium   \n",
       "3476678 2024-01-31 20:00:40   p_035  Non Veg  Chicken Pepperoni   Medium   \n",
       "\n",
       "         Price  Delivery_in_mins  Order_year  hour        date  \n",
       "2          365         17.738319        2020     0  2020-12-11  \n",
       "5          365         21.457151        2020     3  2020-12-11  \n",
       "8          365         17.436544        2020     3  2020-12-11  \n",
       "11         365         24.736252        2020     4  2020-12-11  \n",
       "14         365         17.752336        2020     8  2020-12-11  \n",
       "...        ...               ...         ...   ...         ...  \n",
       "3476666    609         17.286638        2024    16  2024-01-31  \n",
       "3476669    609         19.016406        2024    18  2024-01-31  \n",
       "3476672    609         19.708535        2024    19  2024-01-31  \n",
       "3476675    609         16.421735        2024    19  2024-01-31  \n",
       "3476678    609         17.586133        2024    20  2024-01-31  \n",
       "\n",
       "[1158893 rows x 13 columns]"
      ]
     },
     "execution_count": 39,
     "metadata": {},
     "output_type": "execute_result"
    }
   ],
   "source": [
    "delivered"
   ]
  },
  {
   "cell_type": "code",
   "execution_count": 40,
   "id": "db91a0ed",
   "metadata": {},
   "outputs": [],
   "source": [
    "per_hour = delivered.groupby(['hour','date'])['order_placed_at'].count().reset_index()"
   ]
  },
  {
   "cell_type": "code",
   "execution_count": 41,
   "id": "33f19bd3",
   "metadata": {},
   "outputs": [],
   "source": [
    "per_hour.columns = ['hour', 'date', 'orders']"
   ]
  },
  {
   "cell_type": "code",
   "execution_count": 42,
   "id": "581771be",
   "metadata": {},
   "outputs": [
    {
     "data": {
      "text/html": [
       "<div>\n",
       "<style scoped>\n",
       "    .dataframe tbody tr th:only-of-type {\n",
       "        vertical-align: middle;\n",
       "    }\n",
       "\n",
       "    .dataframe tbody tr th {\n",
       "        vertical-align: top;\n",
       "    }\n",
       "\n",
       "    .dataframe thead th {\n",
       "        text-align: right;\n",
       "    }\n",
       "</style>\n",
       "<table border=\"1\" class=\"dataframe\">\n",
       "  <thead>\n",
       "    <tr style=\"text-align: right;\">\n",
       "      <th></th>\n",
       "      <th>hour</th>\n",
       "      <th>date</th>\n",
       "      <th>orders</th>\n",
       "    </tr>\n",
       "  </thead>\n",
       "  <tbody>\n",
       "    <tr>\n",
       "      <th>0</th>\n",
       "      <td>0</td>\n",
       "      <td>2020-12-11</td>\n",
       "      <td>7</td>\n",
       "    </tr>\n",
       "    <tr>\n",
       "      <th>1</th>\n",
       "      <td>0</td>\n",
       "      <td>2020-12-12</td>\n",
       "      <td>18</td>\n",
       "    </tr>\n",
       "    <tr>\n",
       "      <th>2</th>\n",
       "      <td>0</td>\n",
       "      <td>2020-12-13</td>\n",
       "      <td>23</td>\n",
       "    </tr>\n",
       "    <tr>\n",
       "      <th>3</th>\n",
       "      <td>0</td>\n",
       "      <td>2020-12-14</td>\n",
       "      <td>11</td>\n",
       "    </tr>\n",
       "    <tr>\n",
       "      <th>4</th>\n",
       "      <td>0</td>\n",
       "      <td>2020-12-15</td>\n",
       "      <td>8</td>\n",
       "    </tr>\n",
       "    <tr>\n",
       "      <th>...</th>\n",
       "      <td>...</td>\n",
       "      <td>...</td>\n",
       "      <td>...</td>\n",
       "    </tr>\n",
       "    <tr>\n",
       "      <th>27449</th>\n",
       "      <td>23</td>\n",
       "      <td>2024-01-27</td>\n",
       "      <td>43</td>\n",
       "    </tr>\n",
       "    <tr>\n",
       "      <th>27450</th>\n",
       "      <td>23</td>\n",
       "      <td>2024-01-28</td>\n",
       "      <td>31</td>\n",
       "    </tr>\n",
       "    <tr>\n",
       "      <th>27451</th>\n",
       "      <td>23</td>\n",
       "      <td>2024-01-29</td>\n",
       "      <td>16</td>\n",
       "    </tr>\n",
       "    <tr>\n",
       "      <th>27452</th>\n",
       "      <td>23</td>\n",
       "      <td>2024-01-30</td>\n",
       "      <td>19</td>\n",
       "    </tr>\n",
       "    <tr>\n",
       "      <th>27453</th>\n",
       "      <td>23</td>\n",
       "      <td>2024-01-31</td>\n",
       "      <td>22</td>\n",
       "    </tr>\n",
       "  </tbody>\n",
       "</table>\n",
       "<p>27454 rows × 3 columns</p>\n",
       "</div>"
      ],
      "text/plain": [
       "       hour        date  orders\n",
       "0         0  2020-12-11       7\n",
       "1         0  2020-12-12      18\n",
       "2         0  2020-12-13      23\n",
       "3         0  2020-12-14      11\n",
       "4         0  2020-12-15       8\n",
       "...     ...         ...     ...\n",
       "27449    23  2024-01-27      43\n",
       "27450    23  2024-01-28      31\n",
       "27451    23  2024-01-29      16\n",
       "27452    23  2024-01-30      19\n",
       "27453    23  2024-01-31      22\n",
       "\n",
       "[27454 rows x 3 columns]"
      ]
     },
     "execution_count": 42,
     "metadata": {},
     "output_type": "execute_result"
    }
   ],
   "source": [
    "per_hour"
   ]
  },
  {
   "cell_type": "code",
   "execution_count": 43,
   "id": "9058f8b7",
   "metadata": {},
   "outputs": [],
   "source": [
    "per_hour_data = pd.pivot_table(data=per_hour, values='orders', index='date',columns='hour')"
   ]
  },
  {
   "cell_type": "code",
   "execution_count": 44,
   "id": "165f393b",
   "metadata": {},
   "outputs": [
    {
     "data": {
      "text/html": [
       "<div>\n",
       "<style scoped>\n",
       "    .dataframe tbody tr th:only-of-type {\n",
       "        vertical-align: middle;\n",
       "    }\n",
       "\n",
       "    .dataframe tbody tr th {\n",
       "        vertical-align: top;\n",
       "    }\n",
       "\n",
       "    .dataframe thead th {\n",
       "        text-align: right;\n",
       "    }\n",
       "</style>\n",
       "<table border=\"1\" class=\"dataframe\">\n",
       "  <thead>\n",
       "    <tr style=\"text-align: right;\">\n",
       "      <th>hour</th>\n",
       "      <th>0</th>\n",
       "      <th>1</th>\n",
       "      <th>2</th>\n",
       "      <th>3</th>\n",
       "      <th>4</th>\n",
       "      <th>5</th>\n",
       "      <th>6</th>\n",
       "      <th>7</th>\n",
       "      <th>8</th>\n",
       "      <th>9</th>\n",
       "      <th>...</th>\n",
       "      <th>14</th>\n",
       "      <th>15</th>\n",
       "      <th>16</th>\n",
       "      <th>17</th>\n",
       "      <th>18</th>\n",
       "      <th>19</th>\n",
       "      <th>20</th>\n",
       "      <th>21</th>\n",
       "      <th>22</th>\n",
       "      <th>23</th>\n",
       "    </tr>\n",
       "    <tr>\n",
       "      <th>date</th>\n",
       "      <th></th>\n",
       "      <th></th>\n",
       "      <th></th>\n",
       "      <th></th>\n",
       "      <th></th>\n",
       "      <th></th>\n",
       "      <th></th>\n",
       "      <th></th>\n",
       "      <th></th>\n",
       "      <th></th>\n",
       "      <th></th>\n",
       "      <th></th>\n",
       "      <th></th>\n",
       "      <th></th>\n",
       "      <th></th>\n",
       "      <th></th>\n",
       "      <th></th>\n",
       "      <th></th>\n",
       "      <th></th>\n",
       "      <th></th>\n",
       "      <th></th>\n",
       "    </tr>\n",
       "  </thead>\n",
       "  <tbody>\n",
       "    <tr>\n",
       "      <th>2020-12-11</th>\n",
       "      <td>7.0</td>\n",
       "      <td>9.0</td>\n",
       "      <td>12.0</td>\n",
       "      <td>20.0</td>\n",
       "      <td>15.0</td>\n",
       "      <td>10.0</td>\n",
       "      <td>24.0</td>\n",
       "      <td>31.0</td>\n",
       "      <td>78.0</td>\n",
       "      <td>26.0</td>\n",
       "      <td>...</td>\n",
       "      <td>58.0</td>\n",
       "      <td>76.0</td>\n",
       "      <td>68.0</td>\n",
       "      <td>99.0</td>\n",
       "      <td>62.0</td>\n",
       "      <td>81.0</td>\n",
       "      <td>26.0</td>\n",
       "      <td>29.0</td>\n",
       "      <td>42.0</td>\n",
       "      <td>18.0</td>\n",
       "    </tr>\n",
       "    <tr>\n",
       "      <th>2020-12-12</th>\n",
       "      <td>18.0</td>\n",
       "      <td>11.0</td>\n",
       "      <td>13.0</td>\n",
       "      <td>29.0</td>\n",
       "      <td>12.0</td>\n",
       "      <td>29.0</td>\n",
       "      <td>7.0</td>\n",
       "      <td>38.0</td>\n",
       "      <td>14.0</td>\n",
       "      <td>31.0</td>\n",
       "      <td>...</td>\n",
       "      <td>53.0</td>\n",
       "      <td>73.0</td>\n",
       "      <td>81.0</td>\n",
       "      <td>54.0</td>\n",
       "      <td>64.0</td>\n",
       "      <td>96.0</td>\n",
       "      <td>21.0</td>\n",
       "      <td>79.0</td>\n",
       "      <td>49.0</td>\n",
       "      <td>42.0</td>\n",
       "    </tr>\n",
       "    <tr>\n",
       "      <th>2020-12-13</th>\n",
       "      <td>23.0</td>\n",
       "      <td>13.0</td>\n",
       "      <td>12.0</td>\n",
       "      <td>21.0</td>\n",
       "      <td>4.0</td>\n",
       "      <td>10.0</td>\n",
       "      <td>20.0</td>\n",
       "      <td>32.0</td>\n",
       "      <td>34.0</td>\n",
       "      <td>26.0</td>\n",
       "      <td>...</td>\n",
       "      <td>48.0</td>\n",
       "      <td>44.0</td>\n",
       "      <td>35.0</td>\n",
       "      <td>55.0</td>\n",
       "      <td>73.0</td>\n",
       "      <td>37.0</td>\n",
       "      <td>35.0</td>\n",
       "      <td>18.0</td>\n",
       "      <td>47.0</td>\n",
       "      <td>11.0</td>\n",
       "    </tr>\n",
       "    <tr>\n",
       "      <th>2020-12-14</th>\n",
       "      <td>11.0</td>\n",
       "      <td>28.0</td>\n",
       "      <td>10.0</td>\n",
       "      <td>9.0</td>\n",
       "      <td>11.0</td>\n",
       "      <td>29.0</td>\n",
       "      <td>37.0</td>\n",
       "      <td>66.0</td>\n",
       "      <td>65.0</td>\n",
       "      <td>51.0</td>\n",
       "      <td>...</td>\n",
       "      <td>39.0</td>\n",
       "      <td>73.0</td>\n",
       "      <td>84.0</td>\n",
       "      <td>80.0</td>\n",
       "      <td>99.0</td>\n",
       "      <td>52.0</td>\n",
       "      <td>52.0</td>\n",
       "      <td>48.0</td>\n",
       "      <td>26.0</td>\n",
       "      <td>26.0</td>\n",
       "    </tr>\n",
       "    <tr>\n",
       "      <th>2020-12-15</th>\n",
       "      <td>8.0</td>\n",
       "      <td>25.0</td>\n",
       "      <td>7.0</td>\n",
       "      <td>16.0</td>\n",
       "      <td>22.0</td>\n",
       "      <td>14.0</td>\n",
       "      <td>12.0</td>\n",
       "      <td>44.0</td>\n",
       "      <td>52.0</td>\n",
       "      <td>78.0</td>\n",
       "      <td>...</td>\n",
       "      <td>60.0</td>\n",
       "      <td>65.0</td>\n",
       "      <td>60.0</td>\n",
       "      <td>77.0</td>\n",
       "      <td>67.0</td>\n",
       "      <td>43.0</td>\n",
       "      <td>38.0</td>\n",
       "      <td>57.0</td>\n",
       "      <td>35.0</td>\n",
       "      <td>11.0</td>\n",
       "    </tr>\n",
       "    <tr>\n",
       "      <th>...</th>\n",
       "      <td>...</td>\n",
       "      <td>...</td>\n",
       "      <td>...</td>\n",
       "      <td>...</td>\n",
       "      <td>...</td>\n",
       "      <td>...</td>\n",
       "      <td>...</td>\n",
       "      <td>...</td>\n",
       "      <td>...</td>\n",
       "      <td>...</td>\n",
       "      <td>...</td>\n",
       "      <td>...</td>\n",
       "      <td>...</td>\n",
       "      <td>...</td>\n",
       "      <td>...</td>\n",
       "      <td>...</td>\n",
       "      <td>...</td>\n",
       "      <td>...</td>\n",
       "      <td>...</td>\n",
       "      <td>...</td>\n",
       "      <td>...</td>\n",
       "    </tr>\n",
       "    <tr>\n",
       "      <th>2024-01-27</th>\n",
       "      <td>23.0</td>\n",
       "      <td>15.0</td>\n",
       "      <td>16.0</td>\n",
       "      <td>9.0</td>\n",
       "      <td>28.0</td>\n",
       "      <td>10.0</td>\n",
       "      <td>24.0</td>\n",
       "      <td>27.0</td>\n",
       "      <td>45.0</td>\n",
       "      <td>41.0</td>\n",
       "      <td>...</td>\n",
       "      <td>51.0</td>\n",
       "      <td>36.0</td>\n",
       "      <td>54.0</td>\n",
       "      <td>47.0</td>\n",
       "      <td>44.0</td>\n",
       "      <td>27.0</td>\n",
       "      <td>29.0</td>\n",
       "      <td>19.0</td>\n",
       "      <td>21.0</td>\n",
       "      <td>43.0</td>\n",
       "    </tr>\n",
       "    <tr>\n",
       "      <th>2024-01-28</th>\n",
       "      <td>10.0</td>\n",
       "      <td>18.0</td>\n",
       "      <td>22.0</td>\n",
       "      <td>29.0</td>\n",
       "      <td>3.0</td>\n",
       "      <td>20.0</td>\n",
       "      <td>32.0</td>\n",
       "      <td>28.0</td>\n",
       "      <td>45.0</td>\n",
       "      <td>63.0</td>\n",
       "      <td>...</td>\n",
       "      <td>69.0</td>\n",
       "      <td>83.0</td>\n",
       "      <td>78.0</td>\n",
       "      <td>69.0</td>\n",
       "      <td>47.0</td>\n",
       "      <td>57.0</td>\n",
       "      <td>47.0</td>\n",
       "      <td>29.0</td>\n",
       "      <td>37.0</td>\n",
       "      <td>31.0</td>\n",
       "    </tr>\n",
       "    <tr>\n",
       "      <th>2024-01-29</th>\n",
       "      <td>18.0</td>\n",
       "      <td>3.0</td>\n",
       "      <td>29.0</td>\n",
       "      <td>24.0</td>\n",
       "      <td>12.0</td>\n",
       "      <td>3.0</td>\n",
       "      <td>14.0</td>\n",
       "      <td>28.0</td>\n",
       "      <td>29.0</td>\n",
       "      <td>32.0</td>\n",
       "      <td>...</td>\n",
       "      <td>129.0</td>\n",
       "      <td>76.0</td>\n",
       "      <td>144.0</td>\n",
       "      <td>227.0</td>\n",
       "      <td>102.0</td>\n",
       "      <td>49.0</td>\n",
       "      <td>32.0</td>\n",
       "      <td>41.0</td>\n",
       "      <td>13.0</td>\n",
       "      <td>16.0</td>\n",
       "    </tr>\n",
       "    <tr>\n",
       "      <th>2024-01-30</th>\n",
       "      <td>31.0</td>\n",
       "      <td>25.0</td>\n",
       "      <td>13.0</td>\n",
       "      <td>11.0</td>\n",
       "      <td>7.0</td>\n",
       "      <td>27.0</td>\n",
       "      <td>30.0</td>\n",
       "      <td>74.0</td>\n",
       "      <td>57.0</td>\n",
       "      <td>74.0</td>\n",
       "      <td>...</td>\n",
       "      <td>104.0</td>\n",
       "      <td>70.0</td>\n",
       "      <td>77.0</td>\n",
       "      <td>60.0</td>\n",
       "      <td>61.0</td>\n",
       "      <td>41.0</td>\n",
       "      <td>36.0</td>\n",
       "      <td>30.0</td>\n",
       "      <td>31.0</td>\n",
       "      <td>19.0</td>\n",
       "    </tr>\n",
       "    <tr>\n",
       "      <th>2024-01-31</th>\n",
       "      <td>6.0</td>\n",
       "      <td>7.0</td>\n",
       "      <td>13.0</td>\n",
       "      <td>17.0</td>\n",
       "      <td>5.0</td>\n",
       "      <td>26.0</td>\n",
       "      <td>42.0</td>\n",
       "      <td>55.0</td>\n",
       "      <td>71.0</td>\n",
       "      <td>62.0</td>\n",
       "      <td>...</td>\n",
       "      <td>61.0</td>\n",
       "      <td>64.0</td>\n",
       "      <td>51.0</td>\n",
       "      <td>58.0</td>\n",
       "      <td>60.0</td>\n",
       "      <td>27.0</td>\n",
       "      <td>38.0</td>\n",
       "      <td>27.0</td>\n",
       "      <td>9.0</td>\n",
       "      <td>22.0</td>\n",
       "    </tr>\n",
       "  </tbody>\n",
       "</table>\n",
       "<p>1147 rows × 24 columns</p>\n",
       "</div>"
      ],
      "text/plain": [
       "hour          0     1     2     3     4     5     6     7     8     9   ...  \\\n",
       "date                                                                    ...   \n",
       "2020-12-11   7.0   9.0  12.0  20.0  15.0  10.0  24.0  31.0  78.0  26.0  ...   \n",
       "2020-12-12  18.0  11.0  13.0  29.0  12.0  29.0   7.0  38.0  14.0  31.0  ...   \n",
       "2020-12-13  23.0  13.0  12.0  21.0   4.0  10.0  20.0  32.0  34.0  26.0  ...   \n",
       "2020-12-14  11.0  28.0  10.0   9.0  11.0  29.0  37.0  66.0  65.0  51.0  ...   \n",
       "2020-12-15   8.0  25.0   7.0  16.0  22.0  14.0  12.0  44.0  52.0  78.0  ...   \n",
       "...          ...   ...   ...   ...   ...   ...   ...   ...   ...   ...  ...   \n",
       "2024-01-27  23.0  15.0  16.0   9.0  28.0  10.0  24.0  27.0  45.0  41.0  ...   \n",
       "2024-01-28  10.0  18.0  22.0  29.0   3.0  20.0  32.0  28.0  45.0  63.0  ...   \n",
       "2024-01-29  18.0   3.0  29.0  24.0  12.0   3.0  14.0  28.0  29.0  32.0  ...   \n",
       "2024-01-30  31.0  25.0  13.0  11.0   7.0  27.0  30.0  74.0  57.0  74.0  ...   \n",
       "2024-01-31   6.0   7.0  13.0  17.0   5.0  26.0  42.0  55.0  71.0  62.0  ...   \n",
       "\n",
       "hour           14    15     16     17     18    19    20    21    22    23  \n",
       "date                                                                        \n",
       "2020-12-11   58.0  76.0   68.0   99.0   62.0  81.0  26.0  29.0  42.0  18.0  \n",
       "2020-12-12   53.0  73.0   81.0   54.0   64.0  96.0  21.0  79.0  49.0  42.0  \n",
       "2020-12-13   48.0  44.0   35.0   55.0   73.0  37.0  35.0  18.0  47.0  11.0  \n",
       "2020-12-14   39.0  73.0   84.0   80.0   99.0  52.0  52.0  48.0  26.0  26.0  \n",
       "2020-12-15   60.0  65.0   60.0   77.0   67.0  43.0  38.0  57.0  35.0  11.0  \n",
       "...           ...   ...    ...    ...    ...   ...   ...   ...   ...   ...  \n",
       "2024-01-27   51.0  36.0   54.0   47.0   44.0  27.0  29.0  19.0  21.0  43.0  \n",
       "2024-01-28   69.0  83.0   78.0   69.0   47.0  57.0  47.0  29.0  37.0  31.0  \n",
       "2024-01-29  129.0  76.0  144.0  227.0  102.0  49.0  32.0  41.0  13.0  16.0  \n",
       "2024-01-30  104.0  70.0   77.0   60.0   61.0  41.0  36.0  30.0  31.0  19.0  \n",
       "2024-01-31   61.0  64.0   51.0   58.0   60.0  27.0  38.0  27.0   9.0  22.0  \n",
       "\n",
       "[1147 rows x 24 columns]"
      ]
     },
     "execution_count": 44,
     "metadata": {},
     "output_type": "execute_result"
    }
   ],
   "source": [
    "per_hour_data"
   ]
  },
  {
   "cell_type": "code",
   "execution_count": 45,
   "id": "f0979e50",
   "metadata": {},
   "outputs": [],
   "source": [
    "per_hour_data.fillna(0,inplace=True)"
   ]
  },
  {
   "cell_type": "code",
   "execution_count": 46,
   "id": "9fd29361",
   "metadata": {},
   "outputs": [
    {
     "data": {
      "text/plain": [
       "<Axes: >"
      ]
     },
     "execution_count": 46,
     "metadata": {},
     "output_type": "execute_result"
    },
    {
     "data": {
      "image/png": "[encoded data removed]",
      "text/plain": [
       "<Figure size 900x900 with 1 Axes>"
      ]
     },
     "metadata": {},
     "output_type": "display_data"
    }
   ],
   "source": [
    "per_hour_data[0].value_counts().sort_index().plot(kind = 'bar', figsize = (9,9))"
   ]
  },
  {
   "cell_type": "markdown",
   "id": "7e6d29b9",
   "metadata": {},
   "source": [
    "## Orders per hour is following Poison Distribution"
   ]
  },
  {
   "cell_type": "code",
   "execution_count": null,
   "id": "a10e1bb8",
   "metadata": {},
   "outputs": [],
   "source": []
  }
 ],
 "metadata": {
  "kernelspec": {
   "display_name": "Python 3 (ipykernel)",
   "language": "python",
   "name": "python3"
  },
  "language_info": {
   "codemirror_mode": {
    "name": "ipython",
    "version": 3
   },
   "file_extension": ".py",
   "mimetype": "text/x-python",
   "name": "python",
   "nbconvert_exporter": "python",
   "pygments_lexer": "ipython3",
   "version": "3.11.4"
  }
 },
 "nbformat": 4,
 "nbformat_minor": 5
}
