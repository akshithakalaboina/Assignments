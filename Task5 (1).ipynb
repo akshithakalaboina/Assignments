{
 "cells": [
  {
   "cell_type": "markdown",
   "id": "f9cca2f0",
   "metadata": {},
   "source": [
    "**Task1: Append and Modify Elements**\n",
    "    \n",
    "* Create an empty list called numbers. Append the numbers 1, 2, and 3 to the list.\n",
    "* Modify the element at index 1 to be 4.\n",
    "* Print the updated list.\n",
    "\n",
    "**Task2: Slicing and Concatenation**\n",
    "\n",
    "* Create a list called fruits with elements 'apple', 'banana', 'orange', 'mango', and 'kiwi'. \n",
    "* Create a new list  by slicing fruits to include only the citrus fruits ('orange' and 'mango\"). * Create a new list called tropical by slicing fruits to include only the tropical fruits ('banana\" and \"kiwi'). \n",
    "* Concatenate citrus and tropical lists to create a new list called combined. Print combined.\n",
    "\n",
    "**Task3: Counting and Removing Elements**\n",
    "\n",
    "* Create a list called colors with repeated elements 'red', 'blue', 'red', 'green', 'red'. Print the number of occurrences of 'red' in the list. Remove all occurrences of 'red' from the list. Print the updated list.\n",
    "\n",
    "**Task 4: List Manipulation**\n",
    "\n",
    "* Add 'cheese' to the end of the list. Remove 'milk' from the list.\n",
    "* Create a list called groceries with initial items: 'bread', 'milk', 'eggs', 'butter'. Print the final list of groceries.\n",
    "* Insert 'yogurt' at index 1.\n",
    "\n"
   ]
  },
  {
   "cell_type": "markdown",
   "id": "720ee85a",
   "metadata": {},
   "source": [
    "# Task1: Append and Modify Elements"
   ]
  },
  {
   "cell_type": "markdown",
   "id": "9ecc207a",
   "metadata": {},
   "source": [
    ".Create an empty list called numbers. Append the numbers 1, 2, and 3 to the list.\n",
    "\n",
    ".Modify the element at index 1 to be 4.\n",
    "\n",
    ".Print the updated list."
   ]
  },
  {
   "cell_type": "code",
   "execution_count": 9,
   "id": "d6b8c590",
   "metadata": {},
   "outputs": [],
   "source": [
    "numbers = []"
   ]
  },
  {
   "cell_type": "code",
   "execution_count": 10,
   "id": "aed3d019",
   "metadata": {},
   "outputs": [],
   "source": [
    "numbers.append(1)"
   ]
  },
  {
   "cell_type": "code",
   "execution_count": 11,
   "id": "7d1d67e2",
   "metadata": {},
   "outputs": [],
   "source": [
    "numbers.append(2)"
   ]
  },
  {
   "cell_type": "code",
   "execution_count": 12,
   "id": "e4818b38",
   "metadata": {},
   "outputs": [],
   "source": [
    "numbers.append(3)"
   ]
  },
  {
   "cell_type": "code",
   "execution_count": 13,
   "id": "e12f350b",
   "metadata": {},
   "outputs": [
    {
     "data": {
      "text/plain": [
       "[1, 2, 3]"
      ]
     },
     "execution_count": 13,
     "metadata": {},
     "output_type": "execute_result"
    }
   ],
   "source": [
    "numbers"
   ]
  },
  {
   "cell_type": "code",
   "execution_count": 14,
   "id": "e410fe97",
   "metadata": {},
   "outputs": [],
   "source": [
    "numbers.insert(1,4)"
   ]
  },
  {
   "cell_type": "code",
   "execution_count": 15,
   "id": "256aa135",
   "metadata": {},
   "outputs": [
    {
     "data": {
      "text/plain": [
       "[1, 4, 2, 3]"
      ]
     },
     "execution_count": 15,
     "metadata": {},
     "output_type": "execute_result"
    }
   ],
   "source": [
    "numbers"
   ]
  },
  {
   "cell_type": "markdown",
   "id": "a40ce947",
   "metadata": {},
   "source": [
    "# Task2: Slicing and Concatenation"
   ]
  },
  {
   "cell_type": "markdown",
   "id": "1147a683",
   "metadata": {},
   "source": [
    ".Create a list called fruits with elements 'apple', 'banana', 'orange', 'mango', and 'kiwi'.\n",
    "\n",
    ".Create a new list by slicing fruits to include only the citrus fruits ('orange' and 'mango\"). * Create a new list called tropical by slicing fruits to include only the tropical fruits ('banana\" and \"kiwi')\n",
    "                                                                        \n",
    ".Concatenate citrus and tropical lists to create a new list called combined. Print combined."
   ]
  },
  {
   "cell_type": "code",
   "execution_count": 17,
   "id": "93c09469",
   "metadata": {},
   "outputs": [],
   "source": [
    "fruits = ['apple', 'banana', 'orange', 'mango', \"kiwi\"]"
   ]
  },
  {
   "cell_type": "code",
   "execution_count": 24,
   "id": "82de018c",
   "metadata": {},
   "outputs": [],
   "source": [
    "citrus_fruits = fruits[2:4:]"
   ]
  },
  {
   "cell_type": "code",
   "execution_count": 25,
   "id": "3e5cfe27",
   "metadata": {},
   "outputs": [
    {
     "data": {
      "text/plain": [
       "['orange', 'mango']"
      ]
     },
     "execution_count": 25,
     "metadata": {},
     "output_type": "execute_result"
    }
   ],
   "source": [
    "citrus_fruits"
   ]
  },
  {
   "cell_type": "code",
   "execution_count": 34,
   "id": "33e1f295",
   "metadata": {},
   "outputs": [],
   "source": [
    "tropical_fruits = fruits[1::3]"
   ]
  },
  {
   "cell_type": "code",
   "execution_count": 35,
   "id": "c77b7055",
   "metadata": {},
   "outputs": [
    {
     "data": {
      "text/plain": [
       "['banana', 'kiwi']"
      ]
     },
     "execution_count": 35,
     "metadata": {},
     "output_type": "execute_result"
    }
   ],
   "source": [
    "tropical_fruits"
   ]
  },
  {
   "cell_type": "code",
   "execution_count": 36,
   "id": "5432bdbf",
   "metadata": {},
   "outputs": [],
   "source": [
    "combined = citrus_fruits + tropical_fruits"
   ]
  },
  {
   "cell_type": "code",
   "execution_count": 37,
   "id": "bf3543cb",
   "metadata": {},
   "outputs": [
    {
     "name": "stdout",
     "output_type": "stream",
     "text": [
      "['orange', 'mango', 'banana', 'kiwi']\n"
     ]
    }
   ],
   "source": [
    "print(combined)"
   ]
  },
  {
   "cell_type": "markdown",
   "id": "c370723f",
   "metadata": {},
   "source": [
    "# Task3: Counting and Removing Elements"
   ]
  },
  {
   "cell_type": "markdown",
   "id": "9bf26942",
   "metadata": {},
   "source": [
    ".Create a list called colors with repeated elements 'red', 'blue', 'red', 'green', 'red'. Print the number of occurrences of 'red' in the list. Remove all occurrences of 'red' from the list. Print the updated list.\n"
   ]
  },
  {
   "cell_type": "code",
   "execution_count": 38,
   "id": "6fb516bb",
   "metadata": {},
   "outputs": [],
   "source": [
    "color = ['red', 'blue', 'red', 'green', 'red']"
   ]
  },
  {
   "cell_type": "code",
   "execution_count": 39,
   "id": "3a396a74",
   "metadata": {},
   "outputs": [
    {
     "data": {
      "text/plain": [
       "3"
      ]
     },
     "execution_count": 39,
     "metadata": {},
     "output_type": "execute_result"
    }
   ],
   "source": [
    "color.count('red')"
   ]
  },
  {
   "cell_type": "code",
   "execution_count": 40,
   "id": "3619c7ff",
   "metadata": {},
   "outputs": [],
   "source": [
    "color.remove('red')"
   ]
  },
  {
   "cell_type": "code",
   "execution_count": 41,
   "id": "6a3946b3",
   "metadata": {},
   "outputs": [
    {
     "data": {
      "text/plain": [
       "['blue', 'red', 'green', 'red']"
      ]
     },
     "execution_count": 41,
     "metadata": {},
     "output_type": "execute_result"
    }
   ],
   "source": [
    "color"
   ]
  },
  {
   "cell_type": "code",
   "execution_count": 42,
   "id": "2d33996d",
   "metadata": {},
   "outputs": [],
   "source": [
    "color.remove('red')"
   ]
  },
  {
   "cell_type": "code",
   "execution_count": 43,
   "id": "8f9cb58d",
   "metadata": {},
   "outputs": [],
   "source": [
    "color.remove('red')"
   ]
  },
  {
   "cell_type": "code",
   "execution_count": 44,
   "id": "335d273f",
   "metadata": {},
   "outputs": [
    {
     "data": {
      "text/plain": [
       "['blue', 'green']"
      ]
     },
     "execution_count": 44,
     "metadata": {},
     "output_type": "execute_result"
    }
   ],
   "source": [
    "color"
   ]
  },
  {
   "cell_type": "markdown",
   "id": "966e73e0",
   "metadata": {},
   "source": [
    "# Task 4: List Manipulation\n",
    "\n",
    ".Add 'cheese' to the end of the list. Remove 'milk' from the list.\n",
    "\n",
    ".Create a list called groceries with initial items: 'bread', 'milk', 'eggs', 'butter'. Print the final list of groceries.\n",
    "\n",
    ".Insert 'yogurt' at index 1."
   ]
  },
  {
   "cell_type": "code",
   "execution_count": 45,
   "id": "5f70af35",
   "metadata": {},
   "outputs": [],
   "source": [
    "groceries = ['bread', 'milk', 'eggs', 'butter']"
   ]
  },
  {
   "cell_type": "code",
   "execution_count": 46,
   "id": "1a7c20fd",
   "metadata": {},
   "outputs": [],
   "source": [
    "groceries.append('cheese')"
   ]
  },
  {
   "cell_type": "code",
   "execution_count": 47,
   "id": "1ce89d3e",
   "metadata": {},
   "outputs": [
    {
     "data": {
      "text/plain": [
       "['bread', 'milk', 'eggs', 'butter', 'cheese']"
      ]
     },
     "execution_count": 47,
     "metadata": {},
     "output_type": "execute_result"
    }
   ],
   "source": [
    "groceries"
   ]
  },
  {
   "cell_type": "code",
   "execution_count": 48,
   "id": "8b87c5a0",
   "metadata": {},
   "outputs": [],
   "source": [
    "groceries.remove('milk')"
   ]
  },
  {
   "cell_type": "code",
   "execution_count": 49,
   "id": "3c5284bf",
   "metadata": {},
   "outputs": [
    {
     "data": {
      "text/plain": [
       "['bread', 'eggs', 'butter', 'cheese']"
      ]
     },
     "execution_count": 49,
     "metadata": {},
     "output_type": "execute_result"
    }
   ],
   "source": [
    "groceries"
   ]
  },
  {
   "cell_type": "code",
   "execution_count": 50,
   "id": "99b85c30",
   "metadata": {},
   "outputs": [],
   "source": [
    "groceries.insert(1, 'yogurt')"
   ]
  },
  {
   "cell_type": "code",
   "execution_count": 51,
   "id": "934f317e",
   "metadata": {},
   "outputs": [
    {
     "data": {
      "text/plain": [
       "['bread', 'yogurt', 'eggs', 'butter', 'cheese']"
      ]
     },
     "execution_count": 51,
     "metadata": {},
     "output_type": "execute_result"
    }
   ],
   "source": [
    "groceries"
   ]
  },
  {
   "cell_type": "code",
   "execution_count": null,
   "id": "ed3c5361",
   "metadata": {},
   "outputs": [],
   "source": []
  }
 ],
 "metadata": {
  "kernelspec": {
   "display_name": "Python 3 (ipykernel)",
   "language": "python",
   "name": "python3"
  },
  "language_info": {
   "codemirror_mode": {
    "name": "ipython",
    "version": 3
   },
   "file_extension": ".py",
   "mimetype": "text/x-python",
   "name": "python",
   "nbconvert_exporter": "python",
   "pygments_lexer": "ipython3",
   "version": "3.11.4"
  }
 },
 "nbformat": 4,
 "nbformat_minor": 5
}
