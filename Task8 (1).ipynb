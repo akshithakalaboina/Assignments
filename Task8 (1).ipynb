{
 "cells": [
  {
   "cell_type": "markdown",
   "id": "21c2b7b2",
   "metadata": {},
   "source": [
    "\n",
    "**Task 1: Basic If-Else Statements**\n",
    "Write a Python program that takes an `integer as input` from the user and prints whether it is `multiple of 3 or not` using if-else statements.\n",
    "\n",
    "**Task 2: Nested If Statements**\n",
    "Create a program that `asks the user` for their `age` and `nationality`. Depending on their age and nationality, display a different message using nested if statements. For example, if they are under 18 and from the USA, display `\"You are a minor from the USA.\"`\n",
    "\n",
    "**Task 3: Grade Calculator**\n",
    "Write a program that takes a student's score as input and converts it to a letter grade (A, B, C, D, or F) using if-elif-else statements. Use the following grading scale:\n",
    "- A: 90-100\n",
    "- B: 80-89\n",
    "- C: 70-79\n",
    "- D: 60-69\n",
    "- F: Below 60\n",
    "\n",
    "**Task 4: Leap Year Checker**\n",
    "Create a Python program that checks if a given year is a leap year or not. Use conditional statements to determine whether the year is divisible by 4, 100, and 400 to decide if it's a leap year.\n",
    "\n",
    "**Task 5: BMI Calculator**\n",
    "Write a program that calculates a person's Body Mass Index (BMI) based on their height and weight. Then, use conditional statements to categorize the BMI as Underweight, Normal, Overweight, or Obese. Provide guidance on the healthy range for BMI.(use BMI Formula)\n",
    "\n",
    "**Task 6: Calculator with Menu**\n",
    "Build a simple calculator program that provides a menu with options for addition, subtraction, multiplication, and division. `Take user input for two numbers`and an `operation choice`. Use conditional statements to perform the selected operation and display the result.\n",
    "\n",
    "**Task 7: Temperature Converter**\n",
    "Write a program that `converts temperatures between Celsius and Fahrenhei`t. Allow the user to `choose` the conversion direction and input the temperature value. Use conditional statements to perform the conversion based on the `user's choice`.(Do with conversion formula)\n"
   ]
  },
  {
   "cell_type": "markdown",
   "id": "1f995ee1",
   "metadata": {},
   "source": [
    " # Task 1: Basic If-Else Statements\n",
    "    \n",
    "Write a Python program that takes an integer as input from the user and prints whether it is multiple of 3 or not using if-else statements."
   ]
  },
  {
   "cell_type": "code",
   "execution_count": 3,
   "id": "b0db6ae7",
   "metadata": {},
   "outputs": [
    {
     "name": "stdout",
     "output_type": "stream",
     "text": [
      "Enter the number7\n",
      "num is not a multiple of 3\n"
     ]
    }
   ],
   "source": [
    "num = int(input(\"Enter the number\"))\n",
    "if (num % 3 == 0):\n",
    "    print(\"num is multiple of 3\")\n",
    "else:\n",
    "    print(\"num is not a multiple of 3\")"
   ]
  },
  {
   "cell_type": "markdown",
   "id": "4057006b",
   "metadata": {},
   "source": [
    "# Task 2: Nested If Statements \n",
    "\n",
    "Create a program that asks the user for their age and nationality. Depending on their age and nationality, display a different message using nested if statements. For example, if they are under 18 and from the USA, display \"You are a minor from the USA.\""
   ]
  },
  {
   "cell_type": "code",
   "execution_count": 5,
   "id": "62b401b0",
   "metadata": {},
   "outputs": [
    {
     "name": "stdout",
     "output_type": "stream",
     "text": [
      "Enter the age : 21\n",
      "Enter the country name : germany\n",
      "you are major from germany\n"
     ]
    }
   ],
   "source": [
    "age = int(input(\"Enter the age : \"))\n",
    "nationality = input(\"Enter the country name : \")\n",
    "if(age<18) and (age>0):\n",
    "    if('nationality' == \"Germany\"):\n",
    "      print(f\"you are minor from {nationality}\")\n",
    "elif(age>=18):\n",
    "    print(f\"you are major from {nationality}\")\n",
    "else:\n",
    "    print(\"Enter a valid age\" )\n"
   ]
  },
  {
   "cell_type": "markdown",
   "id": "b07c43e9",
   "metadata": {},
   "source": [
    "# Task 3: \n",
    "\n",
    "Grade Calculator Write a program that takes a student's score as input and converts it to a letter grade (A, B, C, D, or F) using if-elif-else statements. Use the following grading scale:\n",
    "\n",
    "A: 90-100\n",
    "B: 80-89\n",
    "C: 70-79\n",
    "D: 60-69\n",
    "F: Below 60"
   ]
  },
  {
   "cell_type": "code",
   "execution_count": 8,
   "id": "3dfba12d",
   "metadata": {},
   "outputs": [
    {
     "name": "stdout",
     "output_type": "stream",
     "text": [
      "enter the score : 72\n",
      "grade : C\n"
     ]
    }
   ],
   "source": [
    "score = int(input(\"enter the score : \"))\n",
    "if(score>=90) and (score<=100):\n",
    "    print(\"grade : A\")\n",
    "elif(score>=80) and (score<=89):\n",
    "    print(\"grade : B\")\n",
    "elif(score>=70) and (score<=79):\n",
    "    print(\"grade : C\")\n",
    "elif(score>=60) and (score<=69):\n",
    "    print(\"grade : D\")\n",
    "else:\n",
    "    print(\"enter the valid score\")"
   ]
  },
  {
   "cell_type": "markdown",
   "id": "88f9920e",
   "metadata": {},
   "source": [
    "# Task 4: \n",
    "\n",
    "Leap Year Checker Create a Python program that checks if a given year is a leap year or not. Use conditional statements to determine whether the year is divisible by 4, 100, and 400 to decide if it's a leap year."
   ]
  },
  {
   "cell_type": "code",
   "execution_count": 9,
   "id": "b67fa4fa",
   "metadata": {},
   "outputs": [
    {
     "name": "stdout",
     "output_type": "stream",
     "text": [
      "Enter year : 1996\n",
      "1996 is a leap year.\n"
     ]
    }
   ],
   "source": [
    "year = int(input('Enter year : '))\n",
    " \n",
    "if (year%4 == 0 and year%100 != 0) or (year%400 == 0) :\n",
    "    print(year, \"is a leap year.\")\n",
    "else :\n",
    "    print(year, \"is not a leap year.\")\n"
   ]
  },
  {
   "cell_type": "markdown",
   "id": "6ded844f",
   "metadata": {},
   "source": [
    "# Task 5: \n",
    "    \n",
    "BMI Calculator Write a program that calculates a person's Body Mass Index (BMI) based on their height and weight. Then, use conditional statements to categorize the BMI as Underweight, Normal, Overweight, or Obese. Provide guidance on the healthy range for BMI.(use BMI Formula)"
   ]
  },
  {
   "cell_type": "code",
   "execution_count": 10,
   "id": "00e6532c",
   "metadata": {},
   "outputs": [
    {
     "name": "stdout",
     "output_type": "stream",
     "text": [
      "enter the height : 5.5\n",
      "enter the weight : 58\n",
      "BMI is 1.9173553719008265\n",
      "underweight\n"
     ]
    }
   ],
   "source": [
    "height = float(input(\"enter the height : \"))\n",
    "weight = float(input(\"enter the weight : \"))\n",
    "BMI = weight/(height**2)\n",
    "print(\"BMI is\",BMI)\n",
    "if (BMI<18.5) and (BMI>0):\n",
    "    print(\"underweight\") \n",
    "elif (BMI==18.5) and (BMI<=25):\n",
    "    print(\"Normal weight\")\n",
    "elif (BMI==26) and (BMI<=30):\n",
    "    print(\"Overweight\")\n",
    "elif (BMI>31):\n",
    "    print(\"obese\")\n",
    "else:\n",
    "    print(\"enter a valid height and weight\")"
   ]
  },
  {
   "cell_type": "markdown",
   "id": "02a480d8",
   "metadata": {},
   "source": [
    "# Task 6: \n",
    "    \n",
    "Calculator with Menu Build a simple calculator program that provides a menu with options for addition, subtraction, multiplication, and division. Take user input for two numbersand an operation choice. Use conditional statements to perform the selected operation and display the result."
   ]
  },
  {
   "cell_type": "code",
   "execution_count": 1,
   "id": "99b12b34",
   "metadata": {},
   "outputs": [
    {
     "name": "stdout",
     "output_type": "stream",
     "text": [
      "enter num1 : 8\n",
      "enter num2 : 10\n",
      "enter an operation : addition\n",
      "addition :  18\n"
     ]
    }
   ],
   "source": [
    "num1 = int(input(\"enter num1 : \"))\n",
    "num2 = int(input(\"enter num2 : \"))\n",
    "operation= input(\"enter an operation : \")\n",
    "if (operation == 'addition'):\n",
    "    print(\"addition : \",num1+num2)\n",
    "elif (operation == 'subtraction'):\n",
    "    print(\"subtraction : \",num1-num2)\n",
    "elif (operation == 'multiplication')  :\n",
    "    print(\"multiplication : \",num1*num2)\n",
    "elif (operation == 'division') :\n",
    "    print(\"division : \",num/num2)\n",
    "else:\n",
    "    print(\"it is not valid\")"
   ]
  },
  {
   "cell_type": "markdown",
   "id": "b51ffb9a",
   "metadata": {},
   "source": [
    "# Task 7: \n",
    "\n",
    "Temperature Converter Write a program that converts temperatures between Celsius and Fahrenheit. Allow the user to choose the conversion direction and input the temperature value. Use conditional statements to perform the conversion based on the user's choice.(Do with conversion formula)"
   ]
  },
  {
   "cell_type": "code",
   "execution_count": 3,
   "id": "f67f4490",
   "metadata": {},
   "outputs": [
    {
     "name": "stdout",
     "output_type": "stream",
     "text": [
      "enter the  temperature value : 98.4\n",
      "enter the value : fahrenheit\n",
      "temperature in fahrenheit :  209.12\n"
     ]
    }
   ],
   "source": [
    "temp = float(input(\"enter the  temperature value : \"))\n",
    "input1 = input(\"enter the value : \")\n",
    "if (input1 == \"fahrenheit\"):\n",
    "    fahrenheit = (9/5 * temp) + 32\n",
    "    print(\"temperature in fahrenheit : \",fahrenheit)\n",
    "elif (input1 == \"celsius\"):\n",
    "    celsius = (temp - 32) * 5/9\n",
    "    print(\"temperature in celsius : \",celsius)\n",
    "else:\n",
    "    print(\"enter valid value\")"
   ]
  },
  {
   "cell_type": "code",
   "execution_count": null,
   "id": "9753831a",
   "metadata": {},
   "outputs": [],
   "source": []
  }
 ],
 "metadata": {
  "kernelspec": {
   "display_name": "Python 3 (ipykernel)",
   "language": "python",
   "name": "python3"
  },
  "language_info": {
   "codemirror_mode": {
    "name": "ipython",
    "version": 3
   },
   "file_extension": ".py",
   "mimetype": "text/x-python",
   "name": "python",
   "nbconvert_exporter": "python",
   "pygments_lexer": "ipython3",
   "version": "3.11.4"
  }
 },
 "nbformat": 4,
 "nbformat_minor": 5
}
