{
 "cells": [
  {
   "cell_type": "markdown",
   "id": "110812e8",
   "metadata": {},
   "source": [
    "Assignment Tasks on String Escape Characters, Indexing, and Slicing:\n",
    "\n",
    "**String Escape Characters:**\n",
    "\n",
    "Task 1:\n",
    "1. Create a string containing a sentence that includes both single and double quotes.\n",
    "2. Use escape characters to include quotes within the string.\n",
    "3. Print the modified string.\n",
    "\n",
    "Task 2:\n",
    "1. Declare a string with a backslash \\ character in it.\n",
    "2. Demonstrate the use of the escape character to print the backslash itself.\n",
    "3. Print the resulting string.\n",
    "\n",
    "Task 3:\n",
    "1. Construct a string containing newline and tab escape sequences.\n",
    "2. Print the string to display the formatted output.\n",
    "\n",
    "**Indexing and Slicing:**\n",
    "\n",
    "Task 4:\n",
    "1.  sentence = \"I want to become Data Scientist\".\n",
    "2. Access and print the `first character` of the string using indexing.\n",
    "3. Access and print the `last character` of the string using negative indexing.\n",
    "\n",
    "Task 5:\n",
    "1. What are `possible ways` yo extract `Scientist`(use forward and reverse)\n",
    "2. Use slicing to extract and print the `first word` from the string.\n",
    "3. Use slicing to extract and print the `last three` characters of the string.\n",
    "\n",
    "Task 6:\n",
    "1. name = \"Innomatics Reserach Labs\"\n",
    "2. Apply slicing to extract a substring that includes the `second to fifth` characters.\n",
    "3. `Print` the extracted substring.\n",
    "\n",
    "Task 7:\n",
    "1. string = \"Python@1234\"\n",
    "2. Use slicing to extract every second character from the string.\n",
    "3. Print the resulting sliced string.\n",
    "\n",
    "Task 8:\n",
    "1.  print last five letters.\n",
    "2. Utilize slicing to reverse the word order in the string.\n",
    "3. Print the string with the words in the reversed order.\n",
    "\n",
    "Task 9:\n",
    "1. a = \"123123123\"\n",
    "2. Apply slicing to extract only the numeric characters at odd positions.\n",
    "3. Print the sliced result.\n",
    "\n",
    "Remember to include explanations or comments for each task's code to ensure clarity. Additionally, encourage students to experiment further with different escape characters and slicing techniques beyond the provided tasks to deepen their understanding."
   ]
  },
  {
   "cell_type": "markdown",
   "id": "c9023fac",
   "metadata": {},
   "source": [
    "Task 1:\n",
    "\n",
    "1.Create a string containing a sentence that includes both single and double quotes.\n",
    "\n",
    "2.Use escape characters to include quotes within the string.\n",
    "\n",
    "3.Print the modified string.\n",
    "\n"
   ]
  },
  {
   "cell_type": "code",
   "execution_count": 5,
   "id": "c6ecbbbf",
   "metadata": {},
   "outputs": [],
   "source": [
    "string = (\"This is akshitha\\'s notes which consists of some \\\"important\\\" topics\")"
   ]
  },
  {
   "cell_type": "code",
   "execution_count": 6,
   "id": "72f87e5c",
   "metadata": {},
   "outputs": [
    {
     "name": "stdout",
     "output_type": "stream",
     "text": [
      "This is akshitha's notes which consists of some \"important\" topics\n"
     ]
    }
   ],
   "source": [
    "print(string)"
   ]
  },
  {
   "cell_type": "markdown",
   "id": "5e7133a0",
   "metadata": {},
   "source": [
    "Task 2:\n",
    "\n",
    "1.Declare a string with a backslash \\ character in it.\n",
    "\n",
    "2.Demonstrate the use of the escape character to print the backslash itself.\n",
    "\n",
    "3.Print the resulting string."
   ]
  },
  {
   "cell_type": "code",
   "execution_count": 11,
   "id": "b163d1b8",
   "metadata": {},
   "outputs": [],
   "source": [
    "string = \"He\\\\bllo Worl\\bd\""
   ]
  },
  {
   "cell_type": "code",
   "execution_count": 12,
   "id": "be628708",
   "metadata": {},
   "outputs": [
    {
     "name": "stdout",
     "output_type": "stream",
     "text": [
      "He\\bllo Worl\bd\n"
     ]
    }
   ],
   "source": [
    "print(string) "
   ]
  },
  {
   "cell_type": "markdown",
   "id": "6f184bb1",
   "metadata": {},
   "source": [
    "Task 3:\n",
    "\n",
    "1.Construct a string containing newline and tab escape sequences.\n",
    "\n",
    "2.Print the string to display the formatted output."
   ]
  },
  {
   "cell_type": "code",
   "execution_count": 19,
   "id": "a76b0298",
   "metadata": {},
   "outputs": [],
   "source": [
    "name = \"This is akshitha\\nIam from Maharasthra\""
   ]
  },
  {
   "cell_type": "code",
   "execution_count": 20,
   "id": "febffe4c",
   "metadata": {},
   "outputs": [
    {
     "name": "stdout",
     "output_type": "stream",
     "text": [
      "This is akshitha\n",
      "Iam from Maharasthra\n"
     ]
    }
   ],
   "source": [
    "print(name)"
   ]
  },
  {
   "cell_type": "code",
   "execution_count": 21,
   "id": "89352560",
   "metadata": {},
   "outputs": [],
   "source": [
    "name = \"This\\tis\\takshitha\\tIam\\tfrom\\tMaharasthra\""
   ]
  },
  {
   "cell_type": "code",
   "execution_count": 22,
   "id": "e05acf89",
   "metadata": {},
   "outputs": [
    {
     "name": "stdout",
     "output_type": "stream",
     "text": [
      "This\tis\takshitha\tIam\tfrom\tMaharasthra\n"
     ]
    }
   ],
   "source": [
    "print(name)"
   ]
  },
  {
   "cell_type": "markdown",
   "id": "607a93ae",
   "metadata": {},
   "source": [
    "Task 4:\n",
    "\n",
    "sentence = \"I want to become Data Scientist\".\n",
    "\n",
    "Access and print the first character of the string using indexing.\n",
    "\n",
    "Access and print the last character of the string using negative indexing."
   ]
  },
  {
   "cell_type": "code",
   "execution_count": 23,
   "id": "03b7e3bb",
   "metadata": {},
   "outputs": [],
   "source": [
    "string = \"I want to become Data Scientist\""
   ]
  },
  {
   "cell_type": "code",
   "execution_count": 25,
   "id": "3b4d4b90",
   "metadata": {},
   "outputs": [
    {
     "data": {
      "text/plain": [
       "'I'"
      ]
     },
     "execution_count": 25,
     "metadata": {},
     "output_type": "execute_result"
    }
   ],
   "source": [
    "string[0]"
   ]
  },
  {
   "cell_type": "code",
   "execution_count": 27,
   "id": "bd1a74cc",
   "metadata": {},
   "outputs": [
    {
     "data": {
      "text/plain": [
       "'t'"
      ]
     },
     "execution_count": 27,
     "metadata": {},
     "output_type": "execute_result"
    }
   ],
   "source": [
    "string[-1]"
   ]
  },
  {
   "cell_type": "markdown",
   "id": "7685d3b0",
   "metadata": {},
   "source": [
    "Task 5:\n",
    "\n",
    "What are possible ways yo extract Scientist(use forward and reverse)\n",
    "\n",
    "Use slicing to extract and print the first word from the string.\n",
    "\n",
    "Use slicing to extract and print the last three characters of the string."
   ]
  },
  {
   "cell_type": "code",
   "execution_count": 38,
   "id": "875f012f",
   "metadata": {},
   "outputs": [],
   "source": [
    "string = \" Data Scientist\""
   ]
  },
  {
   "cell_type": "code",
   "execution_count": 39,
   "id": "17f7f144",
   "metadata": {},
   "outputs": [
    {
     "data": {
      "text/plain": [
       "'Scientist'"
      ]
     },
     "execution_count": 39,
     "metadata": {},
     "output_type": "execute_result"
    }
   ],
   "source": [
    "string[6:15:1]"
   ]
  },
  {
   "cell_type": "code",
   "execution_count": 40,
   "id": "656f97bf",
   "metadata": {},
   "outputs": [
    {
     "data": {
      "text/plain": [
       "'Scientist'"
      ]
     },
     "execution_count": 40,
     "metadata": {},
     "output_type": "execute_result"
    }
   ],
   "source": [
    "string[6::]"
   ]
  },
  {
   "cell_type": "code",
   "execution_count": 41,
   "id": "0b32d8a3",
   "metadata": {},
   "outputs": [
    {
     "data": {
      "text/plain": [
       "'Scientist'"
      ]
     },
     "execution_count": 41,
     "metadata": {},
     "output_type": "execute_result"
    }
   ],
   "source": [
    "string[6::1]"
   ]
  },
  {
   "cell_type": "code",
   "execution_count": 42,
   "id": "ad97287c",
   "metadata": {},
   "outputs": [
    {
     "data": {
      "text/plain": [
       "'Scientist'"
      ]
     },
     "execution_count": 42,
     "metadata": {},
     "output_type": "execute_result"
    }
   ],
   "source": [
    "string[-9::1]"
   ]
  },
  {
   "cell_type": "code",
   "execution_count": 43,
   "id": "b7a0383a",
   "metadata": {},
   "outputs": [
    {
     "data": {
      "text/plain": [
       "'Scientist'"
      ]
     },
     "execution_count": 43,
     "metadata": {},
     "output_type": "execute_result"
    }
   ],
   "source": [
    "string[-9::]"
   ]
  },
  {
   "cell_type": "markdown",
   "id": "682a7e64",
   "metadata": {},
   "source": [
    "Task 6:\n",
    "\n",
    "name = \"Innomatics Reserach Labs\"\n",
    "\n",
    "Apply slicing to extract a substring that includes the second to fifth characters.\n",
    "\n",
    "Print the extracted substring."
   ]
  },
  {
   "cell_type": "code",
   "execution_count": 45,
   "id": "df876c00",
   "metadata": {},
   "outputs": [],
   "source": [
    "name = \"Innomatics Research Labs\""
   ]
  },
  {
   "cell_type": "code",
   "execution_count": 46,
   "id": "4a1a3784",
   "metadata": {},
   "outputs": [
    {
     "data": {
      "text/plain": [
       "'nnom'"
      ]
     },
     "execution_count": 46,
     "metadata": {},
     "output_type": "execute_result"
    }
   ],
   "source": [
    "name[1:5:1]"
   ]
  },
  {
   "cell_type": "code",
   "execution_count": 47,
   "id": "579101c7",
   "metadata": {},
   "outputs": [
    {
     "data": {
      "text/plain": [
       "'nnom'"
      ]
     },
     "execution_count": 47,
     "metadata": {},
     "output_type": "execute_result"
    }
   ],
   "source": [
    "name[-23:-19:1]"
   ]
  },
  {
   "cell_type": "markdown",
   "id": "96b1a54f",
   "metadata": {},
   "source": [
    "Task 7:\n",
    "\n",
    "string = \"Python@1234\"\n",
    "\n",
    "Use slicing to extract every second character from the string.\n",
    "\n",
    "Print the resulting sliced string."
   ]
  },
  {
   "cell_type": "code",
   "execution_count": 48,
   "id": "473ffbf6",
   "metadata": {},
   "outputs": [],
   "source": [
    "string = \"Python@123\""
   ]
  },
  {
   "cell_type": "code",
   "execution_count": 53,
   "id": "f882eb2e",
   "metadata": {},
   "outputs": [
    {
     "data": {
      "text/plain": [
       "'yhn13'"
      ]
     },
     "execution_count": 53,
     "metadata": {},
     "output_type": "execute_result"
    }
   ],
   "source": [
    "string[1::2]"
   ]
  },
  {
   "cell_type": "code",
   "execution_count": 60,
   "id": "74ab5c3b",
   "metadata": {},
   "outputs": [
    {
     "data": {
      "text/plain": [
       "'yhn13'"
      ]
     },
     "execution_count": 60,
     "metadata": {},
     "output_type": "execute_result"
    }
   ],
   "source": [
    "string[-9::2]"
   ]
  },
  {
   "cell_type": "markdown",
   "id": "ce2fea56",
   "metadata": {},
   "source": [
    "Task 8:\n",
    "\n",
    "print last five letters.\n",
    "\n",
    "Utilize slicing to reverse the word order in the string.\n",
    "\n",
    "Print the string with the words in the reversed order."
   ]
  },
  {
   "cell_type": "code",
   "execution_count": 61,
   "id": "8bc27d3b",
   "metadata": {},
   "outputs": [],
   "source": [
    "string = \"Virat Kohli\""
   ]
  },
  {
   "cell_type": "code",
   "execution_count": 62,
   "id": "6f16eb4e",
   "metadata": {},
   "outputs": [
    {
     "data": {
      "text/plain": [
       "'Kohli'"
      ]
     },
     "execution_count": 62,
     "metadata": {},
     "output_type": "execute_result"
    }
   ],
   "source": [
    "string[6:11:1]"
   ]
  },
  {
   "cell_type": "code",
   "execution_count": 63,
   "id": "7c47cdd5",
   "metadata": {},
   "outputs": [
    {
     "data": {
      "text/plain": [
       "'Kohli'"
      ]
     },
     "execution_count": 63,
     "metadata": {},
     "output_type": "execute_result"
    }
   ],
   "source": [
    "string[6::]"
   ]
  },
  {
   "cell_type": "code",
   "execution_count": 64,
   "id": "9a161000",
   "metadata": {},
   "outputs": [
    {
     "data": {
      "text/plain": [
       "'ilhoK'"
      ]
     },
     "execution_count": 64,
     "metadata": {},
     "output_type": "execute_result"
    }
   ],
   "source": [
    "string[-1:-6:-1]"
   ]
  },
  {
   "cell_type": "code",
   "execution_count": 65,
   "id": "510b4f18",
   "metadata": {},
   "outputs": [
    {
     "data": {
      "text/plain": [
       "'ilhoK'"
      ]
     },
     "execution_count": 65,
     "metadata": {},
     "output_type": "execute_result"
    }
   ],
   "source": [
    "string[:-6:-1]"
   ]
  },
  {
   "cell_type": "markdown",
   "id": "e062daa7",
   "metadata": {},
   "source": [
    "Task 9:\n",
    "    \n",
    "a = \"123123123\"\n",
    "\n",
    "Apply slicing to extract only the numeric characters at odd positions.\n",
    "\n",
    "Print the sliced result."
   ]
  },
  {
   "cell_type": "code",
   "execution_count": 68,
   "id": "0b597524",
   "metadata": {},
   "outputs": [],
   "source": [
    "a = \"123123123\""
   ]
  },
  {
   "cell_type": "code",
   "execution_count": 69,
   "id": "b2c6dc45",
   "metadata": {},
   "outputs": [
    {
     "data": {
      "text/plain": [
       "'13213'"
      ]
     },
     "execution_count": 69,
     "metadata": {},
     "output_type": "execute_result"
    }
   ],
   "source": [
    "a[0::2]"
   ]
  },
  {
   "cell_type": "code",
   "execution_count": 70,
   "id": "e06a94e8",
   "metadata": {},
   "outputs": [
    {
     "data": {
      "text/plain": [
       "'13213'"
      ]
     },
     "execution_count": 70,
     "metadata": {},
     "output_type": "execute_result"
    }
   ],
   "source": [
    "a[::2]"
   ]
  },
  {
   "cell_type": "code",
   "execution_count": 71,
   "id": "74daab2a",
   "metadata": {},
   "outputs": [
    {
     "data": {
      "text/plain": [
       "'13213'"
      ]
     },
     "execution_count": 71,
     "metadata": {},
     "output_type": "execute_result"
    }
   ],
   "source": [
    "a[0:9:2]"
   ]
  },
  {
   "cell_type": "code",
   "execution_count": 73,
   "id": "77d836a2",
   "metadata": {},
   "outputs": [
    {
     "data": {
      "text/plain": [
       "'13213'"
      ]
     },
     "execution_count": 73,
     "metadata": {},
     "output_type": "execute_result"
    }
   ],
   "source": [
    "a[-9:9:2]"
   ]
  },
  {
   "cell_type": "code",
   "execution_count": null,
   "id": "d1cbf1fb",
   "metadata": {},
   "outputs": [],
   "source": []
  }
 ],
 "metadata": {
  "kernelspec": {
   "display_name": "Python 3 (ipykernel)",
   "language": "python",
   "name": "python3"
  },
  "language_info": {
   "codemirror_mode": {
    "name": "ipython",
    "version": 3
   },
   "file_extension": ".py",
   "mimetype": "text/x-python",
   "name": "python",
   "nbconvert_exporter": "python",
   "pygments_lexer": "ipython3",
   "version": "3.11.4"
  }
 },
 "nbformat": 4,
 "nbformat_minor": 5
}
