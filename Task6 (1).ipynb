{
 "cells": [
  {
   "cell_type": "markdown",
   "id": "43762bb5",
   "metadata": {},
   "source": [
    "\n",
    "\n",
    "**Assignment Task 1:** Tuple Basics\n",
    "Create a Python tuple containing the names of your favorite fruits. Write a Python program to print `each fruit` name from the tuple.\n",
    "\n",
    "**Assignment Task 2:** Tuple Operations\n",
    "Given two tuples, write a Python program to `concatenate` them into a `single` tuple and then find the `length` of the resulting tuple.\n",
    "\n",
    "**Assignment Task 3:** Set Creation\n",
    "Create a Python set containing the first 10 `even` numbers (2, 4, 6, ...). Write a program to `display` this set.\n",
    "\n",
    "**Assignment Task 4:** Set Operations\n",
    "Given two sets, write a Python program to find the `union, intersection, and difference` of these sets.\n",
    "\n",
    "**Assignment Task 5:** Tuple and Set Conversion\n",
    "Write a Python program that takes a `tuple` of integers and converts it into a `set`. Then, find and print the `maximum and minimum` values from the set.\n",
    "\n",
    "**Assignment Task 6:** Tuple Immutability\n",
    "Explain the concept of immutability in Python tuples with examples. Discuss why tuples are considered immutable data structures.\n",
    "\n",
    "**Assignment Task 7:** Set Operations and Methods\n",
    "Write a Python program that takes a set of numbers and performs the following operations:\n",
    "   - Add a new number to the set.\n",
    "   - Remove a number from the set.\n",
    "   - Check if a specific number is in the set.\n",
    "   - Find the size of the set.\n",
    "\n",
    "**Assignment Task 8:** Tuple Slicing\n",
    "Given a tuple of 10 elements, write a Python program to print the elements from the `3rd to the 7th `position using slicing.\n",
    "\n",
    "**Assignment Task 9:** Set Operations with Lists\n",
    "Create a Python list with duplicate elements and convert it into a set to remove duplicates. Then, write a program to count how many duplicates were removed.\n",
    "\n",
    "**Assignment Task 10:** Tuple and Set Combinations\n",
    "Create a `tuple` containing the names of your friend's favorite movies and a `set` containing the names of your favorite movies. Write a Python program to find and display common elements (movies that feature your "
   ]
  },
  {
   "cell_type": "markdown",
   "id": "18fd8c5b",
   "metadata": {},
   "source": [
    "# Assignment Task 1\n",
    "\n",
    "1:  Tuple Basics Create a Python tuple containing the names of your favorite fruits. Write a Python program to print each fruit name from the tuple."
   ]
  },
  {
   "cell_type": "markdown",
   "id": "0c6d14d0",
   "metadata": {},
   "source": [
    "fruits = (\"Apple\",\"Mango\",\"Orange\",\"Lychee\",\"Star fruit\")"
   ]
  },
  {
   "cell_type": "code",
   "execution_count": 2,
   "id": "1df61c4f",
   "metadata": {},
   "outputs": [
    {
     "data": {
      "text/plain": [
       "('Apple', 'Mango', 'Orange', 'Lychee', 'Star fruit')"
      ]
     },
     "execution_count": 2,
     "metadata": {},
     "output_type": "execute_result"
    }
   ],
   "source": [
    "fruits"
   ]
  },
  {
   "cell_type": "code",
   "execution_count": 3,
   "id": "ad6d6f88",
   "metadata": {},
   "outputs": [
    {
     "data": {
      "text/plain": [
       "tuple"
      ]
     },
     "execution_count": 3,
     "metadata": {},
     "output_type": "execute_result"
    }
   ],
   "source": [
    "type(fruits)"
   ]
  },
  {
   "cell_type": "code",
   "execution_count": 4,
   "id": "0c20fd41",
   "metadata": {},
   "outputs": [
    {
     "data": {
      "text/plain": [
       "'Apple'"
      ]
     },
     "execution_count": 4,
     "metadata": {},
     "output_type": "execute_result"
    }
   ],
   "source": [
    "fruits[0]"
   ]
  },
  {
   "cell_type": "code",
   "execution_count": 6,
   "id": "8e807f6e",
   "metadata": {},
   "outputs": [
    {
     "data": {
      "text/plain": [
       "'Mango'"
      ]
     },
     "execution_count": 6,
     "metadata": {},
     "output_type": "execute_result"
    }
   ],
   "source": [
    "fruits[1]"
   ]
  },
  {
   "cell_type": "code",
   "execution_count": 7,
   "id": "92d2ea5a",
   "metadata": {},
   "outputs": [
    {
     "data": {
      "text/plain": [
       "'Orange'"
      ]
     },
     "execution_count": 7,
     "metadata": {},
     "output_type": "execute_result"
    }
   ],
   "source": [
    "fruits[2]"
   ]
  },
  {
   "cell_type": "code",
   "execution_count": 8,
   "id": "2d12c1a2",
   "metadata": {},
   "outputs": [
    {
     "data": {
      "text/plain": [
       "'Lychee'"
      ]
     },
     "execution_count": 8,
     "metadata": {},
     "output_type": "execute_result"
    }
   ],
   "source": [
    "fruits[3]"
   ]
  },
  {
   "cell_type": "code",
   "execution_count": 9,
   "id": "1a10d096",
   "metadata": {},
   "outputs": [
    {
     "data": {
      "text/plain": [
       "'Star fruit'"
      ]
     },
     "execution_count": 9,
     "metadata": {},
     "output_type": "execute_result"
    }
   ],
   "source": [
    "fruits[4]"
   ]
  },
  {
   "cell_type": "markdown",
   "id": "94ae04a9",
   "metadata": {},
   "source": [
    "# Assignment Task 2: \n",
    "\n",
    "Tuple Operations Given two tuples, write a Python program to concatenate them into a single tuple and then find the length of the resulting tuple."
   ]
  },
  {
   "cell_type": "code",
   "execution_count": 14,
   "id": "e8a1cd94",
   "metadata": {},
   "outputs": [],
   "source": [
    "tuple1 = (1,3,5,7,9,11)\n",
    "tuple2 = (2,4,6,8,10,12)"
   ]
  },
  {
   "cell_type": "code",
   "execution_count": 15,
   "id": "aa2ea665",
   "metadata": {},
   "outputs": [],
   "source": [
    "val = tuple1 + tuple2"
   ]
  },
  {
   "cell_type": "code",
   "execution_count": 16,
   "id": "b311c9a5",
   "metadata": {},
   "outputs": [
    {
     "data": {
      "text/plain": [
       "(1, 3, 5, 7, 9, 11, 2, 4, 6, 8, 10, 12)"
      ]
     },
     "execution_count": 16,
     "metadata": {},
     "output_type": "execute_result"
    }
   ],
   "source": [
    "val"
   ]
  },
  {
   "cell_type": "code",
   "execution_count": 17,
   "id": "67a3bbba",
   "metadata": {},
   "outputs": [
    {
     "data": {
      "text/plain": [
       "12"
      ]
     },
     "execution_count": 17,
     "metadata": {},
     "output_type": "execute_result"
    }
   ],
   "source": [
    "len(val)"
   ]
  },
  {
   "cell_type": "markdown",
   "id": "301ef63a",
   "metadata": {},
   "source": [
    "# Assignment Task 3: \n",
    "    \n",
    "Set Creation Create a Python set containing the first 10 even numbers (2, 4, 6, ...). Write a program to display this set."
   ]
  },
  {
   "cell_type": "code",
   "execution_count": 21,
   "id": "402cae6b",
   "metadata": {},
   "outputs": [],
   "source": [
    "val = {2,4,6,8,10,12,14,16,18,20}"
   ]
  },
  {
   "cell_type": "code",
   "execution_count": 22,
   "id": "0c18c7b1",
   "metadata": {},
   "outputs": [
    {
     "data": {
      "text/plain": [
       "{2, 4, 6, 8, 10, 12, 14, 16, 18, 20}"
      ]
     },
     "execution_count": 22,
     "metadata": {},
     "output_type": "execute_result"
    }
   ],
   "source": [
    "val"
   ]
  },
  {
   "cell_type": "code",
   "execution_count": 23,
   "id": "4fffe00a",
   "metadata": {},
   "outputs": [
    {
     "data": {
      "text/plain": [
       "set"
      ]
     },
     "execution_count": 23,
     "metadata": {},
     "output_type": "execute_result"
    }
   ],
   "source": [
    "type(val)"
   ]
  },
  {
   "cell_type": "markdown",
   "id": "a8a249a9",
   "metadata": {},
   "source": [
    "# Assignment Task 4:\n",
    "    \n",
    "Set Operations Given two sets, write a Python program to find the union, intersection, and difference of these sets."
   ]
  },
  {
   "cell_type": "code",
   "execution_count": 26,
   "id": "ab77aee2",
   "metadata": {},
   "outputs": [],
   "source": [
    "set1 = {3,4,5,6,7,8,9,10}\n",
    "set2 = {6,7,8,9,10,11,}"
   ]
  },
  {
   "cell_type": "code",
   "execution_count": 27,
   "id": "8a2c9245",
   "metadata": {},
   "outputs": [
    {
     "data": {
      "text/plain": [
       "{3, 4, 5, 6, 7, 8, 9, 10, 11}"
      ]
     },
     "execution_count": 27,
     "metadata": {},
     "output_type": "execute_result"
    }
   ],
   "source": [
    "set1.union(set2)     #union"
   ]
  },
  {
   "cell_type": "code",
   "execution_count": 28,
   "id": "f47a59a0",
   "metadata": {},
   "outputs": [
    {
     "data": {
      "text/plain": [
       "{6, 7, 8, 9, 10}"
      ]
     },
     "execution_count": 28,
     "metadata": {},
     "output_type": "execute_result"
    }
   ],
   "source": [
    "set1.intersection(set2)"
   ]
  },
  {
   "cell_type": "code",
   "execution_count": 29,
   "id": "911eb8dd",
   "metadata": {},
   "outputs": [
    {
     "data": {
      "text/plain": [
       "{3, 4, 5}"
      ]
     },
     "execution_count": 29,
     "metadata": {},
     "output_type": "execute_result"
    }
   ],
   "source": [
    "set1.difference(set2)"
   ]
  },
  {
   "cell_type": "markdown",
   "id": "4b54498e",
   "metadata": {},
   "source": [
    "# Assignment Task 5:\n",
    "    \n",
    "Tuple and Set Conversion Write a Python program that takes a tuple of integers and converts it into a set. Then, find and print the maximum and minimum values from the set."
   ]
  },
  {
   "cell_type": "code",
   "execution_count": 30,
   "id": "23400041",
   "metadata": {},
   "outputs": [],
   "source": [
    "x = (2,8,4,5,3,6,7,9,10,11,18)"
   ]
  },
  {
   "cell_type": "code",
   "execution_count": 31,
   "id": "5187055a",
   "metadata": {},
   "outputs": [
    {
     "data": {
      "text/plain": [
       "tuple"
      ]
     },
     "execution_count": 31,
     "metadata": {},
     "output_type": "execute_result"
    }
   ],
   "source": [
    "type(x)"
   ]
  },
  {
   "cell_type": "code",
   "execution_count": 32,
   "id": "500dde19",
   "metadata": {},
   "outputs": [],
   "source": [
    "val = set(x)"
   ]
  },
  {
   "cell_type": "code",
   "execution_count": 33,
   "id": "d86916a8",
   "metadata": {},
   "outputs": [
    {
     "data": {
      "text/plain": [
       "{2, 3, 4, 5, 6, 7, 8, 9, 10, 11, 18}"
      ]
     },
     "execution_count": 33,
     "metadata": {},
     "output_type": "execute_result"
    }
   ],
   "source": [
    "val"
   ]
  },
  {
   "cell_type": "code",
   "execution_count": 34,
   "id": "a4dfea0a",
   "metadata": {},
   "outputs": [
    {
     "data": {
      "text/plain": [
       "set"
      ]
     },
     "execution_count": 34,
     "metadata": {},
     "output_type": "execute_result"
    }
   ],
   "source": [
    "type(val)"
   ]
  },
  {
   "cell_type": "code",
   "execution_count": 37,
   "id": "a147baed",
   "metadata": {},
   "outputs": [
    {
     "data": {
      "text/plain": [
       "18"
      ]
     },
     "execution_count": 37,
     "metadata": {},
     "output_type": "execute_result"
    }
   ],
   "source": [
    "max(val) #maximum value"
   ]
  },
  {
   "cell_type": "code",
   "execution_count": 38,
   "id": "4e507db6",
   "metadata": {},
   "outputs": [
    {
     "data": {
      "text/plain": [
       "2"
      ]
     },
     "execution_count": 38,
     "metadata": {},
     "output_type": "execute_result"
    }
   ],
   "source": [
    "min(val)   #minimum value"
   ]
  },
  {
   "cell_type": "markdown",
   "id": "c3eed3e6",
   "metadata": {},
   "source": [
    "# Assignment Task 6: \n",
    "    \n",
    "Tuple Immutability Explain the concept of immutability in Python tuples with examples. Discuss why tuples are considered immutable data structures."
   ]
  },
  {
   "cell_type": "markdown",
   "id": "41651441",
   "metadata": {},
   "source": [
    "** yes Tuple is Immutuable because the we cannot modify or which cannot be changed"
   ]
  },
  {
   "cell_type": "code",
   "execution_count": 39,
   "id": "667c4e05",
   "metadata": {},
   "outputs": [],
   "source": [
    "tup = (1,2,3,4)"
   ]
  },
  {
   "cell_type": "code",
   "execution_count": 40,
   "id": "21051613",
   "metadata": {},
   "outputs": [
    {
     "ename": "AttributeError",
     "evalue": "'tuple' object has no attribute 'add'",
     "output_type": "error",
     "traceback": [
      "\u001b[1;31m---------------------------------------------------------------------------\u001b[0m",
      "\u001b[1;31mAttributeError\u001b[0m                            Traceback (most recent call last)",
      "Cell \u001b[1;32mIn[40], line 1\u001b[0m\n\u001b[1;32m----> 1\u001b[0m tup\u001b[38;5;241m.\u001b[39madd(\u001b[38;5;241m5\u001b[39m)\n",
      "\u001b[1;31mAttributeError\u001b[0m: 'tuple' object has no attribute 'add'"
     ]
    }
   ],
   "source": [
    "tup.add(5)"
   ]
  },
  {
   "cell_type": "code",
   "execution_count": 41,
   "id": "37a754fa",
   "metadata": {},
   "outputs": [
    {
     "ename": "AttributeError",
     "evalue": "'tuple' object has no attribute 'remove'",
     "output_type": "error",
     "traceback": [
      "\u001b[1;31m---------------------------------------------------------------------------\u001b[0m",
      "\u001b[1;31mAttributeError\u001b[0m                            Traceback (most recent call last)",
      "Cell \u001b[1;32mIn[41], line 1\u001b[0m\n\u001b[1;32m----> 1\u001b[0m tup\u001b[38;5;241m.\u001b[39mremove(\u001b[38;5;241m1\u001b[39m)\n",
      "\u001b[1;31mAttributeError\u001b[0m: 'tuple' object has no attribute 'remove'"
     ]
    }
   ],
   "source": [
    "tup.remove(1)"
   ]
  },
  {
   "cell_type": "markdown",
   "id": "0d6bc9e4",
   "metadata": {},
   "source": [
    "** Hence we cannot have any changes in them once they are created "
   ]
  },
  {
   "cell_type": "markdown",
   "id": "6d804841",
   "metadata": {},
   "source": [
    "# Assignment Task 7: \n",
    "    \n",
    "Set Operations and Methods Write a Python program that takes a set of numbers and performs the following operations:\n",
    "\n",
    "Add a new number to the set.\n",
    "\n",
    "Remove a number from the set.\n",
    "\n",
    "Check if a specific number is in the set.\n",
    "\n",
    "Find the size of the set."
   ]
  },
  {
   "cell_type": "code",
   "execution_count": 45,
   "id": "b35d6544",
   "metadata": {},
   "outputs": [],
   "source": [
    "n = {1,2,4,6,8,10,12}"
   ]
  },
  {
   "cell_type": "code",
   "execution_count": 46,
   "id": "70137aa8",
   "metadata": {},
   "outputs": [],
   "source": [
    "n.add(5)"
   ]
  },
  {
   "cell_type": "code",
   "execution_count": 47,
   "id": "a269ffcf",
   "metadata": {},
   "outputs": [
    {
     "data": {
      "text/plain": [
       "{1, 2, 4, 5, 6, 8, 10, 12}"
      ]
     },
     "execution_count": 47,
     "metadata": {},
     "output_type": "execute_result"
    }
   ],
   "source": [
    "n"
   ]
  },
  {
   "cell_type": "code",
   "execution_count": 48,
   "id": "42095223",
   "metadata": {},
   "outputs": [],
   "source": [
    "n.remove(1)"
   ]
  },
  {
   "cell_type": "code",
   "execution_count": 49,
   "id": "dc3af9e3",
   "metadata": {},
   "outputs": [
    {
     "data": {
      "text/plain": [
       "{2, 4, 5, 6, 8, 10, 12}"
      ]
     },
     "execution_count": 49,
     "metadata": {},
     "output_type": "execute_result"
    }
   ],
   "source": [
    "n"
   ]
  },
  {
   "cell_type": "code",
   "execution_count": 50,
   "id": "c3535356",
   "metadata": {},
   "outputs": [
    {
     "data": {
      "text/plain": [
       "True"
      ]
     },
     "execution_count": 50,
     "metadata": {},
     "output_type": "execute_result"
    }
   ],
   "source": [
    "8 in n"
   ]
  },
  {
   "cell_type": "code",
   "execution_count": 51,
   "id": "849d8d1b",
   "metadata": {},
   "outputs": [
    {
     "data": {
      "text/plain": [
       "7"
      ]
     },
     "execution_count": 51,
     "metadata": {},
     "output_type": "execute_result"
    }
   ],
   "source": [
    "len(n)"
   ]
  },
  {
   "cell_type": "markdown",
   "id": "e0548be3",
   "metadata": {},
   "source": [
    "# Assignment Task 8: \n",
    "\n",
    "Tuple Slicing Given a tuple of 10 elements, write a Python program to print the elements from the 3rd to the 7th position using slicing."
   ]
  },
  {
   "cell_type": "code",
   "execution_count": 52,
   "id": "2afd083b",
   "metadata": {},
   "outputs": [],
   "source": [
    "tup = (1,2,3,4,5,6,7,8,9,10)"
   ]
  },
  {
   "cell_type": "code",
   "execution_count": 53,
   "id": "11675c23",
   "metadata": {},
   "outputs": [
    {
     "data": {
      "text/plain": [
       "(4, 5, 6, 7, 8)"
      ]
     },
     "execution_count": 53,
     "metadata": {},
     "output_type": "execute_result"
    }
   ],
   "source": [
    "tup[3:8]"
   ]
  },
  {
   "cell_type": "markdown",
   "id": "cec7ab91",
   "metadata": {},
   "source": [
    "# Assignment Task 9: \n",
    "\n",
    "Set Operations with Lists Create a Python list with duplicate elements and convert it into a set to remove duplicates. Then, write a program to count how many duplicates were removed."
   ]
  },
  {
   "cell_type": "code",
   "execution_count": 54,
   "id": "3229675a",
   "metadata": {},
   "outputs": [],
   "source": [
    "list1 = [1,2,3,4,4,5,5,6,6]"
   ]
  },
  {
   "cell_type": "code",
   "execution_count": 55,
   "id": "a01f9371",
   "metadata": {},
   "outputs": [],
   "source": [
    "n = set(list1)"
   ]
  },
  {
   "cell_type": "code",
   "execution_count": 56,
   "id": "6841f151",
   "metadata": {},
   "outputs": [
    {
     "data": {
      "text/plain": [
       "{1, 2, 3, 4, 5, 6}"
      ]
     },
     "execution_count": 56,
     "metadata": {},
     "output_type": "execute_result"
    }
   ],
   "source": [
    "n"
   ]
  },
  {
   "cell_type": "code",
   "execution_count": 57,
   "id": "c92936a7",
   "metadata": {},
   "outputs": [],
   "source": [
    "duplicates = len(list1)-len(n)"
   ]
  },
  {
   "cell_type": "code",
   "execution_count": 58,
   "id": "aa76d302",
   "metadata": {},
   "outputs": [
    {
     "data": {
      "text/plain": [
       "3"
      ]
     },
     "execution_count": 58,
     "metadata": {},
     "output_type": "execute_result"
    }
   ],
   "source": [
    "duplicates"
   ]
  },
  {
   "cell_type": "markdown",
   "id": "fa58111b",
   "metadata": {},
   "source": [
    "# Assignment Task 10: \n",
    "    \n",
    "Tuple and Set Combinations Create a tuple containing the names of your friend's favorite movies and a set containing the names of your favorite movies. Write a Python program to find and display common elements (movies that feature your"
   ]
  },
  {
   "cell_type": "code",
   "execution_count": 63,
   "id": "1990c838",
   "metadata": {},
   "outputs": [],
   "source": [
    "friend_movies = (\"Batman\",\"Julyai\",\"ZNMD\",\"Inception\",\"Insidious\",\"Avengers\")"
   ]
  },
  {
   "cell_type": "code",
   "execution_count": 62,
   "id": "aaa22599",
   "metadata": {},
   "outputs": [],
   "source": [
    "my_movies = {\"Avengers\",\"Insidious\",\"YJHD\",\"The Dark Knight\", \"ZNMD\"}"
   ]
  },
  {
   "cell_type": "code",
   "execution_count": 64,
   "id": "9f59175f",
   "metadata": {},
   "outputs": [],
   "source": [
    "common = set(friend_movies).intersection(my_movies)"
   ]
  },
  {
   "cell_type": "code",
   "execution_count": 65,
   "id": "309af6df",
   "metadata": {},
   "outputs": [
    {
     "data": {
      "text/plain": [
       "{'Avengers', 'Insidious'}"
      ]
     },
     "execution_count": 65,
     "metadata": {},
     "output_type": "execute_result"
    }
   ],
   "source": [
    "common"
   ]
  },
  {
   "cell_type": "code",
   "execution_count": null,
   "id": "defe79bb",
   "metadata": {},
   "outputs": [],
   "source": []
  }
 ],
 "metadata": {
  "kernelspec": {
   "display_name": "Python 3 (ipykernel)",
   "language": "python",
   "name": "python3"
  },
  "language_info": {
   "codemirror_mode": {
    "name": "ipython",
    "version": 3
   },
   "file_extension": ".py",
   "mimetype": "text/x-python",
   "name": "python",
   "nbconvert_exporter": "python",
   "pygments_lexer": "ipython3",
   "version": "3.11.4"
  }
 },
 "nbformat": 4,
 "nbformat_minor": 5
}
