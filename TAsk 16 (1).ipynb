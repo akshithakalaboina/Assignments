{
 "cells": [
  {
   "cell_type": "markdown",
   "id": "fd99fb02",
   "metadata": {},
   "source": [
    "**Task 1**:\n",
    "1. Load the file 'about_python.txt'into your jupyter notebook.\n",
    "    a. Correct wrong statements about python fatures\n",
    "    b. How many charactaers present in the data\n",
    "    c. How many times 'Python' word is repeated.\n",
    "    d. after correcting all ..print complete valid features of the python.\n",
    "    \n",
    "**Task2**:\n",
    "\n",
    "2. Create a file 'File.txt'which expalains python file handling whatever you have learnt today(creating,reading,wring and appending...etc) in detail.That reaload the saved file(i.e File.txt) to jupyter notebook."
   ]
  },
  {
   "cell_type": "markdown",
   "id": "12ca8437",
   "metadata": {},
   "source": [
    "# Task 1:\n",
    "\n",
    "Load the file 'about_python.txt'into your jupyter notebook. a. Correct wrong statements about python fatures b. How many charactaers present in the data c. How many times 'Python' word is repeated. d. after correcting all ..print complete valid features of the python.\n"
   ]
  },
  {
   "cell_type": "code",
   "execution_count": 46,
   "id": "6e034bd5",
   "metadata": {},
   "outputs": [],
   "source": [
    "file = open(r\"C:\\\\Users\\\\hi\\\\Python Files\\\\about_python.txt\")"
   ]
  },
  {
   "cell_type": "code",
   "execution_count": 47,
   "id": "819e1752",
   "metadata": {},
   "outputs": [],
   "source": [
    "string_val = file.read()"
   ]
  },
  {
   "cell_type": "code",
   "execution_count": 52,
   "id": "acfefc7f",
   "metadata": {},
   "outputs": [],
   "source": [
    "var1=string_val.replace(\"compiled\",\"interpreted\")\n",
    "var2=var1.replace(\"paid\",\"opensource\")\n",
    "var3=var2.replace(\"statically\",\"dynamically\")\n",
    "var4=var3.replace(\"double\",\"single , double and triple\")\n",
    "var5=var4.replace(\"web development\",\"web development,software developmet and data science\")\n",
    "var6=var5.replace(\"Elon Musk\",\"Guido Van Rossum\")"
   ]
  },
  {
   "cell_type": "code",
   "execution_count": 53,
   "id": "d5865ee3",
   "metadata": {},
   "outputs": [
    {
     "name": "stdout",
     "output_type": "stream",
     "text": [
      "Python supports object-oriented programming (OOP) concepts.\n",
      "Python is a interpreted language.\n",
      "Python has a rich ecosystem of third-party libraries.\n",
      "Python is a opensource programming language\n",
      "Python uses indentation for code block structuring.\n",
      "Python is dynamically Typed Language\n",
      "Python only supports single , double and triple quotes for string literals.\n",
      "Python can only be used for web development,software developmet and data science.\n",
      "Python was created by Guido Van Rossum.\n"
     ]
    }
   ],
   "source": [
    "print(var6)"
   ]
  },
  {
   "cell_type": "code",
   "execution_count": 55,
   "id": "d4f10ae2",
   "metadata": {},
   "outputs": [
    {
     "data": {
      "text/plain": [
       "404"
      ]
     },
     "execution_count": 55,
     "metadata": {},
     "output_type": "execute_result"
    }
   ],
   "source": [
    "len(string_val)"
   ]
  },
  {
   "cell_type": "code",
   "execution_count": 54,
   "id": "0ac8228e",
   "metadata": {},
   "outputs": [],
   "source": [
    "file.close()"
   ]
  },
  {
   "cell_type": "code",
   "execution_count": 56,
   "id": "8eaeeca3",
   "metadata": {},
   "outputs": [
    {
     "data": {
      "text/plain": [
       "9"
      ]
     },
     "execution_count": 56,
     "metadata": {},
     "output_type": "execute_result"
    }
   ],
   "source": [
    "string_val.count(\"Python\")"
   ]
  },
  {
   "cell_type": "markdown",
   "id": "6ce118ad",
   "metadata": {},
   "source": [
    "# Task2:\n",
    "\n",
    "Create a file 'File.txt'which expalains python file handling whatever you have learnt today(creating,reading,wring and appending...etc) in detail.That reaload the saved file(i.e File.txt) to jupyter notebook."
   ]
  },
  {
   "cell_type": "code",
   "execution_count": 111,
   "id": "b87dae99",
   "metadata": {},
   "outputs": [],
   "source": [
    "f = open(\"File.txt\",'w')"
   ]
  },
  {
   "cell_type": "code",
   "execution_count": 112,
   "id": "b502317f",
   "metadata": {},
   "outputs": [
    {
     "data": {
      "text/plain": [
       "453"
      ]
     },
     "execution_count": 112,
     "metadata": {},
     "output_type": "execute_result"
    }
   ],
   "source": [
    "f.write(\"File Handling\\nFile handling enables us to store the data in file not only store the data we can create,read, write a file\\n In create we can create the file if there is an already existing file then it throws an error.\\n In read it only reads the data which is present in the file.\\n In write we can only write the data in to the file.After writing the data it is mandatory to close the file.\\n In append we can add the data to the existing data in the file\")"
   ]
  },
  {
   "cell_type": "code",
   "execution_count": 113,
   "id": "0d6a18cb",
   "metadata": {},
   "outputs": [],
   "source": [
    "f.close()"
   ]
  },
  {
   "cell_type": "code",
   "execution_count": 114,
   "id": "51928562",
   "metadata": {},
   "outputs": [],
   "source": [
    "f= open(\"File.txt\",'r')"
   ]
  },
  {
   "cell_type": "code",
   "execution_count": 115,
   "id": "7547f54e",
   "metadata": {},
   "outputs": [],
   "source": [
    "string_val = f.read()"
   ]
  },
  {
   "cell_type": "code",
   "execution_count": 116,
   "id": "6eefb141",
   "metadata": {},
   "outputs": [
    {
     "name": "stdout",
     "output_type": "stream",
     "text": [
      "File Handling\n",
      "File handling enables us to store the data in file not only store the data we can create,read, write a file\n",
      " In create we can create the file if there is an already existing file then it throws an error.\n",
      " In read it only reads the data which is present in the file.\n",
      " In write we can only write the data in to the file.After writing the data it is mandatory to close the file.\n",
      " In append we can add the data to the existing data in the file\n"
     ]
    }
   ],
   "source": [
    "print(string_val)"
   ]
  },
  {
   "cell_type": "code",
   "execution_count": null,
   "id": "c90b60b5",
   "metadata": {},
   "outputs": [],
   "source": []
  }
 ],
 "metadata": {
  "kernelspec": {
   "display_name": "Python 3 (ipykernel)",
   "language": "python",
   "name": "python3"
  },
  "language_info": {
   "codemirror_mode": {
    "name": "ipython",
    "version": 3
   },
   "file_extension": ".py",
   "mimetype": "text/x-python",
   "name": "python",
   "nbconvert_exporter": "python",
   "pygments_lexer": "ipython3",
   "version": "3.11.4"
  }
 },
 "nbformat": 4,
 "nbformat_minor": 5
}
