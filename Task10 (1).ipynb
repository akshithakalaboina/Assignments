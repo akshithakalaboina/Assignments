{
 "cells": [
  {
   "cell_type": "markdown",
   "id": "6a089314",
   "metadata": {},
   "source": [
    "1. **Basic List Comprehension:**\n",
    "   Write a Python program that uses list comprehension to generate a list of cubes of the first 10 positive integers.\n",
    "\n",
    "2. **Filtering with List Comprehension:**\n",
    "   Given a list of integers, create a new list using list comprehension that contains only the multiple of 3 and 5 from the original list.\n",
    "\n",
    "3. **String Manipulation with List Comprehension:**\n",
    "   Given a list of strings, create a new list using list comprehension that contains the lengths of each string.\n",
    "\n",
    "\n",
    "4. **List Comprehension with Conditionals:**\n",
    "   Given a list of numbers, create a new list using list comprehension that contains the squares of even numbers \n",
    "\n",
    "\n",
    "5. **Pattern Printing**\n",
    "\n",
    "    Write a Python program that takes an integer 'n' as input and prints the following pattern:\n",
    "\n",
    "    For `n = 4`, the pattern should look like this:\n",
    "\n",
    "    ```\n",
    "    1\n",
    "    1 2\n",
    "    1 2 3\n",
    "    1 2 3 4\n",
    "    ```\n",
    "\n",
    "6. **Multiplication Table**\n",
    "\n",
    "      Create a Python program that generates and prints a multiplication table for a given number 'n'. The table should include values from 1 to 10.\n",
    "\n",
    "For example, if `n = 5`, the output should be:\n",
    "\n",
    "    ```\n",
    "    5 x 1 = 5\n",
    "    5 x 2 = 10\n",
    "    5 x 3 = 15\n",
    "    5 x 4 = 20\n",
    "    5 x 5 = 25\n",
    "    5 x 6 = 30\n",
    "    5 x 7 = 35\n",
    "    5 x 8 = 40\n",
    "    5 x 9 = 45\n",
    "    5 x 10 = 50\n",
    "    ```\n",
    "\n",
    "7. **Star Patterns**\n",
    "\n",
    "    Write a Python program that takes an integer 'n' as input and prints the following patterns:\n",
    "\n",
    "    a) Right-angled triangle pattern:\n",
    "    ```\n",
    "    *\n",
    "    **\n",
    "    ***\n",
    "    ****\n",
    "    *****\n",
    "    ```\n",
    "\n",
    "    b) Inverted right-angled triangle pattern:\n",
    "    ```\n",
    "    *****\n",
    "    ****\n",
    "    ***\n",
    "    **\n",
    "    *\n",
    "    ```\n",
    "\n",
    "\n",
    "8. **Number Pyramid**\n",
    "\n",
    "    Create a Python program that takes an integer 'n' as input and prints a number pyramid as shown below:\n",
    "\n",
    "    For `n = 4`, the output should be:\n",
    "\n",
    "    ```\n",
    "       1\n",
    "      212\n",
    "     32123\n",
    "    4321234\n",
    "    ```\n",
    "\n",
    "\n",
    "\n"
   ]
  },
  {
   "cell_type": "markdown",
   "id": "8b13ccba",
   "metadata": {},
   "source": [
    " # 1. Basic List Comprehension: \n",
    "Write a Python program that uses list comprehension to generate a list of cubes of the first 10 positive integers."
   ]
  },
  {
   "cell_type": "code",
   "execution_count": 15,
   "id": "35ec72e3",
   "metadata": {},
   "outputs": [],
   "source": [
    "num = range(1,11)"
   ]
  },
  {
   "cell_type": "code",
   "execution_count": 16,
   "id": "9669e8c9",
   "metadata": {},
   "outputs": [
    {
     "data": {
      "text/plain": [
       "[1, 8, 27, 64, 125, 216, 343, 512, 729, 1000]"
      ]
     },
     "execution_count": 16,
     "metadata": {},
     "output_type": "execute_result"
    }
   ],
   "source": [
    "[i ** 3 for i in range(1,11)]"
   ]
  },
  {
   "cell_type": "markdown",
   "id": "15dc7e29",
   "metadata": {},
   "source": [
    " # 2. Filtering with List Comprehension: \n",
    " Given a list of integers, create a new list using list comprehension that contains only the multiple of 3 and 5 from the original list."
   ]
  },
  {
   "cell_type": "code",
   "execution_count": 23,
   "id": "2e08d311",
   "metadata": {},
   "outputs": [
    {
     "data": {
      "text/plain": [
       "[15, 30, 45, 60, 75, 90]"
      ]
     },
     "execution_count": 23,
     "metadata": {},
     "output_type": "execute_result"
    }
   ],
   "source": [
    "[i  for i in range(1,100) if (i % 3 == 0)  if(i % 5 == 0)]"
   ]
  },
  {
   "cell_type": "markdown",
   "id": "710e3099",
   "metadata": {},
   "source": [
    "# 3. String Manipulation with List Comprehension: \n",
    "Given a list of strings, create a new list using list comprehension that contains the lengths of each string.\n",
    "\n"
   ]
  },
  {
   "cell_type": "code",
   "execution_count": 25,
   "id": "728fde45",
   "metadata": {},
   "outputs": [
    {
     "data": {
      "text/plain": [
       "[6, 5, 6, 5, 11]"
      ]
     },
     "execution_count": 25,
     "metadata": {},
     "output_type": "execute_result"
    }
   ],
   "source": [
    "str1 = [\"sourav\",\"virat\",\"aachal\",\"rishi\",\"shri vasuki\"]\n",
    "[len(i) for i in str1]"
   ]
  },
  {
   "cell_type": "markdown",
   "id": "3c8ae9e7",
   "metadata": {},
   "source": [
    "# 4. List Comprehension with Conditionals: \n",
    "Given a list of numbers, create a new list using list comprehension that contains the squares of even numbers"
   ]
  },
  {
   "cell_type": "code",
   "execution_count": 36,
   "id": "e9ff7083",
   "metadata": {},
   "outputs": [],
   "source": [
    "list2 = list(range(1,30))"
   ]
  },
  {
   "cell_type": "code",
   "execution_count": 37,
   "id": "9c5dfe30",
   "metadata": {},
   "outputs": [
    {
     "data": {
      "text/plain": [
       "[2, 4, 6, 8, 10, 12, 14, 16, 18, 20, 22, 24, 26, 28]"
      ]
     },
     "execution_count": 37,
     "metadata": {},
     "output_type": "execute_result"
    }
   ],
   "source": [
    "[i  for i in list2 if (i %2 == 0)] "
   ]
  },
  {
   "cell_type": "markdown",
   "id": "2a00e743",
   "metadata": {},
   "source": [
    "# 5. Pattern Printing\n",
    "\n",
    "Write a Python program that takes an integer 'n' as input and prints the following pattern:\n",
    "\n",
    "For n = 4, the pattern should look like this:\n",
    "\n",
    "1`\n",
    "1 2\n",
    "1 2 3\n",
    "1 2 3 4"
   ]
  },
  {
   "cell_type": "code",
   "execution_count": 26,
   "id": "f905d7b6",
   "metadata": {},
   "outputs": [
    {
     "name": "stdout",
     "output_type": "stream",
     "text": [
      "1 \n",
      "1 2 \n",
      "1 2 3 \n",
      "1 2 3 4 \n"
     ]
    }
   ],
   "source": [
    "n = 4 \n",
    "for i in range(1,n+1):\n",
    "    for j in range(1,i+1):\n",
    "        print(j,end = \" \")\n",
    "    print()"
   ]
  },
  {
   "cell_type": "markdown",
   "id": "fe9630bc",
   "metadata": {},
   "source": [
    "# 6. Multiplication Table\n",
    "Create a Python program that generates and prints a multiplication table for a given number 'n'. The table should include values from 1 to 10.\n",
    "\n",
    "For example, if n = 5, the output should be:"
   ]
  },
  {
   "cell_type": "code",
   "execution_count": 27,
   "id": "5ae739a3",
   "metadata": {},
   "outputs": [
    {
     "name": "stdout",
     "output_type": "stream",
     "text": [
      "enter an integer :: 8\n",
      "8 * 1 = 8\n",
      "8 * 2 = 16\n",
      "8 * 3 = 24\n",
      "8 * 4 = 32\n",
      "8 * 5 = 40\n",
      "8 * 6 = 48\n",
      "8 * 7 = 56\n",
      "8 * 8 = 64\n",
      "8 * 9 = 72\n",
      "8 * 10 = 80\n"
     ]
    }
   ],
   "source": [
    "n = int(input(\"enter an integer :: \"))\n",
    "for i in range(1,11):\n",
    "    print(f\"{n} * {i} = {n * i }\")"
   ]
  },
  {
   "cell_type": "markdown",
   "id": "acb8d146",
   "metadata": {},
   "source": [
    "# 7.Star Patterns\n",
    "\n",
    "Write a Python program that takes an integer 'n' as input and prints the following patterns:\n",
    "\n",
    "a) Right-angled triangle pattern:\n",
    "\n",
    "*\n",
    "**\n",
    "***\n",
    "****\n",
    "*****\n"
   ]
  },
  {
   "cell_type": "code",
   "execution_count": 29,
   "id": "2bddc2e2",
   "metadata": {},
   "outputs": [
    {
     "name": "stdout",
     "output_type": "stream",
     "text": [
      "enter the no. of rows :: 5\n",
      "*\n",
      "**\n",
      "***\n",
      "****\n",
      "*****\n"
     ]
    }
   ],
   "source": [
    "n = int(input(\"enter the no. of rows :: \"))\n",
    "for i in range(1,n+1):\n",
    "    print(\"*\" * i)"
   ]
  },
  {
   "cell_type": "markdown",
   "id": "7d596506",
   "metadata": {},
   "source": [
    "b) Inverted right-angled triangle pattern:\n",
    "\n",
    "*****\n",
    "****\n",
    "***\n",
    "**\n",
    "*"
   ]
  },
  {
   "cell_type": "code",
   "execution_count": 30,
   "id": "0f0ebadf",
   "metadata": {},
   "outputs": [
    {
     "name": "stdout",
     "output_type": "stream",
     "text": [
      "enter the no. of rows :: 5\n",
      "*****\n",
      "****\n",
      "***\n",
      "**\n",
      "*\n"
     ]
    }
   ],
   "source": [
    "n = int(input(\"enter the no. of rows :: \"))\n",
    "for i in range(n,0,-1):\n",
    "    print(\"*\" * i)"
   ]
  },
  {
   "cell_type": "markdown",
   "id": "6d610ec4",
   "metadata": {},
   "source": [
    "# 8.Number Pyramid\n",
    "\n",
    "Create a Python program that takes an integer 'n' as input and prints a number pyramid as shown below:\n",
    "\n",
    "For n = 4, the output should be:"
   ]
  },
  {
   "cell_type": "code",
   "execution_count": 14,
   "id": "bd4110cb",
   "metadata": {},
   "outputs": [
    {
     "name": "stdout",
     "output_type": "stream",
     "text": [
      "enter the no. of rows :: 4\n",
      "   1\n",
      "  212\n",
      " 32123\n",
      "4321234\n"
     ]
    }
   ],
   "source": [
    "n = int(input(\"enter the no. of rows :: \"))\n",
    "for i in range(1,n+1):\n",
    "    for j in range(1,n-i+1):\n",
    "        print(end = \" \")\n",
    "    for j in range(i,0,-1):\n",
    "        print(j,end = \"\")\n",
    "    for j in range(2,i+1):\n",
    "        print(j,end = \"\")\n",
    "    print()"
   ]
  },
  {
   "cell_type": "code",
   "execution_count": null,
   "id": "84f83246",
   "metadata": {},
   "outputs": [],
   "source": []
  }
 ],
 "metadata": {
  "kernelspec": {
   "display_name": "Python 3 (ipykernel)",
   "language": "python",
   "name": "python3"
  },
  "language_info": {
   "codemirror_mode": {
    "name": "ipython",
    "version": 3
   },
   "file_extension": ".py",
   "mimetype": "text/x-python",
   "name": "python",
   "nbconvert_exporter": "python",
   "pygments_lexer": "ipython3",
   "version": "3.11.4"
  }
 },
 "nbformat": 4,
 "nbformat_minor": 5
}
