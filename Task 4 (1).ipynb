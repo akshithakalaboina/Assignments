{
 "cells": [
  {
   "cell_type": "markdown",
   "id": "b24867f7",
   "metadata": {},
   "source": [
    "1. Ask user to  enter a  website name and check whether it is valid or not(True/False)\n",
    "\n",
    "\n",
    "2. name = \"Innomatics\", course = \"Data Science\"\n",
    "   write python code in `different ways` to show output as :\n",
    "   `\"Hello World I am learning Data Science in Innomatics\"`\n",
    "   \n",
    "   \n",
    "3. Replace `Science` with `Analysis` in the above output.\n",
    "\n",
    "\n",
    "4. `string = '     Hello World I am learning Python in Innomatics   '`\n",
    "    a. How many characters are there in the string.\n",
    "    b. Slice only 'Python' from above string\n",
    "    c. Remove white spaces on both sides then find no.of characters in the string.\n",
    "    d. Convert the string in Upper case\n",
    "    \n",
    "    \n",
    "5. What is the index number of 'World' in above string.\n",
    "\n",
    "\n",
    "6. Split the string with respect to `whitespace`.after that `store` that splitted into a variable and find the `data type`of that variable.\n",
    "\n",
    "\n",
    "7. How many times 'a' is `repeated` in above string.\n",
    "\n",
    "8. "
   ]
  },
  {
   "cell_type": "markdown",
   "id": "e9c096d5",
   "metadata": {},
   "source": [
    "1.Ask user to enter a website name and check whether it is valid or not(True/False)"
   ]
  },
  {
   "cell_type": "code",
   "execution_count": 11,
   "id": "18091ac7",
   "metadata": {},
   "outputs": [
    {
     "name": "stdout",
     "output_type": "stream",
     "text": [
      "Enter website: www.hcbjkd.com\n",
      "True\n",
      "True\n"
     ]
    }
   ],
   "source": [
    "website = input(\"Enter website: \")   #asking user to give input\n",
    "print(website.startswith('www'))\n",
    "print(website.endswith('.com'))"
   ]
  },
  {
   "cell_type": "markdown",
   "id": "3b327573",
   "metadata": {},
   "source": [
    "2. name = \"Innomatics\", course = \"Data Science\" write python code in different ways to show output as : \"Hello World I am learning Data Science in Innomatics\""
   ]
  },
  {
   "cell_type": "code",
   "execution_count": 14,
   "id": "312845ed",
   "metadata": {},
   "outputs": [
    {
     "name": "stdout",
     "output_type": "stream",
     "text": [
      "Hello World Iam learning  Data Science  in  Innomatics\n"
     ]
    }
   ],
   "source": [
    "name = \"Innomatics\"\n",
    "course =\"Data Science\"\n",
    "print(\"Hello World Iam learning \",course,\" in \",name)                #first way "
   ]
  },
  {
   "cell_type": "code",
   "execution_count": 22,
   "id": "396909b0",
   "metadata": {},
   "outputs": [
    {
     "name": "stdout",
     "output_type": "stream",
     "text": [
      "Hello World Iam learning Data Science in Innomatics\n"
     ]
    }
   ],
   "source": [
    "print(\"Hello World Iam learning \" + course +\" in \" + name)             #second way"
   ]
  },
  {
   "cell_type": "code",
   "execution_count": 23,
   "id": "84da0a10",
   "metadata": {},
   "outputs": [
    {
     "name": "stdout",
     "output_type": "stream",
     "text": [
      "Hello World Iam learning Data Science in Innomatics \n"
     ]
    }
   ],
   "source": [
    "print(\"Hello World Iam learning {} in {} \".format(course,name))        #third way"
   ]
  },
  {
   "cell_type": "code",
   "execution_count": 24,
   "id": "686f6764",
   "metadata": {},
   "outputs": [
    {
     "name": "stdout",
     "output_type": "stream",
     "text": [
      "Hello World Iam learning Data Science in Innomatics \n"
     ]
    }
   ],
   "source": [
    "print(f\"Hello World Iam learning {course} in {name} \")                 #fourth way"
   ]
  },
  {
   "cell_type": "markdown",
   "id": "2297a61b",
   "metadata": {},
   "source": [
    "3. Replace Science with Analysis in the above output."
   ]
  },
  {
   "cell_type": "code",
   "execution_count": 25,
   "id": "8dc5ea19",
   "metadata": {},
   "outputs": [
    {
     "data": {
      "text/plain": [
       "'Data Analysis'"
      ]
     },
     "execution_count": 25,
     "metadata": {},
     "output_type": "execute_result"
    }
   ],
   "source": [
    "course = \"Data Science\"\n",
    "course.replace(\"Science\", \"Analysis\")"
   ]
  },
  {
   "cell_type": "markdown",
   "id": "ec8aa52e",
   "metadata": {},
   "source": [
    "4. string = '     Hello World I am learning Python in Innomatics   ' \n",
    "\n",
    "a. How many characters are there in the string.\n",
    "\n",
    "b. Slice only 'Python' from above string \n",
    "\n",
    "c. Remove white spaces on both sides then find no.of characters in the string.\n",
    "\n",
    "d. Convert the string in Upper case"
   ]
  },
  {
   "cell_type": "code",
   "execution_count": 32,
   "id": "e4c54c59",
   "metadata": {},
   "outputs": [],
   "source": [
    "string = '    Hello World I am learning Python in Innomatics   '"
   ]
  },
  {
   "cell_type": "code",
   "execution_count": 33,
   "id": "8d6d4b60",
   "metadata": {},
   "outputs": [
    {
     "data": {
      "text/plain": [
       "'    Hello World I am learning Python in Innomatics   '"
      ]
     },
     "execution_count": 33,
     "metadata": {},
     "output_type": "execute_result"
    }
   ],
   "source": [
    "string"
   ]
  },
  {
   "cell_type": "code",
   "execution_count": 40,
   "id": "a87eb578",
   "metadata": {},
   "outputs": [
    {
     "data": {
      "text/plain": [
       "53"
      ]
     },
     "execution_count": 40,
     "metadata": {},
     "output_type": "execute_result"
    }
   ],
   "source": [
    "len(string)          #length of the string"
   ]
  },
  {
   "cell_type": "code",
   "execution_count": 37,
   "id": "8e0c737a",
   "metadata": {},
   "outputs": [
    {
     "data": {
      "text/plain": [
       "'Python '"
      ]
     },
     "execution_count": 37,
     "metadata": {},
     "output_type": "execute_result"
    }
   ],
   "source": [
    "string[-23:-16] "
   ]
  },
  {
   "cell_type": "code",
   "execution_count": 41,
   "id": "22e94abf",
   "metadata": {},
   "outputs": [
    {
     "name": "stdout",
     "output_type": "stream",
     "text": [
      "Hello World I am learning Python in Innomatics\n"
     ]
    }
   ],
   "source": [
    "n = string.strip()                #removing whitespace on both sides from string\n",
    "print(n)"
   ]
  },
  {
   "cell_type": "code",
   "execution_count": 43,
   "id": "d284c509",
   "metadata": {},
   "outputs": [
    {
     "name": "stdout",
     "output_type": "stream",
     "text": [
      "HELLO WORLD I AM LEARNING PYTHON IN INNOMATICS\n"
     ]
    }
   ],
   "source": [
    "print(n.upper())            #converting the string into upper case"
   ]
  },
  {
   "cell_type": "markdown",
   "id": "781a05f5",
   "metadata": {},
   "source": [
    "5. What is the index number of 'World' in above string."
   ]
  },
  {
   "cell_type": "code",
   "execution_count": 44,
   "id": "3780409e",
   "metadata": {},
   "outputs": [
    {
     "data": {
      "text/plain": [
       "'    Hello World I am learning Python in Innomatics   '"
      ]
     },
     "execution_count": 44,
     "metadata": {},
     "output_type": "execute_result"
    }
   ],
   "source": [
    "string"
   ]
  },
  {
   "cell_type": "code",
   "execution_count": 46,
   "id": "5eb3d538",
   "metadata": {},
   "outputs": [
    {
     "data": {
      "text/plain": [
       "10"
      ]
     },
     "execution_count": 46,
     "metadata": {},
     "output_type": "execute_result"
    }
   ],
   "source": [
    "string.index(\"World\")               #before removing whitespace"
   ]
  },
  {
   "cell_type": "code",
   "execution_count": 47,
   "id": "af9c7a11",
   "metadata": {},
   "outputs": [
    {
     "data": {
      "text/plain": [
       "6"
      ]
     },
     "execution_count": 47,
     "metadata": {},
     "output_type": "execute_result"
    }
   ],
   "source": [
    "n.index(\"World\")                     #after removing whitespace"
   ]
  },
  {
   "cell_type": "markdown",
   "id": "2d716126",
   "metadata": {},
   "source": [
    "6..Split the string with respect to whitespace.after that store that splitted into a variable and find the data typeof that variable"
   ]
  },
  {
   "cell_type": "code",
   "execution_count": 48,
   "id": "88306308",
   "metadata": {},
   "outputs": [
    {
     "data": {
      "text/plain": [
       "'    Hello World I am learning Python in Innomatics   '"
      ]
     },
     "execution_count": 48,
     "metadata": {},
     "output_type": "execute_result"
    }
   ],
   "source": [
    "string"
   ]
  },
  {
   "cell_type": "code",
   "execution_count": 51,
   "id": "f451b54f",
   "metadata": {},
   "outputs": [
    {
     "data": {
      "text/plain": [
       "['Hello', 'World', 'I', 'am', 'learning', 'Python', 'in', 'Innomatics']"
      ]
     },
     "execution_count": 51,
     "metadata": {},
     "output_type": "execute_result"
    }
   ],
   "source": [
    "string.split()"
   ]
  },
  {
   "cell_type": "code",
   "execution_count": 50,
   "id": "01f4a321",
   "metadata": {},
   "outputs": [],
   "source": [
    "n = string.split()    #split is used to split the values"
   ]
  },
  {
   "cell_type": "code",
   "execution_count": 52,
   "id": "984bea6d",
   "metadata": {},
   "outputs": [
    {
     "data": {
      "text/plain": [
       "list"
      ]
     },
     "execution_count": 52,
     "metadata": {},
     "output_type": "execute_result"
    }
   ],
   "source": [
    "type(n)"
   ]
  },
  {
   "cell_type": "markdown",
   "id": "ae1b91d4",
   "metadata": {},
   "source": [
    "7.How many times 'a' is repeated in above string."
   ]
  },
  {
   "cell_type": "code",
   "execution_count": 53,
   "id": "7d3c7ad9",
   "metadata": {},
   "outputs": [
    {
     "data": {
      "text/plain": [
       "'    Hello World I am learning Python in Innomatics   '"
      ]
     },
     "execution_count": 53,
     "metadata": {},
     "output_type": "execute_result"
    }
   ],
   "source": [
    "string"
   ]
  },
  {
   "cell_type": "code",
   "execution_count": 54,
   "id": "df759cf5",
   "metadata": {},
   "outputs": [
    {
     "data": {
      "text/plain": [
       "3"
      ]
     },
     "execution_count": 54,
     "metadata": {},
     "output_type": "execute_result"
    }
   ],
   "source": [
    "string.count(\"a\")"
   ]
  },
  {
   "cell_type": "code",
   "execution_count": null,
   "id": "73ddd15c",
   "metadata": {},
   "outputs": [],
   "source": []
  }
 ],
 "metadata": {
  "kernelspec": {
   "display_name": "Python 3 (ipykernel)",
   "language": "python",
   "name": "python3"
  },
  "language_info": {
   "codemirror_mode": {
    "name": "ipython",
    "version": 3
   },
   "file_extension": ".py",
   "mimetype": "text/x-python",
   "name": "python",
   "nbconvert_exporter": "python",
   "pygments_lexer": "ipython3",
   "version": "3.11.4"
  }
 },
 "nbformat": 4,
 "nbformat_minor": 5
}
