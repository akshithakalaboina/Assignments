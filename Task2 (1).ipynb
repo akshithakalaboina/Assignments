{
 "cells": [
  {
   "cell_type": "markdown",
   "id": "b8536ea7",
   "metadata": {},
   "source": [
    "* Write a program that calculates the `sum, difference, product, and quotient` of two numbers: 10 and 5.\n",
    "\n",
    "* Create a program that calculates the `area of a circle` with a radius of 4.5 units."
   ]
  },
  {
   "cell_type": "markdown",
   "id": "3f81b9d8",
   "metadata": {},
   "source": [
    "*  Write a program that `swaps` the values of two variables: x with a value of 5 and \"y\" with a value of 10.\n",
    "* Create a program that calculates `compound interest` for a principal amount of $1000, an interest rate of 5%, and a time period of 3 years."
   ]
  },
  {
   "cell_type": "markdown",
   "id": "768483d0",
   "metadata": {},
   "source": [
    "* Write a program that `compares` two numbers: 7 and 12, and determines whether the first number is greater than, less than, or equal to the second number.\n",
    "* Create a program that `checks` if a person of age 18 is eligible to vote based on the voting age requirement.(True/False)"
   ]
  },
  {
   "cell_type": "markdown",
   "id": "7881a204",
   "metadata": {},
   "source": [
    "* Create a program that `swaps` the values of two integers: `a` with a value of 10 and `b` with a value of 20 using\n",
    " *  bitwise XOR (^) operator.\n",
    " * Logical AND\n",
    " * Logical OR\n",
    " * Logical NOT"
   ]
  },
  {
   "cell_type": "markdown",
   "id": "1844e65c",
   "metadata": {},
   "source": [
    "*  Create a Python program that calculates the `area of a rectangle`. Prompt the `user to enter` the length and width of the rectangle, `store them` in variables, and compute the area using the formula:area length width.Finally, `print the calculated area.\n",
    "\n",
    "* Create a Python program that calculates the `average` of three exam scores. Prompt the user to enter the scores, `store them` in variables, calculate the average, and print the result.\n",
    "\n",
    "* Write a Python program that `converts` temperature from Celsius to Fahrenheit. Prompt the user to enter a temperature in Celsius, store it in a variable, and convert it to Fahrenheit using the formula: `Fahrenheit = (Celsius* 9/5)+32`, and print the converted temperature.\n",
    "\n",
    "* What are the `logical operators` in Python? Explain `each one` with an example.\n",
    "\n",
    "* What are the `membership` operators in Python? Explain their usage with examples\n",
    "\n",
    "* List and briefly explain the `basic data types` available in Python.\n",
    "\n",
    "* Write a Python code snippet that `assigns a value to a variable `and determines its `data type` using the type() function."
   ]
  },
  {
   "cell_type": "markdown",
   "id": "95ed62b5",
   "metadata": {},
   "source": [
    "Assignment: Basic Python Operators\n",
    "\n",
    "**Task 1: Arithmetic Operators**\n",
    "1. Write a Python program that takes two user-input numbers and displays their sum using the addition operator.\n",
    "2. Create a program to calculate the area of a rectangle. Prompt the user for the length and width, then use multiplication to find the area.\n",
    "3. Implement a program that converts temperature from Celsius to Fahrenheit using the formula: Fahrenheit = (Celsius * 9/5) + 32.\n",
    "\n",
    "**Task 2: Comparison Operators**\n",
    "1. Write a program that compares two user-input numbers and prints whether the first number is greater than the second number or not.\n",
    "2. Create a program that determines whether a user-input year is a leap year or not. A leap year is divisible by 4 and not divisible by 100, unless it is also divisible by 400.\n",
    "3. Implement a simple guessing game. Generate a random number between 1 and 100 and have the user guess the number. Provide feedback if their guess is too high or too low, and let them know when they've guessed correctly.\n",
    "\n",
    "**Task 3: Logical Operators**\n",
    "1. Write a program that checks whether a user-input number is positive and even using logical AND (`and`) operator.\n",
    "2. Create a login system where you define a correct username and password. Ask the user for their input and compare it with the correct credentials using logical OR (`or`) operator. Provide access if either the username or password is correct.\n",
    "3. Implement a program that determines whether a given year is a leap year and divisible by 7 using logical NOT (`not`) operator.\n",
    "\n",
    "**Task 4: Assignment Operators**\n",
    "1. Write a program to calculate the square of a number using the exponentiation operator (`**`) and assign it back to the same variable.\n",
    "2. Create a program that keeps track of the total score in a game. Prompt the user for their latest score and update the total score using the addition assignment operator (`+=`).\n",
    "3. Implement a program to convert seconds into hours, minutes, and remaining seconds using both division and modulo operators, and then assign each value using assignment operators.\n",
    "\n",
    "**Task 5: Bitwise Operators**\n",
    "1. Write a program that performs a bitwise AND operation between two user-input numbers and displays the result.\n",
    "2. Create a program to toggle the nth bit of a given number. Ask the user for the number and the value of n, then use bitwise XOR (^) operator to toggle the bit.\n",
    "3. Implement a program to swap the values of two variables without using a temporary variable, only using bitwise XOR (^) operator.\n",
    "\n"
   ]
  },
  {
   "cell_type": "code",
   "execution_count": 30,
   "id": "04ee446a",
   "metadata": {},
   "outputs": [
    {
     "name": "stdout",
     "output_type": "stream",
     "text": [
      "15\n"
     ]
    }
   ],
   "source": [
    "a = 10\n",
    "b = 5            #sum\n",
    "print(a + b)"
   ]
  },
  {
   "cell_type": "code",
   "execution_count": 31,
   "id": "aee26450",
   "metadata": {},
   "outputs": [
    {
     "name": "stdout",
     "output_type": "stream",
     "text": [
      "5\n"
     ]
    }
   ],
   "source": [
    "a = 10\n",
    "b = 5             #difference\n",
    "print(a-b)"
   ]
  },
  {
   "cell_type": "code",
   "execution_count": 3,
   "id": "a5225bbd",
   "metadata": {},
   "outputs": [
    {
     "name": "stdout",
     "output_type": "stream",
     "text": [
      "50\n"
     ]
    }
   ],
   "source": [
    "a = 10\n",
    "b = 5             #product\n",
    "print(a * b)"
   ]
  },
  {
   "cell_type": "code",
   "execution_count": 32,
   "id": "b48659f4",
   "metadata": {},
   "outputs": [
    {
     "name": "stdout",
     "output_type": "stream",
     "text": [
      "2\n"
     ]
    }
   ],
   "source": [
    "a = 10\n",
    "b = 5           #quotient\n",
    "print(a//b)"
   ]
  },
  {
   "cell_type": "code",
   "execution_count": 5,
   "id": "41c8d164",
   "metadata": {},
   "outputs": [
    {
     "name": "stdout",
     "output_type": "stream",
     "text": [
      "63.615375\n"
     ]
    }
   ],
   "source": [
    "radius = 4.5\n",
    "area = 3.1415 * 4.5**2\n",
    "print(area)"
   ]
  },
  {
   "cell_type": "code",
   "execution_count": 33,
   "id": "de5f2f37",
   "metadata": {},
   "outputs": [
    {
     "name": "stdout",
     "output_type": "stream",
     "text": [
      "After swapping\n",
      "value of x : 10\n",
      "value of y:  5\n"
     ]
    }
   ],
   "source": [
    "x = 5\n",
    "y = 10\n",
    "temp = x \n",
    "x=y\n",
    "y=temp\n",
    "print(\"After swapping\")\n",
    "print(\"value of x :\" , x)\n",
    "print(\"value of y: \" , y)"
   ]
  },
  {
   "cell_type": "code",
   "execution_count": 5,
   "id": "5a68a579",
   "metadata": {},
   "outputs": [
    {
     "name": "stdout",
     "output_type": "stream",
     "text": [
      "enter the length: 8\n",
      "enter the breadth: 5\n",
      "40\n"
     ]
    }
   ],
   "source": [
    "length = int(input(\"enter the length: \"))\n",
    "breadth = int(input(\"enter the breadth: \"))\n",
    "area = length * breadth\n",
    "print(area)"
   ]
  },
  {
   "cell_type": "code",
   "execution_count": 7,
   "id": "13107add",
   "metadata": {},
   "outputs": [
    {
     "name": "stdout",
     "output_type": "stream",
     "text": [
      "157.62500000000023\n"
     ]
    }
   ],
   "source": [
    "p = 1000\n",
    "r = 5\n",
    "t = 3\n",
    "a = p*(1+(r/100))**t\n",
    "ci = a-p\n",
    "print(ci)"
   ]
  },
  {
   "cell_type": "code",
   "execution_count": 42,
   "id": "a0f07b61",
   "metadata": {},
   "outputs": [
    {
     "data": {
      "text/plain": [
       "False"
      ]
     },
     "execution_count": 42,
     "metadata": {},
     "output_type": "execute_result"
    }
   ],
   "source": [
    "a = 7\n",
    "b = 12\n",
    "a>b        #greater than\n"
   ]
  },
  {
   "cell_type": "code",
   "execution_count": 43,
   "id": "f750e783",
   "metadata": {},
   "outputs": [
    {
     "data": {
      "text/plain": [
       "True"
      ]
     },
     "execution_count": 43,
     "metadata": {},
     "output_type": "execute_result"
    }
   ],
   "source": [
    "a = 7\n",
    "b = 12     #Less than\n",
    "a<b\n"
   ]
  },
  {
   "cell_type": "code",
   "execution_count": 44,
   "id": "66e18ff9",
   "metadata": {},
   "outputs": [
    {
     "data": {
      "text/plain": [
       "False"
      ]
     },
     "execution_count": 44,
     "metadata": {},
     "output_type": "execute_result"
    }
   ],
   "source": [
    "a = 7\n",
    "b = 12    # Equal\n",
    "a == b\n"
   ]
  },
  {
   "cell_type": "code",
   "execution_count": 3,
   "id": "50846526",
   "metadata": {},
   "outputs": [
    {
     "data": {
      "text/plain": [
       "True"
      ]
     },
     "execution_count": 3,
     "metadata": {},
     "output_type": "execute_result"
    }
   ],
   "source": [
    "age = 18\n",
    "eligibilityage = 18\n",
    "age >= eligibilityage \n",
    "   "
   ]
  },
  {
   "cell_type": "code",
   "execution_count": 46,
   "id": "c970b18c",
   "metadata": {},
   "outputs": [
    {
     "name": "stdout",
     "output_type": "stream",
     "text": [
      "After swapping\n",
      "value of a =  20\n",
      "value of b =  10\n"
     ]
    }
   ],
   "source": [
    "a = 10  #Bitwise XOR\n",
    "b = 20\n",
    "a = a ^ b\n",
    "b = a ^ b\n",
    "a = a ^ b\n",
    "print(\"After swapping\")\n",
    "print(\"value of a = \" , a)\n",
    "print(\"value of b = \" , b)"
   ]
  },
  {
   "cell_type": "code",
   "execution_count": 4,
   "id": "b632bc67",
   "metadata": {},
   "outputs": [
    {
     "name": "stdout",
     "output_type": "stream",
     "text": [
      "After swapping\n",
      "value of a =  20\n",
      "value of b =  20\n"
     ]
    }
   ],
   "source": [
    "a = 10  # Logical AND\n",
    "b = 20\n",
    "a = a and b\n",
    "b = a and b\n",
    "a = a and b\n",
    "print(\"After swapping\")\n",
    "print(\"value of a = \" , a)\n",
    "print(\"value of b = \" , b)"
   ]
  },
  {
   "cell_type": "code",
   "execution_count": 8,
   "id": "8e751ecb",
   "metadata": {},
   "outputs": [],
   "source": [
    "a = 10\n",
    "b = 20"
   ]
  },
  {
   "cell_type": "code",
   "execution_count": 9,
   "id": "b4c0c0ab",
   "metadata": {},
   "outputs": [],
   "source": [
    "a = a ^ b\n",
    "b = a ^ b    #Bitwise XOR\n",
    "a = a ^ b"
   ]
  },
  {
   "cell_type": "code",
   "execution_count": 10,
   "id": "50cbec69",
   "metadata": {},
   "outputs": [
    {
     "name": "stdout",
     "output_type": "stream",
     "text": [
      "20\n"
     ]
    }
   ],
   "source": [
    "print(a)"
   ]
  },
  {
   "cell_type": "code",
   "execution_count": 36,
   "id": "03087053",
   "metadata": {},
   "outputs": [
    {
     "data": {
      "text/plain": [
       "False"
      ]
     },
     "execution_count": 36,
     "metadata": {},
     "output_type": "execute_result"
    }
   ],
   "source": [
    "a = 10          #Logical AND\n",
    "b = 20\n",
    "(a<=b) and(b==a)"
   ]
  },
  {
   "cell_type": "code",
   "execution_count": 37,
   "id": "8a847b9c",
   "metadata": {},
   "outputs": [
    {
     "data": {
      "text/plain": [
       "True"
      ]
     },
     "execution_count": 37,
     "metadata": {},
     "output_type": "execute_result"
    }
   ],
   "source": [
    "(a==b) or (b>=a)  # Logical OR`"
   ]
  },
  {
   "cell_type": "code",
   "execution_count": 38,
   "id": "6e78672a",
   "metadata": {},
   "outputs": [
    {
     "data": {
      "text/plain": [
       "False"
      ]
     },
     "execution_count": 38,
     "metadata": {},
     "output_type": "execute_result"
    }
   ],
   "source": [
    "not (a!=b) #Logical NOT"
   ]
  },
  {
   "cell_type": "code",
   "execution_count": 40,
   "id": "2c53b9c1",
   "metadata": {},
   "outputs": [
    {
     "name": "stdout",
     "output_type": "stream",
     "text": [
      "area = 50\n"
     ]
    }
   ],
   "source": [
    "length = 10\n",
    "breadth = 5\n",
    "print(\"area =\", length * breadth)"
   ]
  },
  {
   "cell_type": "code",
   "execution_count": 1,
   "id": "49b713f1",
   "metadata": {},
   "outputs": [
    {
     "name": "stdout",
     "output_type": "stream",
     "text": [
      "Enter the first number:18\n",
      "Enter the second number:7\n",
      "Enter the third number:11\n",
      "The average of three numbers is  12.0\n"
     ]
    }
   ],
   "source": [
    "a = int(input(\"Enter the first number:\"))\n",
    "b = int(input(\"Enter the second number:\"))\n",
    "c = int(input(\"Enter the third number:\"))\n",
    "average = (a+b+c)/3\n",
    "print(\"The average of three numbers is \" , average)"
   ]
  },
  {
   "cell_type": "code",
   "execution_count": 8,
   "id": "09bcde9d",
   "metadata": {},
   "outputs": [
    {
     "name": "stdout",
     "output_type": "stream",
     "text": [
      "Enter temperature in celsius: 98.4\n",
      "Temperature in fahrenheit: (.2f) 209.12\n"
     ]
    }
   ],
   "source": [
    "celsius = float(input(\"Enter temperature in celsius: \"))\n",
    "fahrenheit = (celsius * 9/5) + 32\n",
    "print(\"Temperature in fahrenheit: (.2f)\",format(fahrenheit))"
   ]
  },
  {
   "cell_type": "markdown",
   "id": "cb588264",
   "metadata": {},
   "source": [
    "# Logical operators"
   ]
  },
  {
   "cell_type": "markdown",
   "id": "2daa4717",
   "metadata": {},
   "source": [
    "logical operators are \n",
    "1.Logical AND : in Logical AND : If any condition is False, the complete condition is False\n",
    "    \n",
    "2.Logical OR : If any condition is True, the complete condition is True\n",
    "    it takes the first value in the logical or value\n",
    "    \n",
    "3.Logical NOT"
   ]
  },
  {
   "cell_type": "code",
   "execution_count": 9,
   "id": "d063c9c6",
   "metadata": {},
   "outputs": [],
   "source": [
    "a = 20\n",
    "b = 30 \n",
    "c = 40"
   ]
  },
  {
   "cell_type": "code",
   "execution_count": 10,
   "id": "588c25b3",
   "metadata": {},
   "outputs": [
    {
     "data": {
      "text/plain": [
       "True"
      ]
     },
     "execution_count": 10,
     "metadata": {},
     "output_type": "execute_result"
    }
   ],
   "source": [
    "(a > b) or ( b < c)"
   ]
  },
  {
   "cell_type": "code",
   "execution_count": 11,
   "id": "1bfb3232",
   "metadata": {},
   "outputs": [
    {
     "data": {
      "text/plain": [
       "True"
      ]
     },
     "execution_count": 11,
     "metadata": {},
     "output_type": "execute_result"
    }
   ],
   "source": [
    "(a == b) or (a <= b)"
   ]
  },
  {
   "cell_type": "code",
   "execution_count": 12,
   "id": "9ab9488a",
   "metadata": {},
   "outputs": [
    {
     "data": {
      "text/plain": [
       "True"
      ]
     },
     "execution_count": 12,
     "metadata": {},
     "output_type": "execute_result"
    }
   ],
   "source": [
    "(a == b) or (a == c) or (a < b)"
   ]
  },
  {
   "cell_type": "code",
   "execution_count": 13,
   "id": "2376ecad",
   "metadata": {},
   "outputs": [],
   "source": [
    "a = 18\n",
    "b = 77 "
   ]
  },
  {
   "cell_type": "code",
   "execution_count": 14,
   "id": "f2dcf207",
   "metadata": {},
   "outputs": [
    {
     "data": {
      "text/plain": [
       "False"
      ]
     },
     "execution_count": 14,
     "metadata": {},
     "output_type": "execute_result"
    }
   ],
   "source": [
    "not (a < b)"
   ]
  },
  {
   "cell_type": "code",
   "execution_count": 15,
   "id": "8d7f7f23",
   "metadata": {},
   "outputs": [],
   "source": [
    "a = 150\n",
    "b = 300\n",
    "c = 200"
   ]
  },
  {
   "cell_type": "code",
   "execution_count": 16,
   "id": "8c8704cc",
   "metadata": {},
   "outputs": [
    {
     "data": {
      "text/plain": [
       "False"
      ]
     },
     "execution_count": 16,
     "metadata": {},
     "output_type": "execute_result"
    }
   ],
   "source": [
    "(a == b) and (b == c)"
   ]
  },
  {
   "cell_type": "code",
   "execution_count": 17,
   "id": "b68e9603",
   "metadata": {},
   "outputs": [
    {
     "data": {
      "text/plain": [
       "True"
      ]
     },
     "execution_count": 17,
     "metadata": {},
     "output_type": "execute_result"
    }
   ],
   "source": [
    "(5< 10) and (6> 3)"
   ]
  },
  {
   "cell_type": "code",
   "execution_count": 18,
   "id": "58a8ad30",
   "metadata": {},
   "outputs": [
    {
     "data": {
      "text/plain": [
       "False"
      ]
     },
     "execution_count": 18,
     "metadata": {},
     "output_type": "execute_result"
    }
   ],
   "source": [
    "\"Hello\" > \"hello\""
   ]
  },
  {
   "cell_type": "markdown",
   "id": "4b1670c3",
   "metadata": {},
   "source": [
    "# Membership operators"
   ]
  },
  {
   "cell_type": "markdown",
   "id": "10b74527",
   "metadata": {},
   "source": [
    "They consists of in and\n",
    "not in operator"
   ]
  },
  {
   "cell_type": "markdown",
   "id": "e9415e6b",
   "metadata": {},
   "source": [
    "in operator: The ‘in’ operator is used to check if a character/ substring/ element exists in a sequence or not. "
   ]
  },
  {
   "cell_type": "markdown",
   "id": "6dc74f0e",
   "metadata": {},
   "source": [
    "not in operator- Evaluates to true if it does not finds a variable in the specified sequence and false otherwise.\n"
   ]
  },
  {
   "cell_type": "code",
   "execution_count": 20,
   "id": "3cda7504",
   "metadata": {},
   "outputs": [],
   "source": [
    "a = \"Iam learning Python\""
   ]
  },
  {
   "cell_type": "code",
   "execution_count": 22,
   "id": "c3838884",
   "metadata": {},
   "outputs": [
    {
     "data": {
      "text/plain": [
       "True"
      ]
     },
     "execution_count": 22,
     "metadata": {},
     "output_type": "execute_result"
    }
   ],
   "source": [
    "\"Python\" in a"
   ]
  },
  {
   "cell_type": "code",
   "execution_count": 24,
   "id": "c6609984",
   "metadata": {},
   "outputs": [
    {
     "data": {
      "text/plain": [
       "False"
      ]
     },
     "execution_count": 24,
     "metadata": {},
     "output_type": "execute_result"
    }
   ],
   "source": [
    "\"Iam\" not in a"
   ]
  },
  {
   "cell_type": "code",
   "execution_count": 25,
   "id": "23148dd6",
   "metadata": {},
   "outputs": [
    {
     "data": {
      "text/plain": [
       "True"
      ]
     },
     "execution_count": 25,
     "metadata": {},
     "output_type": "execute_result"
    }
   ],
   "source": [
    "\" learning \" in a "
   ]
  },
  {
   "cell_type": "markdown",
   "id": "9a3260b1",
   "metadata": {},
   "source": [
    "# Datatypes"
   ]
  },
  {
   "cell_type": "markdown",
   "id": "9da0daf3",
   "metadata": {},
   "source": [
    "Datatype is a data,numeric or text"
   ]
  },
  {
   "cell_type": "markdown",
   "id": "69ee1c61",
   "metadata": {},
   "source": [
    "Datatype is of two types\n",
    "\n",
    "1.Basic Datatype\n",
    "\n",
    "2.Collection Datatype"
   ]
  },
  {
   "cell_type": "markdown",
   "id": "7050ccb8",
   "metadata": {},
   "source": [
    "Integer - it represents positive, negative, whole number\n",
    "\n",
    "Float - it represents with decimal point\n",
    "\n",
    "String - it represents sequence of characters like test\n",
    "\n",
    "Boolean - it is used for logical operations True or False"
   ]
  },
  {
   "cell_type": "code",
   "execution_count": 4,
   "id": "00c82ed4",
   "metadata": {},
   "outputs": [],
   "source": [
    "variable_name = \"Akshitha\""
   ]
  },
  {
   "cell_type": "code",
   "execution_count": 5,
   "id": "f27c48b7",
   "metadata": {},
   "outputs": [
    {
     "data": {
      "text/plain": [
       "str"
      ]
     },
     "execution_count": 5,
     "metadata": {},
     "output_type": "execute_result"
    }
   ],
   "source": [
    "type(variable_name)"
   ]
  },
  {
   "cell_type": "markdown",
   "id": "7c910e8e",
   "metadata": {},
   "source": [
    "# Task1 - Arithematic Operators"
   ]
  },
  {
   "cell_type": "code",
   "execution_count": 5,
   "id": "9105d97a",
   "metadata": {},
   "outputs": [
    {
     "name": "stdout",
     "output_type": "stream",
     "text": [
      "Enter first number: 10\n",
      "Enter second number: 8\n",
      "sum = 18.0\n"
     ]
    }
   ],
   "source": [
    "num1 = input('Enter first number: ')\n",
    "num2 = input('Enter second number: ')\n",
    "sum = float(num1) + float(num2)\n",
    "print(\"sum =\" ,sum)"
   ]
  },
  {
   "cell_type": "code",
   "execution_count": 6,
   "id": "b169b5ce",
   "metadata": {},
   "outputs": [
    {
     "name": "stdout",
     "output_type": "stream",
     "text": [
      "enter the length5\n",
      "enter the width7\n",
      "area= 35\n"
     ]
    }
   ],
   "source": [
    "length =int(input(\"enter the length\"))\n",
    "width =int(input(\"enter the width\"))\n",
    "area =length * width\n",
    "print(\"area=\" ,area)"
   ]
  },
  {
   "cell_type": "code",
   "execution_count": 1,
   "id": "f230b01e",
   "metadata": {},
   "outputs": [
    {
     "name": "stdout",
     "output_type": "stream",
     "text": [
      "Enter temperature in celsius: 98.4\n",
      "Temperature in fahrenheit: (.2f) 209.12\n"
     ]
    }
   ],
   "source": [
    "celsius = float(input(\"Enter temperature in celsius: \"))\n",
    "fahrenheit = (celsius * 9/5) + 32\n",
    "print(\"Temperature in fahrenheit: (.2f)\",format(fahrenheit))"
   ]
  },
  {
   "cell_type": "markdown",
   "id": "96516b2c",
   "metadata": {},
   "source": [
    "# Task2 Comparison operators"
   ]
  },
  {
   "cell_type": "code",
   "execution_count": 3,
   "id": "2d7ce6b1",
   "metadata": {},
   "outputs": [
    {
     "name": "stdout",
     "output_type": "stream",
     "text": [
      "enter any number18\n",
      "enter any number5\n",
      "x is greater than y\n"
     ]
    }
   ],
   "source": [
    "x=int(input(\"enter any number\"))\n",
    "y=int(input(\"enter any number\"))\n",
    "if x>y:\n",
    "    print(\"x is greater than y\")\n",
    "elif y>x:\n",
    "    print(\"y is greater than x\")\n",
    "else:\n",
    "     print(\"x and y are equal\")"
   ]
  },
  {
   "cell_type": "code",
   "execution_count": 1,
   "id": "d641f570",
   "metadata": {},
   "outputs": [
    {
     "name": "stdout",
     "output_type": "stream",
     "text": [
      "Enter year : 2018\n",
      "2018 is not a leap year.\n"
     ]
    }
   ],
   "source": [
    "year = int(input('Enter year : '))\n",
    " \n",
    "if (year%4 == 0 and year%100 != 0) or (year%400 == 0) :\n",
    "    print(year, \"is a leap year.\")\n",
    "else :\n",
    "    print(year, \"is not a leap year.\")\n"
   ]
  },
  {
   "cell_type": "code",
   "execution_count": 3,
   "id": "1066441e",
   "metadata": {},
   "outputs": [],
   "source": [
    "import random\n",
    "number=random.randint(2,95)"
   ]
  },
  {
   "cell_type": "markdown",
   "id": "dd83993b",
   "metadata": {},
   "source": [
    "# Task3 Logical operators"
   ]
  },
  {
   "cell_type": "code",
   "execution_count": 5,
   "id": "37051fbd",
   "metadata": {},
   "outputs": [
    {
     "name": "stdout",
     "output_type": "stream",
     "text": [
      "Enter a value: 18\n",
      "number is positive and even\n"
     ]
    }
   ],
   "source": [
    "a = int(input(\"Enter a value: \"))\n",
    "if(a%2 == 0 and a>0):\n",
    "    print(\"number is positive and even\")\n",
    "elif(a%2 != 0 and a>0):\n",
    "    print(\"number is positive and odd\")\n",
    "elif(a%2 == 0 and a<0):\n",
    "    print(\"number is negative and even\")\n",
    "else:\n",
    "     print(\"number is negative and odd\")\n",
    "    "
   ]
  },
  {
   "cell_type": "code",
   "execution_count": 1,
   "id": "0e3df3db",
   "metadata": {},
   "outputs": [
    {
     "name": "stdout",
     "output_type": "stream",
     "text": [
      "enter usernameBlackPanther\n",
      "enter the password6284\n",
      "access is provided\n"
     ]
    }
   ],
   "source": [
    "username = \"BlackPanther\"\n",
    "password=6284\n",
    "username1=input(\"enter username\")\n",
    "password1=int(input(\"enter the password\"))\n",
    "if (username1==username)or(password1==password):\n",
    "    print(\"access is provided\")\n",
    "else:\n",
    "    print(\"access is denied\")"
   ]
  },
  {
   "cell_type": "code",
   "execution_count": 2,
   "id": "ff7c89d1",
   "metadata": {},
   "outputs": [
    {
     "name": "stdout",
     "output_type": "stream",
     "text": [
      "Enter year : 1996\n",
      "leap year and divisible by 7\n"
     ]
    }
   ],
   "source": [
    "year = int(input('Enter year : '))\n",
    " \n",
    "if (year%4 == 0 and year%100 != 0 or (year%400 == 0) and not(year%7!=0)):\n",
    "    print(\"leap year and divisible by 7\")\n",
    "else :\n",
    "    print(\"not a leap year and it is not divisible by 7\")\n"
   ]
  },
  {
   "cell_type": "markdown",
   "id": "fb3efa7d",
   "metadata": {},
   "source": [
    "# 4. Assignment operators"
   ]
  },
  {
   "cell_type": "code",
   "execution_count": 4,
   "id": "e6eb4c04",
   "metadata": {},
   "outputs": [
    {
     "name": "stdout",
     "output_type": "stream",
     "text": [
      "324\n"
     ]
    }
   ],
   "source": [
    "n = 18\n",
    "square = n * n\n",
    "print(square)"
   ]
  },
  {
   "cell_type": "code",
   "execution_count": 12,
   "id": "f106af23",
   "metadata": {},
   "outputs": [
    {
     "name": "stdout",
     "output_type": "stream",
     "text": [
      "enter the score : 58\n",
      "106\n"
     ]
    }
   ],
   "source": [
    "score = 48\n",
    "latest_score = int(input(\"enter the score : \"))\n",
    "score+=latest_score\n",
    "print(score)"
   ]
  },
  {
   "cell_type": "code",
   "execution_count": 13,
   "id": "76076c32",
   "metadata": {},
   "outputs": [
    {
     "name": "stdout",
     "output_type": "stream",
     "text": [
      "208.0\n",
      "3.466666666666667\n"
     ]
    }
   ],
   "source": [
    "seconds = 12480\n",
    "minutes = seconds/60\n",
    "hours = minutes/60\n",
    "print(minutes)\n",
    "print(hours)"
   ]
  },
  {
   "cell_type": "markdown",
   "id": "6157c3d0",
   "metadata": {},
   "source": [
    "# 5. Bitwise operators"
   ]
  },
  {
   "cell_type": "code",
   "execution_count": 16,
   "id": "313f0945",
   "metadata": {},
   "outputs": [
    {
     "name": "stdout",
     "output_type": "stream",
     "text": [
      "enter the number : 32\n",
      "enter the number : 54\n"
     ]
    },
    {
     "data": {
      "text/plain": [
       "32"
      ]
     },
     "execution_count": 16,
     "metadata": {},
     "output_type": "execute_result"
    }
   ],
   "source": [
    "num1=int(input(\"enter the number : \"))\n",
    "num2=int(input(\"enter the number : \"))\n",
    "num1 & num2"
   ]
  },
  {
   "cell_type": "code",
   "execution_count": null,
   "id": "37988a5f",
   "metadata": {},
   "outputs": [],
   "source": []
  },
  {
   "cell_type": "code",
   "execution_count": 19,
   "id": "142662ed",
   "metadata": {},
   "outputs": [
    {
     "name": "stdout",
     "output_type": "stream",
     "text": [
      "20\n",
      "10\n"
     ]
    }
   ],
   "source": [
    "x = 10\n",
    "y = 20\n",
    "x,y=y,x\n",
    "x^y\n",
    "y^x\n",
    "print(x)\n",
    "print(y)"
   ]
  },
  {
   "cell_type": "code",
   "execution_count": null,
   "id": "a1371ba3",
   "metadata": {},
   "outputs": [],
   "source": []
  }
 ],
 "metadata": {
  "kernelspec": {
   "display_name": "Python 3 (ipykernel)",
   "language": "python",
   "name": "python3"
  },
  "language_info": {
   "codemirror_mode": {
    "name": "ipython",
    "version": 3
   },
   "file_extension": ".py",
   "mimetype": "text/x-python",
   "name": "python",
   "nbconvert_exporter": "python",
   "pygments_lexer": "ipython3",
   "version": "3.11.4"
  }
 },
 "nbformat": 4,
 "nbformat_minor": 5
}
