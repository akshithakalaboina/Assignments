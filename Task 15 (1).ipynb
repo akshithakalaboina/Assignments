{
 "cells": [
  {
   "cell_type": "markdown",
   "id": "985dd64b",
   "metadata": {},
   "source": [
    "Task 1: **Leap Year Checker**\n",
    "\n",
    "Write a program that takes a year as input and determines whether it is a leap year or not. A leap year is a year that is divisible by 4, but not divisible by 100, unless it is also divisible by 400. Display an appropriate message indicating whether the year is a leap year or not.\n",
    "\n",
    "Task 2: **Grade Calculator**\n",
    "\n",
    "Write a program that takes a student's score as input (out of 100) and determines their grade based on the following conditions:\n",
    "If the score is 90 or above, the grade is 'A'.\n",
    "If the score is between 80 and 89, the grade is 'B'.\n",
    "If the score is between 70 and 79, the grade is 'C'.\n",
    "If the score is between 60 and 69, the grade is 'D'. If the score is below 60, the grade is 'F'.\n",
    "Display the grade corresponding to the entered score.\n",
    "\n",
    "Task 3: **Calculator**\n",
    "Write a program that takes two numbers as input and performs a mathematical operation (+, -, *, /) based on the user's choice. Use a conditional statement to determine the operation to be performed. Display the result of the calculation.\n",
    "\n",
    "Task 4: **Reverse String**\n",
    "Write a Python function to reverse a string.\n",
    "\n",
    "Task 5: **Palindrome**\n",
    "Write a Python function that checks whether a passed string is a palindrome or not.\n",
    "\n",
    "Task 6: **Counting**\n",
    "Write a Python function that accepts a string and counts the number of upper and lower case letters.\n",
    "\n",
    "Task 7: **"
   ]
  },
  {
   "cell_type": "markdown",
   "id": "615a53e9",
   "metadata": {},
   "source": [
    "# Task 1:  Leap Year Checker\n",
    "    \n",
    "Write a program that takes a year as input and determines whether it is a leap year or not. A leap year is a year that is divisible by 4, but not divisible by 100, unless it is also divisible by 400. Display an appropriate message indicating whether the year is a leap year or not."
   ]
  },
  {
   "cell_type": "markdown",
   "id": "ba3ff5b8",
   "metadata": {},
   "source": [
    "# Normal Function"
   ]
  },
  {
   "cell_type": "code",
   "execution_count": 12,
   "id": "d862185a",
   "metadata": {},
   "outputs": [
    {
     "name": "stdout",
     "output_type": "stream",
     "text": [
      "Enter a year :: 1996\n",
      "It is a leap year\n"
     ]
    }
   ],
   "source": [
    "def leap(year):\n",
    "    if (year%4 == 0) and (year%100 != 0):\n",
    "        print(\"It is a leap year\")\n",
    "    else:\n",
    "        print(\"It is not a leap year\")\n",
    "        \n",
    "year = int(input(\"Enter a year :: \"))\n",
    "leap(year)"
   ]
  },
  {
   "cell_type": "markdown",
   "id": "90c9b798",
   "metadata": {},
   "source": [
    "# lambda function"
   ]
  },
  {
   "cell_type": "code",
   "execution_count": 13,
   "id": "7bc9e862",
   "metadata": {},
   "outputs": [],
   "source": [
    "c = lambda year : (year%4==0) and (year%100!=0)"
   ]
  },
  {
   "cell_type": "code",
   "execution_count": 14,
   "id": "36eae901",
   "metadata": {},
   "outputs": [
    {
     "name": "stdout",
     "output_type": "stream",
     "text": [
      "enter the year :: 1999\n",
      "It is not a leap year\n"
     ]
    }
   ],
   "source": [
    "year = int(input(\"enter the year :: \"))\n",
    "c(year)\n",
    "if c(year) == True:\n",
    "    print(\"It is a leap year\")\n",
    "else:\n",
    "    print(\"It is not a leap year\")"
   ]
  },
  {
   "cell_type": "markdown",
   "id": "ffec5e25",
   "metadata": {},
   "source": [
    "# map function"
   ]
  },
  {
   "cell_type": "code",
   "execution_count": 15,
   "id": "7c60c61d",
   "metadata": {},
   "outputs": [
    {
     "name": "stdout",
     "output_type": "stream",
     "text": [
      "It is a leap year\n",
      "It is not a leap year\n",
      "It is not a leap year\n",
      "It is a leap year\n",
      "It is not a leap year\n",
      "It is not a leap year\n"
     ]
    }
   ],
   "source": [
    "num = [2020,2022,2023,2024,2025,2026]\n",
    "def func(year):\n",
    "    if (year%4==0) and (year%100!=0):\n",
    "        print(\"It is a leap year\")\n",
    "    else:\n",
    "        print(\"It is not a leap year\")\n",
    "new = list(map(func,num))"
   ]
  },
  {
   "cell_type": "markdown",
   "id": "faf1c36a",
   "metadata": {},
   "source": [
    "# Filter function"
   ]
  },
  {
   "cell_type": "code",
   "execution_count": 16,
   "id": "29f41d1e",
   "metadata": {},
   "outputs": [],
   "source": [
    "num1= [2021,2022,2023,2024,2025]\n",
    "def fun(year):\n",
    "    if (year%4==0) and (year%100 != 0) or (year%400==0):\n",
    "        return \"Leap year\"\n",
    "    else:\n",
    "        return \"Not a leap year\"\n",
    "new= list(map(fun,num1))"
   ]
  },
  {
   "cell_type": "code",
   "execution_count": 17,
   "id": "7895a16f",
   "metadata": {},
   "outputs": [
    {
     "data": {
      "text/plain": [
       "['Not a leap year',\n",
       " 'Not a leap year',\n",
       " 'Not a leap year',\n",
       " 'Leap year',\n",
       " 'Not a leap year']"
      ]
     },
     "execution_count": 17,
     "metadata": {},
     "output_type": "execute_result"
    }
   ],
   "source": [
    "new"
   ]
  },
  {
   "cell_type": "markdown",
   "id": "e3acfea0",
   "metadata": {},
   "source": [
    " # Task 2:  Grade Calculator\n",
    "\n",
    "Write a program that takes a student's score as input (out of 100) and determines their grade based on the following conditions: If the score is 90 or above, the grade is 'A'. If the score is between 80 and 89, the grade is 'B'. If the score is between 70 and 79, the grade is 'C'. If the score is between 60 and 69, the grade is 'D'. If the score is below 60, the grade is 'F'. Display the grade corresponding to the entered score."
   ]
  },
  {
   "cell_type": "code",
   "execution_count": 18,
   "id": "77fd3738",
   "metadata": {},
   "outputs": [
    {
     "name": "stdout",
     "output_type": "stream",
     "text": [
      "Enter the marks obtained :: 85\n",
      "B Grade\n"
     ]
    }
   ],
   "source": [
    "def grade(score):\n",
    "    \n",
    "    if (score >= 90) and (score <= 100):\n",
    "        print(\"A Grade \")\n",
    "    elif (score >= 80) and (score < 90):\n",
    "        print(\"B Grade\")\n",
    "    elif(score >= 70) and (score < 80):\n",
    "        print(\"C Grade\")\n",
    "    elif(score >= 60) and (score < 70):\n",
    "        print(\"D Grade\")\n",
    "    elif(score < 0) and (score > 100):\n",
    "        print(\"Invalid , Enter the marks between 0-100\")\n",
    "    else:\n",
    "        print(\"Fail\")\n",
    "num = int(input(\"Enter the marks obtained :: \"))\n",
    "grade(num)"
   ]
  },
  {
   "cell_type": "markdown",
   "id": "0501f7c1",
   "metadata": {},
   "source": [
    "# Task 3: \n",
    "Calculator Write a program that takes two numbers as input and performs a mathematical operation (+, -, *, /) based on the user's choice. Use a conditional statement to determine the operation to be performed. Display the result of the calculation."
   ]
  },
  {
   "cell_type": "code",
   "execution_count": 1,
   "id": "4233f06c",
   "metadata": {},
   "outputs": [
    {
     "name": "stdout",
     "output_type": "stream",
     "text": [
      "enter num1 : 10\n",
      "enter num2 : 8\n",
      "select operations from 1.Addition\n",
      "                                2.Subtraction\n",
      "                                3.Multiplication\n",
      "                                4.Division\n",
      "Enter operation type :: Addition\n",
      "Addition :  18\n"
     ]
    }
   ],
   "source": [
    "num1 = int(input(\"enter num1 : \"))\n",
    "num2 = int(input(\"enter num2 : \"))\n",
    "\n",
    "print(\"\"\"select operations from 1.Addition\n",
    "                                2.Subtraction\n",
    "                                3.Multiplication\n",
    "                                4.Division\"\"\")\n",
    "\n",
    "operation = input(\"Enter operation type :: \")\n",
    "\n",
    "if (operation == 'Addition'):\n",
    "    print(\"Addition : \",num1+num2)\n",
    "elif (operation == 'Subtraction'):\n",
    "    print(\"Subtraction : \",num1-num2)\n",
    "elif (operation == 'Multiplication')  :\n",
    "    print(\"Multiplication : \",num1*num2)\n",
    "elif (operation == 'Division') :\n",
    "    print(\"Division : \",num/num2)\n",
    "else:\n",
    "    print(\"it is not valid\")"
   ]
  },
  {
   "cell_type": "markdown",
   "id": "724541e9",
   "metadata": {},
   "source": [
    "# Task 4: \n",
    "Reverse String Write a Python function to reverse a string."
   ]
  },
  {
   "cell_type": "code",
   "execution_count": 2,
   "id": "22156684",
   "metadata": {},
   "outputs": [
    {
     "name": "stdout",
     "output_type": "stream",
     "text": [
      "enter a string :: Akshitha\n"
     ]
    },
    {
     "data": {
      "text/plain": [
       "'ahtihskA'"
      ]
     },
     "execution_count": 2,
     "metadata": {},
     "output_type": "execute_result"
    }
   ],
   "source": [
    "str1 = input(\"enter a string :: \")\n",
    "def reverse(str1):\n",
    "    return str1[::-1]\n",
    "reverse(str1)"
   ]
  },
  {
   "cell_type": "code",
   "execution_count": 3,
   "id": "719d8255",
   "metadata": {},
   "outputs": [],
   "source": [
    "# Lambda function"
   ]
  },
  {
   "cell_type": "code",
   "execution_count": 6,
   "id": "38cc8dbd",
   "metadata": {},
   "outputs": [
    {
     "data": {
      "text/plain": [
       "'ecneicsataD'"
      ]
     },
     "execution_count": 6,
     "metadata": {},
     "output_type": "execute_result"
    }
   ],
   "source": [
    "a = lambda str1 : str1[::-1]\n",
    "reverse(\"Datascience\")"
   ]
  },
  {
   "cell_type": "code",
   "execution_count": 7,
   "id": "e5fe76d4",
   "metadata": {},
   "outputs": [],
   "source": [
    "# Map function"
   ]
  },
  {
   "cell_type": "code",
   "execution_count": 8,
   "id": "a63e0c66",
   "metadata": {},
   "outputs": [
    {
     "data": {
      "text/plain": [
       "['ikkA', 'tariV', 'varuoS', 'ihsiR']"
      ]
     },
     "execution_count": 8,
     "metadata": {},
     "output_type": "execute_result"
    }
   ],
   "source": [
    "string = [\"Akki\",\"Virat\",\"Sourav\",\"Rishi\"]\n",
    "def reverse(n):\n",
    "    return n[::-1]\n",
    "list1 = list(map(reverse,string))\n",
    "list1"
   ]
  },
  {
   "cell_type": "markdown",
   "id": "03743c79",
   "metadata": {},
   "source": [
    "# Task 5: \n",
    "Palindrome Write a Python function that checks whether a passed string is a palindrome or not."
   ]
  },
  {
   "cell_type": "code",
   "execution_count": 1,
   "id": "4e91d830",
   "metadata": {},
   "outputs": [
    {
     "name": "stdout",
     "output_type": "stream",
     "text": [
      "enter a string :: madam\n"
     ]
    },
    {
     "data": {
      "text/plain": [
       "'It is a palindrome'"
      ]
     },
     "execution_count": 1,
     "metadata": {},
     "output_type": "execute_result"
    }
   ],
   "source": [
    "def palindrome(n):\n",
    "    if (n==n[-1::-1]):\n",
    "        return \"It is a palindrome\"\n",
    "    else:\n",
    "        return \"It is not a palindrome\"\n",
    "n = input(\"enter a string :: \")\n",
    "palindrome(n)"
   ]
  },
  {
   "cell_type": "markdown",
   "id": "50599ccb",
   "metadata": {},
   "source": [
    "# Task 6: \n",
    "Counting Write a Python function that accepts a string and counts the number of upper and lower case letters."
   ]
  },
  {
   "cell_type": "code",
   "execution_count": 4,
   "id": "bd8753e6",
   "metadata": {},
   "outputs": [
    {
     "name": "stdout",
     "output_type": "stream",
     "text": [
      "Enter a string : AkshITha\n",
      "Number of upper case letters are ::  3\n",
      "Number of lower case letters are ::  5\n"
     ]
    }
   ],
   "source": [
    "def func(string):\n",
    "    Upper = ['A','B','C','D','E','F','G','H','I','J','K','L','M','N','O','P','Q','R','S','T','U','V','W','X','Y','Z']\n",
    "    LOWER = ['a','b','c','d','e','f','g','h','i','j','k','l','m','n','o','p','q','r','s','t','u','v','w','x','y','z']\n",
    "    count_Upper = []\n",
    "    count_Lower = []\n",
    "    \n",
    "    for i in string:\n",
    "        if i in Upper:\n",
    "            count_Upper.append(i)\n",
    "        else:\n",
    "            count_Lower.append(i)\n",
    "            \n",
    "    print(f\"Number of upper case letters are :: \",len(count_Upper))\n",
    "    print(f\"Number of lower case letters are :: \",len(count_Lower))\n",
    "count = input(\"Enter a string : \")\n",
    "func(count)"
   ]
  },
  {
   "cell_type": "code",
   "execution_count": null,
   "id": "24d50378",
   "metadata": {},
   "outputs": [],
   "source": []
  }
 ],
 "metadata": {
  "kernelspec": {
   "display_name": "Python 3 (ipykernel)",
   "language": "python",
   "name": "python3"
  },
  "language_info": {
   "codemirror_mode": {
    "name": "ipython",
    "version": 3
   },
   "file_extension": ".py",
   "mimetype": "text/x-python",
   "name": "python",
   "nbconvert_exporter": "python",
   "pygments_lexer": "ipython3",
   "version": "3.11.4"
  }
 },
 "nbformat": 4,
 "nbformat_minor": 5
}
