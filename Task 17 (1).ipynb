{
 "cells": [
  {
   "cell_type": "markdown",
   "id": "8dc8a778",
   "metadata": {},
   "source": [
    "\n",
    "`use context manager`\n",
    "\n",
    "**Create a file**\n",
    "Write a Python program that creates a text file named \"data.txt\" and add data about python programming (should contain at least 5 lines)\n",
    "\n",
    "**Read and Display File Contents**\n",
    "Write a Python program that reads a text file named \"data.txt\" and displays its contents on the screen.\n",
    "\n",
    "**Count Words in a File**\n",
    "Write a Python program that reads a text file named \"data.txt\" and counts the total number of words in the file. Display the word count on the screen.\n",
    "\n",
    "**Search and Replace**\n",
    "Create a Python program that reads a text file named \"data.txt\" and asks the user to enter a word to search for. If the word is found in the file, replace all occurrences of the word with a new word provided by the user.\n",
    "\n",
    "**Append to a File**\n",
    "Write a Python program that prompts the user to enter a sentence. Append this sentence to an existing file named \"notes.txt\". Make sure the newly added sentence starts on a new line.\n",
    "\n",
    "\n"
   ]
  },
  {
   "cell_type": "markdown",
   "id": "517f173f",
   "metadata": {},
   "source": [
    "Create a file Write a Python program that creates a text file named \"data.txt\" and add data about python programming (should contain at least 5 lines)"
   ]
  },
  {
   "cell_type": "code",
   "execution_count": 1,
   "id": "67bd1cae",
   "metadata": {},
   "outputs": [],
   "source": [
    "with open(\"data.txt\",'w+') as n:\n",
    "    n.write(\"Python is a high-level, general-purpose programming language. Its design philosophy emphasizes code readability with the use of significant indentation. Python is dynamically typed and garbage-collected. It supports multiple programming paradigms, including structured, object-oriented and functional programming.\")"
   ]
  },
  {
   "cell_type": "markdown",
   "id": "93af25c9",
   "metadata": {},
   "source": [
    "Read and Display File Contents Write a Python program that reads a text file named \"data.txt\" and displays its contents on the screen."
   ]
  },
  {
   "cell_type": "code",
   "execution_count": 2,
   "id": "fd475c69",
   "metadata": {},
   "outputs": [
    {
     "name": "stdout",
     "output_type": "stream",
     "text": [
      "Python is a high-level, general-purpose programming language. Its design philosophy emphasizes code readability with the use of significant indentation. Python is dynamically typed and garbage-collected. It supports multiple programming paradigms, including structured, object-oriented and functional programming.\n"
     ]
    }
   ],
   "source": [
    "with open(\"data.txt\",'r') as f1:\n",
    "    print(f1.read())"
   ]
  },
  {
   "cell_type": "markdown",
   "id": "e78a45eb",
   "metadata": {},
   "source": [
    "Count Words in a File Write a Python program that reads a text file named \"data.txt\" and counts the total number of words in the file. Display the word count on the screen."
   ]
  },
  {
   "cell_type": "code",
   "execution_count": 3,
   "id": "0f09381a",
   "metadata": {},
   "outputs": [],
   "source": [
    "with open(\"data.txt\",'r') as f2:\n",
    "    f3 = f2.read()\n",
    "    f4 = f3.split()"
   ]
  },
  {
   "cell_type": "code",
   "execution_count": 9,
   "id": "604a79b9",
   "metadata": {},
   "outputs": [
    {
     "name": "stdout",
     "output_type": "stream",
     "text": [
      "['Python', 'is', 'a', 'high-level,', 'general-purpose', 'programming', 'language.', 'Its', 'design', 'philosophy', 'emphasizes', 'code', 'readability', 'with', 'the', 'use', 'of', 'significant', 'indentation.', 'Python', 'is', 'dynamically', 'typed', 'and', 'garbage-collected.', 'It', 'supports', 'multiple', 'programming', 'paradigms,', 'including', 'structured,', 'object-oriented', 'and', 'functional', 'programming.']\n"
     ]
    }
   ],
   "source": [
    "print(f4)\n"
   ]
  },
  {
   "cell_type": "code",
   "execution_count": 10,
   "id": "ae1d6b90",
   "metadata": {},
   "outputs": [
    {
     "data": {
      "text/plain": [
       "36"
      ]
     },
     "execution_count": 10,
     "metadata": {},
     "output_type": "execute_result"
    }
   ],
   "source": [
    "len(f4)"
   ]
  },
  {
   "cell_type": "markdown",
   "id": "ac115092",
   "metadata": {},
   "source": [
    "Search and Replace Create a Python program that reads a text file named \"data.txt\" and asks the user to enter a word to search for. If the word is found in the file, replace all occurrences of the word with a new word provided by the user."
   ]
  },
  {
   "cell_type": "code",
   "execution_count": 18,
   "id": "8cfcb994",
   "metadata": {},
   "outputs": [
    {
     "name": "stdout",
     "output_type": "stream",
     "text": [
      "Enter the word :: Python\n",
      "Enter the new word to replace :: PYTHON\n",
      "PYTHON is a high-level, general-purpose programming language. Its design philosophy emphasizes code readability with the use of significant indentation. PYTHON is dynamically typed and garbage-collected. It supports multiple programming paradigms, including structured, object-oriented and functional programming.\n"
     ]
    }
   ],
   "source": [
    "with open(\"data.txt\",'r') as f5:\n",
    "    f6 =f5.read()\n",
    "    word = input(\"Enter the word :: \")\n",
    "    new_word = input(\"Enter the new word to replace :: \")\n",
    "    if word in f6:\n",
    "        print(f6.replace(word,new_word))"
   ]
  },
  {
   "cell_type": "markdown",
   "id": "e4771052",
   "metadata": {},
   "source": [
    "Append to a File Write a Python program that prompts the user to enter a sentence. Append this sentence to an existing file named \"notes.txt\". Make sure the newly added sentence starts on a new line."
   ]
  },
  {
   "cell_type": "code",
   "execution_count": 1,
   "id": "9ba0d825",
   "metadata": {},
   "outputs": [
    {
     "name": "stdout",
     "output_type": "stream",
     "text": [
      "enter your sentence:  Hello world\n"
     ]
    }
   ],
   "source": [
    "with open(\"notes.txt\",\"a+\") as file1:\n",
    "    file1.write(\"python program is easy to learn for beginner\")\n",
    "    new=input(\"enter your sentence:  \")\n",
    "    file1.write(f\"\\n{new}\")"
   ]
  },
  {
   "cell_type": "code",
   "execution_count": 4,
   "id": "a4f455ea",
   "metadata": {},
   "outputs": [
    {
     "name": "stdout",
     "output_type": "stream",
     "text": [
      "python program is easy to learn for beginner\n",
      "Hello world\n"
     ]
    }
   ],
   "source": [
    "file1 = open(\"notes.txt\")\n",
    "print(file1.read())"
   ]
  },
  {
   "cell_type": "code",
   "execution_count": null,
   "id": "e3e1ce8f",
   "metadata": {},
   "outputs": [],
   "source": []
  }
 ],
 "metadata": {
  "kernelspec": {
   "display_name": "Python 3 (ipykernel)",
   "language": "python",
   "name": "python3"
  },
  "language_info": {
   "codemirror_mode": {
    "name": "ipython",
    "version": 3
   },
   "file_extension": ".py",
   "mimetype": "text/x-python",
   "name": "python",
   "nbconvert_exporter": "python",
   "pygments_lexer": "ipython3",
   "version": "3.11.4"
  }
 },
 "nbformat": 4,
 "nbformat_minor": 5
}
