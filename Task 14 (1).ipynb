{
 "cells": [
  {
   "cell_type": "markdown",
   "id": "dd9881f5",
   "metadata": {},
   "source": [
    "\n",
    "1. \n",
    "\n",
    "   - Create a lambda function that takes two arguments and returns their sum.\n",
    "   - Create another lambda function that takes a single argument and returns its square.\n",
    "   - Use the `lambda` functions to calculate the sum and square of various numbers and print the results.\n",
    "\n",
    "2. \n",
    "   - Define a list of integers.\n",
    "   - Use the `filter` function to create a new list that contains only the even numbers from the original list.\n",
    "   - Use the `filter` function again to create a new list that contains only numbers greater than 10 from the original list.\n",
    "   - Print both filtered lists.\n",
    "\n",
    "3. \n",
    "   - Define a list of strings where each string represents a number (e.g., `[\"1\", \"2\", \"3\"]`).\n",
    "   - Use the `map` function to convert each string to an integer and store the result in a new list.\n",
    "   - Use the `map` function again to square each integer in the new list and store the result in another new list.\n",
    "   - Print both new lists.\n",
    "\n",
    "4. \n",
    "   - Create a list of dictionaries, where each dictionary represents a person with keys \"name\" and \"age\". Example: ` [{\"name\": \"Alice\", \"age\": 30}, {\"name\": \"Bob\", \"age\": 25}, ...]`\n",
    "   - Use the `filter` function to create a new list that contains only the people who are older than 25.\n",
    "   - Use the `map` function to create a new list that contains the names of the filtered people.\n",
    "   - Print the list of names.\n",
    "\n",
    "5. \n",
    "   - Create a program that reads a list of numbers from the user (you can use the `input` function for this).\n",
    "   - Use `map` and `filter` functions to perform the following operations:\n",
    "     - Square each number.\n",
    "     - Filter out numbers that are not divisible by 3.\n",
    "   - Print the result.\n"
   ]
  },
  {
   "cell_type": "code",
   "execution_count": 56,
   "id": "8bb5e877",
   "metadata": {},
   "outputs": [],
   "source": [
    "val = (10,18,0.5,1.8,\"virat\",\"sourav\",2.5,30)"
   ]
  },
  {
   "cell_type": "code",
   "execution_count": 58,
   "id": "a06c4c82",
   "metadata": {},
   "outputs": [
    {
     "data": {
      "text/plain": [
       "[0.5, 1.8, 2.5]"
      ]
     },
     "execution_count": 58,
     "metadata": {},
     "output_type": "execute_result"
    }
   ],
   "source": [
    "def var(a):\n",
    "    if type(a) == float:\n",
    "        return val\n",
    "list(filter(var,val))"
   ]
  },
  {
   "cell_type": "code",
   "execution_count": 59,
   "id": "f53925d4",
   "metadata": {},
   "outputs": [
    {
     "data": {
      "text/plain": [
       "['virat', 'sourav']"
      ]
     },
     "execution_count": 59,
     "metadata": {},
     "output_type": "execute_result"
    }
   ],
   "source": [
    "def var(a):\n",
    "    if type(a) == str:\n",
    "        return val\n",
    "list(filter(var,val))"
   ]
  },
  {
   "cell_type": "code",
   "execution_count": 63,
   "id": "071ea411",
   "metadata": {},
   "outputs": [
    {
     "data": {
      "text/plain": [
       "['Integer',\n",
       " 'Integer',\n",
       " 'Float',\n",
       " 'Float',\n",
       " 'String',\n",
       " 'String',\n",
       " 'Float',\n",
       " 'Integer']"
      ]
     },
     "execution_count": 63,
     "metadata": {},
     "output_type": "execute_result"
    }
   ],
   "source": [
    "def var(a):\n",
    "    if type(a) == int:\n",
    "        return \"Integer\"\n",
    "    elif type(a) == str :\n",
    "        return \"String\"\n",
    "    else:\n",
    "        return \"Float\"\n",
    "\n",
    "list(map(var,val))"
   ]
  },
  {
   "cell_type": "markdown",
   "id": "8fa538d9",
   "metadata": {},
   "source": [
    "# 1"
   ]
  },
  {
   "cell_type": "markdown",
   "id": "903799e7",
   "metadata": {},
   "source": [
    "Create a lambda function that takes two arguments and returns their sum.\n",
    "\n",
    "Create another lambda function that takes a single argument and returns its square.\n",
    "\n",
    "Use the lambda functions to calculate the sum and square of various numbers and print the results."
   ]
  },
  {
   "cell_type": "code",
   "execution_count": 2,
   "id": "81690755",
   "metadata": {},
   "outputs": [],
   "source": [
    " c = lambda a,b : a+b"
   ]
  },
  {
   "cell_type": "code",
   "execution_count": 3,
   "id": "e7a9652f",
   "metadata": {},
   "outputs": [
    {
     "data": {
      "text/plain": [
       "18"
      ]
     },
     "execution_count": 3,
     "metadata": {},
     "output_type": "execute_result"
    }
   ],
   "source": [
    "c(10,8)"
   ]
  },
  {
   "cell_type": "code",
   "execution_count": 6,
   "id": "77b02737",
   "metadata": {},
   "outputs": [],
   "source": [
    "a = lambda n : n ** 2"
   ]
  },
  {
   "cell_type": "code",
   "execution_count": 7,
   "id": "7b761605",
   "metadata": {},
   "outputs": [
    {
     "data": {
      "text/plain": [
       "64"
      ]
     },
     "execution_count": 7,
     "metadata": {},
     "output_type": "execute_result"
    }
   ],
   "source": [
    "a(8)"
   ]
  },
  {
   "cell_type": "code",
   "execution_count": 12,
   "id": "03fb6bcf",
   "metadata": {},
   "outputs": [
    {
     "name": "stdout",
     "output_type": "stream",
     "text": [
      "18\n",
      "64\n"
     ]
    }
   ],
   "source": [
    "a = lambda *n : sum(n)\n",
    "b = lambda n : n ** 2\n",
    "print(a(10,8))\n",
    "print(b(8))"
   ]
  },
  {
   "cell_type": "markdown",
   "id": "655f38f1",
   "metadata": {},
   "source": [
    "# 2"
   ]
  },
  {
   "cell_type": "markdown",
   "id": "6f2be3f3",
   "metadata": {},
   "source": [
    "Define a list of integers.\n",
    "\n",
    "Use the filter function to create a new list that contains only the even numbers from the original list.\n",
    "\n",
    "Use the filter function again to create a new list that contains only numbers greater than 10 from the original list.\n",
    "Print both filtered lists.\n"
   ]
  },
  {
   "cell_type": "code",
   "execution_count": 26,
   "id": "cd026857",
   "metadata": {},
   "outputs": [],
   "source": [
    "list1 = [18,21,57,77,6,2,9,20,]"
   ]
  },
  {
   "cell_type": "code",
   "execution_count": 27,
   "id": "1643ed06",
   "metadata": {},
   "outputs": [],
   "source": [
    "def even(n):\n",
    "    if (n % 2 == 0):\n",
    "        return n\n",
    "def func(n):\n",
    "    if n > 10:\n",
    "        return n\n"
   ]
  },
  {
   "cell_type": "code",
   "execution_count": 28,
   "id": "e67abfd8",
   "metadata": {},
   "outputs": [],
   "source": [
    "a = list(filter(even,list1))\n",
    "b = list(filter(func,list1))"
   ]
  },
  {
   "cell_type": "code",
   "execution_count": 29,
   "id": "f0069dc8",
   "metadata": {},
   "outputs": [
    {
     "data": {
      "text/plain": [
       "[18, 6, 2, 20]"
      ]
     },
     "execution_count": 29,
     "metadata": {},
     "output_type": "execute_result"
    }
   ],
   "source": [
    "a"
   ]
  },
  {
   "cell_type": "code",
   "execution_count": 25,
   "id": "21b45fe2",
   "metadata": {},
   "outputs": [
    {
     "data": {
      "text/plain": [
       "[18, 21, 57, 77, 20, 12]"
      ]
     },
     "execution_count": 25,
     "metadata": {},
     "output_type": "execute_result"
    }
   ],
   "source": [
    "b"
   ]
  },
  {
   "cell_type": "markdown",
   "id": "7fca4b1f",
   "metadata": {},
   "source": [
    "# 3"
   ]
  },
  {
   "cell_type": "markdown",
   "id": "dfb78a36",
   "metadata": {},
   "source": [
    "Define a list of strings where each string represents a number (e.g., [\"1\", \"2\", \"3\"]).\n",
    "\n",
    "Use the map function to convert each string to an integer and store the result in a new list.\n",
    "\n",
    "Use the map function again to square each integer in the new list and store the result in another new list.\n",
    "Print both new lists."
   ]
  },
  {
   "cell_type": "code",
   "execution_count": 38,
   "id": "8a7f7e9c",
   "metadata": {},
   "outputs": [],
   "source": [
    "def string(n):\n",
    "    if a[0] == int(n):\n",
    "        return n\n",
    "a = [\"1\",\"2\",\"3\",\"4\",\"5\",\"6\",\"7\",\"8\",\"9\"]\n",
    "new_list = list(map(int,a))"
   ]
  },
  {
   "cell_type": "code",
   "execution_count": 66,
   "id": "4a01da68",
   "metadata": {},
   "outputs": [
    {
     "data": {
      "text/plain": [
       "[1, 2, 3, 4, 5, 6, 7, 8, 9]"
      ]
     },
     "execution_count": 66,
     "metadata": {},
     "output_type": "execute_result"
    }
   ],
   "source": [
    "new_list"
   ]
  },
  {
   "cell_type": "code",
   "execution_count": 67,
   "id": "1fb555f0",
   "metadata": {},
   "outputs": [],
   "source": [
    "def square(n):\n",
    "    return n**2\n",
    "square_list = list(map(square,new_list))"
   ]
  },
  {
   "cell_type": "code",
   "execution_count": 68,
   "id": "8058d098",
   "metadata": {},
   "outputs": [
    {
     "data": {
      "text/plain": [
       "[1, 4, 9, 16, 25, 36, 49, 64, 81]"
      ]
     },
     "execution_count": 68,
     "metadata": {},
     "output_type": "execute_result"
    }
   ],
   "source": [
    "square_list"
   ]
  },
  {
   "cell_type": "code",
   "execution_count": 69,
   "id": "be1ecf13",
   "metadata": {},
   "outputs": [
    {
     "data": {
      "text/plain": [
       "[1, 2, 3, 4, 5, 6, 7, 8, 9, 1, 4, 9, 16, 25, 36, 49, 64, 81]"
      ]
     },
     "execution_count": 69,
     "metadata": {},
     "output_type": "execute_result"
    }
   ],
   "source": [
    "new_list + square_list"
   ]
  },
  {
   "cell_type": "markdown",
   "id": "1978f335",
   "metadata": {},
   "source": [
    "# 4"
   ]
  },
  {
   "cell_type": "markdown",
   "id": "2cde57b2",
   "metadata": {},
   "source": [
    "Create a list of dictionaries, where each dictionary represents a person with keys \"name\" and \"age\". Example:  [{\"name\": \"Alice\", \"age\": 30}, {\"name\": \"Bob\", \"age\": 25}, ...]\n",
    "\n",
    "Use the filter function to create a new list that contains only the people who are older than 25.\n",
    "\n",
    "Use the map function to create a new list that contains the names of the filtered people.\n",
    "Print the list of names."
   ]
  },
  {
   "cell_type": "code",
   "execution_count": 52,
   "id": "517f260c",
   "metadata": {},
   "outputs": [],
   "source": [
    "def name(n):\n",
    "    if n[\"age\"] > 25:\n",
    "        return n\n",
    "list1 = [{\"name\" : \"virat\" , \"age\" : 34},{\"name\" : \"sourav\" , \"age\" : 26}, {\"name\" : \"vrushab\" , \"age\" : 28}]\n",
    "a = list(filter(name,list1))"
   ]
  },
  {
   "cell_type": "code",
   "execution_count": 53,
   "id": "b4ec0b00",
   "metadata": {},
   "outputs": [
    {
     "data": {
      "text/plain": [
       "[{'name': 'virat', 'age': 34},\n",
       " {'name': 'sourav', 'age': 26},\n",
       " {'name': 'vrushab', 'age': 28}]"
      ]
     },
     "execution_count": 53,
     "metadata": {},
     "output_type": "execute_result"
    }
   ],
   "source": [
    "a"
   ]
  },
  {
   "cell_type": "code",
   "execution_count": 55,
   "id": "5e031a8d",
   "metadata": {},
   "outputs": [
    {
     "data": {
      "text/plain": [
       "[{'name': 'virat'}, {'name': 'sourav'}, {'name': 'vrushab'}]"
      ]
     },
     "execution_count": 55,
     "metadata": {},
     "output_type": "execute_result"
    }
   ],
   "source": [
    "def name1(n):\n",
    "    return {\"name\" : n[\"name\"]}\n",
    "list(map(name1,a))"
   ]
  },
  {
   "cell_type": "markdown",
   "id": "9a7efed9",
   "metadata": {},
   "source": [
    "# 5"
   ]
  },
  {
   "cell_type": "markdown",
   "id": "846de9b0",
   "metadata": {},
   "source": [
    "Create a program that reads a list of numbers from the user (you can use the input function for this).\n",
    "\n",
    "Use map and filter functions to perform the following operations:\n",
    "\n",
    "Square each number.\n",
    "\n",
    "Filter out numbers that are not divisible by 3.\n",
    "\n",
    "Print the result."
   ]
  },
  {
   "cell_type": "code",
   "execution_count": 6,
   "id": "047e0c96",
   "metadata": {},
   "outputs": [],
   "source": [
    "def square(n):\n",
    "    return n ** 2\n"
   ]
  },
  {
   "cell_type": "code",
   "execution_count": 5,
   "id": "ddf1bcee",
   "metadata": {},
   "outputs": [
    {
     "name": "stdout",
     "output_type": "stream",
     "text": [
      "enter the integers you want :: 4\n",
      "enter the number :: 2\n",
      "enter the number :: 4\n",
      "enter the number :: 6\n",
      "enter the number :: 8\n",
      "[2, 4, 6, 8]\n"
     ]
    }
   ],
   "source": [
    "list1 = []\n",
    "num = int(input(\"enter the integers you want :: \"))\n",
    "for i in range (1,num+1):\n",
    "    a = int(input(\"enter the number :: \"))\n",
    "    list1.append(a)\n",
    "print(list1)"
   ]
  },
  {
   "cell_type": "code",
   "execution_count": 7,
   "id": "5829708a",
   "metadata": {},
   "outputs": [
    {
     "data": {
      "text/plain": [
       "[4, 16, 36, 64]"
      ]
     },
     "execution_count": 7,
     "metadata": {},
     "output_type": "execute_result"
    }
   ],
   "source": [
    "list(map(square,list1))"
   ]
  },
  {
   "cell_type": "code",
   "execution_count": 10,
   "id": "619169c0",
   "metadata": {},
   "outputs": [],
   "source": [
    "def div(n):\n",
    "    if (n % 3 != 0):\n",
    "        print (n)"
   ]
  },
  {
   "cell_type": "code",
   "execution_count": 11,
   "id": "7dd12f43",
   "metadata": {},
   "outputs": [
    {
     "name": "stdout",
     "output_type": "stream",
     "text": [
      "2\n",
      "4\n",
      "8\n"
     ]
    },
    {
     "data": {
      "text/plain": [
       "[]"
      ]
     },
     "execution_count": 11,
     "metadata": {},
     "output_type": "execute_result"
    }
   ],
   "source": [
    "list(filter(div,list1))"
   ]
  },
  {
   "cell_type": "code",
   "execution_count": null,
   "id": "4b74b2da",
   "metadata": {},
   "outputs": [],
   "source": []
  }
 ],
 "metadata": {
  "kernelspec": {
   "display_name": "Python 3 (ipykernel)",
   "language": "python",
   "name": "python3"
  },
  "language_info": {
   "codemirror_mode": {
    "name": "ipython",
    "version": 3
   },
   "file_extension": ".py",
   "mimetype": "text/x-python",
   "name": "python",
   "nbconvert_exporter": "python",
   "pygments_lexer": "ipython3",
   "version": "3.11.4"
  }
 },
 "nbformat": 4,
 "nbformat_minor": 5
}
