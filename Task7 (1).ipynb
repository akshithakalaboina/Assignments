{
 "cells": [
  {
   "cell_type": "markdown",
   "id": "89e6e1f5",
   "metadata": {},
   "source": [
    "\n",
    "**Task 1: Dictionary Basics**\n",
    "Create a Python program that defines a dictionary to store information about your `favorite book`. Include the title, author, publication year, and genre as key-value pairs. Print out the dictionary.and do atleast 5 dictionary methods on it.\n",
    "\n",
    "**Task 2: Dictionary Lookup**\n",
    "Write a Python program that simulates a simple dictionary for translating `English words to Spanish`. Define a dictionary containing a few English words as `keys` and their corresponding Spanish translations as `values`. Allow `users to enter` an English word, and then display its Spanish translation `if it exists` in the dictionary.(use google for English to Spanish translator)\n",
    "\n",
    "**Task 3: Student Grades**\n",
    "Create a Python program that stores the `grades of five students` in a dictionary. Allow users to input the names of the students and their respective grades. Calculate and display the `average grade` of the students.\n",
    "\n",
    "**Task 4: Contact List**\n",
    "Build a basic contact list using a dictionary. Initially, the dictionary can be `empty`. Allow users to `add new contacts` with `names and phone numbers`. Users should also be able to search for contacts by name and display their phone numbers(use in operator).\n",
    "\n",
    "**Task 5: Dictionary Iteration**\n",
    "Write a Python program that defines a dictionary containing the names of `fruits as keys` and their corresponding `colors as values` (e.g., 'apple': 'red').Do atleast 5 dictionary methods on it.\n"
   ]
  },
  {
   "cell_type": "markdown",
   "id": "f2d2529e",
   "metadata": {},
   "source": [
    "# Task 1:\n",
    "    \n",
    "Dictionary Basics Create a Python program that defines a dictionary to store information about your favorite book. Include the title, author, publication year, and genre as key-value pairs. Print out the dictionary.and do atleast 5 dictionary methods on it."
   ]
  },
  {
   "cell_type": "code",
   "execution_count": 7,
   "id": "a634bc3d",
   "metadata": {},
   "outputs": [],
   "source": [
    "books = {\"Title\":\"The Invisible Man\",\"Author\":\"H.G.Wells\",\"Publication_year\":\"1897\",\"Genre\":\"Science-Fiction\"}"
   ]
  },
  {
   "cell_type": "code",
   "execution_count": 8,
   "id": "51e4d93f",
   "metadata": {},
   "outputs": [
    {
     "data": {
      "text/plain": [
       "{'Title': 'The Invisible Man',\n",
       " 'Author': 'H.G.Wells',\n",
       " 'Publication_year': '1897',\n",
       " 'Genre': 'Science-Fiction'}"
      ]
     },
     "execution_count": 8,
     "metadata": {},
     "output_type": "execute_result"
    }
   ],
   "source": [
    "books"
   ]
  },
  {
   "cell_type": "code",
   "execution_count": 9,
   "id": "87824f5e",
   "metadata": {},
   "outputs": [
    {
     "data": {
      "text/plain": [
       "'H.G.Wells'"
      ]
     },
     "execution_count": 9,
     "metadata": {},
     "output_type": "execute_result"
    }
   ],
   "source": [
    "book.get(\"Author\")"
   ]
  },
  {
   "cell_type": "code",
   "execution_count": 10,
   "id": "4890a0ea",
   "metadata": {},
   "outputs": [
    {
     "data": {
      "text/plain": [
       "dict_keys(['Title', 'Author', 'Publication_year', 'Genre'])"
      ]
     },
     "execution_count": 10,
     "metadata": {},
     "output_type": "execute_result"
    }
   ],
   "source": [
    "book.keys()"
   ]
  },
  {
   "cell_type": "code",
   "execution_count": 11,
   "id": "704fe26a",
   "metadata": {},
   "outputs": [
    {
     "data": {
      "text/plain": [
       "dict_items([('Title', 'The Invisible Man'), ('Author', 'H.G.Wells'), ('Publication_year', '1897'), ('Genre', 'Science-Fiction')])"
      ]
     },
     "execution_count": 11,
     "metadata": {},
     "output_type": "execute_result"
    }
   ],
   "source": [
    "book.items()"
   ]
  },
  {
   "cell_type": "code",
   "execution_count": 14,
   "id": "9c83f4b9",
   "metadata": {},
   "outputs": [
    {
     "data": {
      "text/plain": [
       "('Genre', 'Science-Fiction')"
      ]
     },
     "execution_count": 14,
     "metadata": {},
     "output_type": "execute_result"
    }
   ],
   "source": [
    "book.popitem()"
   ]
  },
  {
   "cell_type": "markdown",
   "id": "994c4493",
   "metadata": {},
   "source": [
    "# Task 2: \n",
    "\n",
    "Dictionary Lookup Write a Python program that simulates a simple dictionary for translating English words to Spanish. Define a dictionary containing a few English words as keys and their corresponding Spanish translations as values. Allow users to enter an English word, and then display its Spanish translation if it exists in the dictionary.(use google for English to Spanish translator)"
   ]
  },
  {
   "cell_type": "code",
   "execution_count": 26,
   "id": "d7e96d83",
   "metadata": {},
   "outputs": [],
   "source": [
    "eng_spanish = {\"hi\":\"hola\",\"this\":\"esta\",\"is\":\"es\",\"aachal\":\"móvil\"}"
   ]
  },
  {
   "cell_type": "code",
   "execution_count": 27,
   "id": "4e6aaf4d",
   "metadata": {},
   "outputs": [
    {
     "name": "stdout",
     "output_type": "stream",
     "text": [
      "enter english word:aachal\n"
     ]
    },
    {
     "data": {
      "text/plain": [
       "'móvil'"
      ]
     },
     "execution_count": 27,
     "metadata": {},
     "output_type": "execute_result"
    }
   ],
   "source": [
    "eng_spanish.pop(input(\"enter english word:\"))"
   ]
  },
  {
   "cell_type": "code",
   "execution_count": 28,
   "id": "404f5e7b",
   "metadata": {},
   "outputs": [
    {
     "data": {
      "text/plain": [
       "{'hi': 'hola', 'this': 'esta', 'is': 'es'}"
      ]
     },
     "execution_count": 28,
     "metadata": {},
     "output_type": "execute_result"
    }
   ],
   "source": [
    "eng_spanish"
   ]
  },
  {
   "cell_type": "markdown",
   "id": "5afbb7af",
   "metadata": {},
   "source": [
    "# Task 3:\n",
    "    \n",
    "Student Grades Create a Python program that stores the grades of five students in a dictionary. Allow users to input the names of the students and their respective grades. Calculate and display the average grade of the students."
   ]
  },
  {
   "cell_type": "code",
   "execution_count": 10,
   "id": "9c7daf5f",
   "metadata": {},
   "outputs": [
    {
     "name": "stdout",
     "output_type": "stream",
     "text": [
      "enter the name of the student1:virat\n",
      "enter the grade of student1:82\n",
      "enter the name of the student2:sourav\n",
      "enter the grade of student2:91\n",
      "enter the name of the student3:tanishka\n",
      "enter the grade of student3:57\n",
      "enter the name of the student4:rishi\n",
      "enter the grade of student4:85\n",
      "enter the name of the student5:abhi\n",
      "enter the grade of student5:67\n"
     ]
    }
   ],
   "source": [
    "Score = {}\n",
    "stud1 = input(\"enter the name of the student1:\")\n",
    "grade1 = int(input(\"enter the grade of student1:\"))\n",
    "\n",
    "stud2 = input(\"enter the name of the student2:\")\n",
    "grade2 = int(input(\"enter the grade of student2:\"))\n",
    "\n",
    "stud3 = input(\"enter the name of the student3:\")\n",
    "grade3 = int(input(\"enter the grade of student3:\"))\n",
    "\n",
    "stud4 = input(\"enter the name of the student4:\")\n",
    "grade4 = int(input(\"enter the grade of student4:\"))\n",
    "\n",
    "stud5 = input(\"enter the name of the student5:\")\n",
    "grade5 = int(input(\"enter the grade of student5:\"))"
   ]
  },
  {
   "cell_type": "code",
   "execution_count": 13,
   "id": "8f8427ad",
   "metadata": {},
   "outputs": [],
   "source": [
    "Score.update({stud1:grade1,stud2:grade2,stud3:grade3,stud4:grade4,stud5:grade5})"
   ]
  },
  {
   "cell_type": "code",
   "execution_count": 15,
   "id": "c99d9259",
   "metadata": {},
   "outputs": [
    {
     "data": {
      "text/plain": [
       "{'virat': 82, 'sourav': 91, 'tanishka': 57, 'rishi': 85, 'abhi': 67}"
      ]
     },
     "execution_count": 15,
     "metadata": {},
     "output_type": "execute_result"
    }
   ],
   "source": [
    "Score"
   ]
  },
  {
   "cell_type": "code",
   "execution_count": 21,
   "id": "6c5ab14a",
   "metadata": {},
   "outputs": [],
   "source": [
    "sum1 = sum(Score.values())\n",
    "total = len(Score.keys())"
   ]
  },
  {
   "cell_type": "code",
   "execution_count": 22,
   "id": "1612cc46",
   "metadata": {},
   "outputs": [],
   "source": [
    "avg = sum1/total"
   ]
  },
  {
   "cell_type": "code",
   "execution_count": 23,
   "id": "7ca4956f",
   "metadata": {},
   "outputs": [
    {
     "data": {
      "text/plain": [
       "76.4"
      ]
     },
     "execution_count": 23,
     "metadata": {},
     "output_type": "execute_result"
    }
   ],
   "source": [
    "avg"
   ]
  },
  {
   "cell_type": "markdown",
   "id": "76fd8bb5",
   "metadata": {},
   "source": [
    "# Task 4: \n",
    "    \n",
    "Contact List Build a basic contact list using a dictionary. Initially, the dictionary can be empty. Allow users to add new contacts with names and phone numbers. Users should also be able to search for contacts by name and display their phone numbers(use in operator).\n",
    "\n"
   ]
  },
  {
   "cell_type": "code",
   "execution_count": 24,
   "id": "1e74b28b",
   "metadata": {},
   "outputs": [
    {
     "name": "stdout",
     "output_type": "stream",
     "text": [
      "enter the name1:akki\n",
      "enter the contact1:48745\n",
      "enter the name2:sai\n",
      "enter the contact2:79965\n",
      "enter the name3:vishnu\n",
      "enter the contact3:188745\n"
     ]
    }
   ],
   "source": [
    "contact_list = {}\n",
    "name1 = input(\"enter the name1:\")\n",
    "contact1 = int(input(\"enter the contact1:\"))\n",
    "name2 = input(\"enter the name2:\")\n",
    "contact2 = int(input(\"enter the contact2:\"))\n",
    "name3 = input(\"enter the name3:\")\n",
    "contact3 = int(input(\"enter the contact3:\"))\n",
    "\n"
   ]
  },
  {
   "cell_type": "code",
   "execution_count": 25,
   "id": "a5332f00",
   "metadata": {},
   "outputs": [],
   "source": [
    "contact_list.update({name1:contact1,name2:contact2,name3:contact3})"
   ]
  },
  {
   "cell_type": "code",
   "execution_count": 26,
   "id": "02a018aa",
   "metadata": {},
   "outputs": [
    {
     "data": {
      "text/plain": [
       "{'akki': 48745, 'sai': 79965, 'vishnu': 188745}"
      ]
     },
     "execution_count": 26,
     "metadata": {},
     "output_type": "execute_result"
    }
   ],
   "source": [
    "contact_list"
   ]
  },
  {
   "cell_type": "code",
   "execution_count": 27,
   "id": "0d13f6c7",
   "metadata": {},
   "outputs": [
    {
     "name": "stdout",
     "output_type": "stream",
     "text": [
      "enter name:akki\n"
     ]
    },
    {
     "data": {
      "text/plain": [
       "48745"
      ]
     },
     "execution_count": 27,
     "metadata": {},
     "output_type": "execute_result"
    }
   ],
   "source": [
    "contact = input(\"enter name:\")\n",
    "contact_list[contact]"
   ]
  },
  {
   "cell_type": "markdown",
   "id": "0a0ece05",
   "metadata": {},
   "source": [
    "# Task 5: \n",
    "\n",
    "Dictionary Iteration Write a Python program that defines a dictionary containing the names of fruits as keys and their corresponding colors as values (e.g., 'apple': 'red').Do atleast 5 dictionary methods on it."
   ]
  },
  {
   "cell_type": "code",
   "execution_count": 29,
   "id": "882e0b86",
   "metadata": {},
   "outputs": [],
   "source": [
    "fruits = {\"apple\":\"red\",\"mango\":\"yellow\",\"lychee\":\"white\",\"kiwi\":\"green\"}"
   ]
  },
  {
   "cell_type": "code",
   "execution_count": 30,
   "id": "b9235d31",
   "metadata": {},
   "outputs": [
    {
     "data": {
      "text/plain": [
       "{'apple': 'red', 'mango': 'yellow', 'lychee': 'white', 'kiwi': 'green'}"
      ]
     },
     "execution_count": 30,
     "metadata": {},
     "output_type": "execute_result"
    }
   ],
   "source": [
    "fruits"
   ]
  },
  {
   "cell_type": "code",
   "execution_count": 31,
   "id": "42f3d8bf",
   "metadata": {},
   "outputs": [
    {
     "data": {
      "text/plain": [
       "dict"
      ]
     },
     "execution_count": 31,
     "metadata": {},
     "output_type": "execute_result"
    }
   ],
   "source": [
    "type(fruits)"
   ]
  },
  {
   "cell_type": "code",
   "execution_count": 32,
   "id": "b8cfb743",
   "metadata": {},
   "outputs": [
    {
     "data": {
      "text/plain": [
       "dict_items([('apple', 'red'), ('mango', 'yellow'), ('lychee', 'white'), ('kiwi', 'green')])"
      ]
     },
     "execution_count": 32,
     "metadata": {},
     "output_type": "execute_result"
    }
   ],
   "source": [
    "fruits.items()"
   ]
  },
  {
   "cell_type": "code",
   "execution_count": 33,
   "id": "24ded269",
   "metadata": {},
   "outputs": [
    {
     "data": {
      "text/plain": [
       "dict_keys(['apple', 'mango', 'lychee', 'kiwi'])"
      ]
     },
     "execution_count": 33,
     "metadata": {},
     "output_type": "execute_result"
    }
   ],
   "source": [
    "fruits.keys()"
   ]
  },
  {
   "cell_type": "code",
   "execution_count": 34,
   "id": "231da657",
   "metadata": {},
   "outputs": [
    {
     "data": {
      "text/plain": [
       "dict_values(['red', 'yellow', 'white', 'green'])"
      ]
     },
     "execution_count": 34,
     "metadata": {},
     "output_type": "execute_result"
    }
   ],
   "source": [
    "fruits.values()"
   ]
  },
  {
   "cell_type": "code",
   "execution_count": 35,
   "id": "722b558f",
   "metadata": {},
   "outputs": [],
   "source": [
    "fruits.update({\"orange\":\"orange\"})"
   ]
  },
  {
   "cell_type": "code",
   "execution_count": 36,
   "id": "441bb939",
   "metadata": {},
   "outputs": [
    {
     "data": {
      "text/plain": [
       "{'apple': 'red',\n",
       " 'mango': 'yellow',\n",
       " 'lychee': 'white',\n",
       " 'kiwi': 'green',\n",
       " 'orange': 'orange'}"
      ]
     },
     "execution_count": 36,
     "metadata": {},
     "output_type": "execute_result"
    }
   ],
   "source": [
    "fruits"
   ]
  },
  {
   "cell_type": "code",
   "execution_count": 37,
   "id": "f5ed9a58",
   "metadata": {},
   "outputs": [
    {
     "data": {
      "text/plain": [
       "'green'"
      ]
     },
     "execution_count": 37,
     "metadata": {},
     "output_type": "execute_result"
    }
   ],
   "source": [
    "fruits.pop(\"kiwi\")"
   ]
  },
  {
   "cell_type": "code",
   "execution_count": 38,
   "id": "94637add",
   "metadata": {},
   "outputs": [
    {
     "data": {
      "text/plain": [
       "{'apple': 'red', 'mango': 'yellow', 'lychee': 'white', 'orange': 'orange'}"
      ]
     },
     "execution_count": 38,
     "metadata": {},
     "output_type": "execute_result"
    }
   ],
   "source": [
    "fruits"
   ]
  },
  {
   "cell_type": "code",
   "execution_count": 39,
   "id": "a3ba6d14",
   "metadata": {},
   "outputs": [
    {
     "data": {
      "text/plain": [
       "('orange', 'orange')"
      ]
     },
     "execution_count": 39,
     "metadata": {},
     "output_type": "execute_result"
    }
   ],
   "source": [
    "fruits.popitem()"
   ]
  },
  {
   "cell_type": "code",
   "execution_count": null,
   "id": "80a06cc2",
   "metadata": {},
   "outputs": [],
   "source": []
  }
 ],
 "metadata": {
  "kernelspec": {
   "display_name": "Python 3 (ipykernel)",
   "language": "python",
   "name": "python3"
  },
  "language_info": {
   "codemirror_mode": {
    "name": "ipython",
    "version": 3
   },
   "file_extension": ".py",
   "mimetype": "text/x-python",
   "name": "python",
   "nbconvert_exporter": "python",
   "pygments_lexer": "ipython3",
   "version": "3.11.4"
  }
 },
 "nbformat": 4,
 "nbformat_minor": 5
}
