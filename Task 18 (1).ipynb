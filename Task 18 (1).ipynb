{
 "cells": [
  {
   "cell_type": "markdown",
   "id": "c9fb96f1",
   "metadata": {},
   "source": [
    "In this assignment, you will create a Python program to calculate the average grade of students in a function. However, the program should handle various exceptions that might occur during user input and grade calculation.\n",
    "**Requirements:**\n",
    "1. Your program should prompt the user to enter the total number of students.\n",
    "2. For each student, prompt the user to enter their name and three subject marks (out of 100).\n",
    "3. Handle the following exceptions\n",
    ":\n",
    "    a. ValueError: If the user enters a non-numeric value for the number of students or subject marks.\n",
    "    b. ZeroDivisionError: If any student's average marks cannot be calculated due to division by zero (e.g., no subject marks\n",
    "provided). c. NegativeValueError: If any student's marks are negative.\n",
    "4. Display appropriate error messages for each exception and prompt the user to try again.\n",
    "5. Use a try-except block for exception handling.\n",
    "6. Calculate the average marks for each student and display their names along with their average marks.\n",
    "7. Calculate and display the overall class average.\n",
    "8. Implement a loop so that the user can re-enter data if an exception occurs or continue calculating for another class.\n",
    "9. Include a graceful exit message when the user decides to stop.\n",
    "\n",
    "**Custom(User Defined) Exceptions:**\n",
    "Define two custom exception classes:\n",
    "1. `NegativeValueError: This exception should be raised when any of the subject marks are negative.\n",
    "2. `InvalidNumber Error: This exception should be raised when the user enters an invalid number for the total number of students (e.g., a negative number)."
   ]
  },
  {
   "cell_type": "code",
   "execution_count": 1,
   "id": "408570da",
   "metadata": {},
   "outputs": [
    {
     "name": "stdout",
     "output_type": "stream",
     "text": [
      "Enter the total number of students present in the class :: 3\n",
      "Enter the name of student1 :: sourav\n",
      "Enter the maths score of stud1 :: 85\n",
      "Enter the science score of stud1 :: 67\n",
      "Enter the social score of stud1 :: 72\n",
      "74.66666666666667\n",
      "Entet the name of student2 :: tanishka\n",
      "Enter the maths score of student2 :: 62\n",
      "Enter the science score of student2 :: 58\n",
      "Enter the social score of student2 :: 79\n",
      "66.33333333333333\n",
      "Entet the name of student3 :: virat\n",
      "Enter the maths score of student3 :: 75\n",
      "Enter the science score of student3 :: 87\n",
      "Enter the social score of student3 :: 77\n",
      "79.66666666666667\n",
      "total class average :: 73.55555555555556\n",
      "Thank you\n"
     ]
    }
   ],
   "source": [
    "\n",
    "    try:\n",
    "        def stud_avg(total_students):\n",
    "            \n",
    "            total_students = int(input(\"Enter the total number of students present in the class :: \"))\n",
    "            if total_students<=0:\n",
    "                raise InvalidNumberError(\"please enter valid number \")\n",
    "                \n",
    "            student1 = input(\"Enter the name of student1 :: \")\n",
    "            maths1 = int(input(\"Enter the maths score of stud1 :: \"))\n",
    "            science1 = int(input(\"Enter the science score of stud1 :: \"))\n",
    "            social1 = int(input(\"Enter the social score of stud1 :: \"))\n",
    "            \n",
    "            student1_score = dict(maths ={maths1}  , science = {science1}  , social = {social1})\n",
    "            \n",
    "            student1_avg = ((maths1+science1+social1)/3)\n",
    "            print(student1_avg)\n",
    "            \n",
    "            student2 = input(\"Entet the name of student2 :: \")\n",
    "            maths2 = int(input(\"Enter the maths score of student2 :: \"))\n",
    "            science2 = int(input(\"Enter the science score of student2 :: \"))\n",
    "            social2 = int(input(\"Enter the social score of student2 :: \"))\n",
    "            \n",
    "            student2_score = dict(maths = {maths2} , science = {science2} , social = {social2})\n",
    "            \n",
    "            student2_avg = ((maths2+science2+social2)/3)\n",
    "            print(student2_avg)\n",
    "            \n",
    "            student3 = input(\"Entet the name of student3 :: \")\n",
    "            maths3 = int(input(\"Enter the maths score of student3 :: \"))\n",
    "            science3 = int(input(\"Enter the science score of student3 :: \"))\n",
    "            social3 = int(input(\"Enter the social score of student3 :: \"))\n",
    "            \n",
    "            student3_score = dict(maths = {maths3} , science = {science3} , social = {social3})\n",
    "            \n",
    "            student3_avg = ((maths3+science3+social3)/3)\n",
    "            print(student3_avg)\n",
    "            \n",
    "            total_average = ((student1_avg+student2_avg+student3_avg)/3)\n",
    "            print(f\"total class average :: {total_average}\")\n",
    "        \n",
    "        stud_avg(3)\n",
    "    except ValueError:\n",
    "        print(\"please enter the numerics\")\n",
    "    except ZeroDivisionError:\n",
    "        print(\"enter the valid details\")\n",
    "    except NegativeValueError:\n",
    "        print(\"enter  only positive numbers\")\n",
    "    finally:\n",
    "        print(\"Thank you\")"
   ]
  },
  {
   "cell_type": "code",
   "execution_count": null,
   "id": "a2928a27",
   "metadata": {},
   "outputs": [],
   "source": []
  }
 ],
 "metadata": {
  "kernelspec": {
   "display_name": "Python 3 (ipykernel)",
   "language": "python",
   "name": "python3"
  },
  "language_info": {
   "codemirror_mode": {
    "name": "ipython",
    "version": 3
   },
   "file_extension": ".py",
   "mimetype": "text/x-python",
   "name": "python",
   "nbconvert_exporter": "python",
   "pygments_lexer": "ipython3",
   "version": "3.11.4"
  }
 },
 "nbformat": 4,
 "nbformat_minor": 5
}
