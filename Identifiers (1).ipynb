{
 "cells": [
  {
   "cell_type": "markdown",
   "id": "5efd181d",
   "metadata": {},
   "source": [
    "# Check the valid Identifiers and invalid identifers using Python"
   ]
  },
  {
   "cell_type": "markdown",
   "id": "aebe5a40",
   "metadata": {},
   "source": [
    "1. **Run all the identifiers and seprate valid and Invalid Identifiers?**\n",
    "\n",
    "2. **Why Python treating them as invalid Identifers.Explain?**"
   ]
  },
  {
   "cell_type": "code",
   "execution_count": 21,
   "id": "bf6022f5",
   "metadata": {},
   "outputs": [
    {
     "ename": "IndentationError",
     "evalue": "unexpected indent (125525364.py, line 3)",
     "output_type": "error",
     "traceback": [
      "\u001b[1;36m  Cell \u001b[1;32mIn[21], line 3\u001b[1;36m\u001b[0m\n\u001b[1;33m    ** Valid **\u001b[0m\n\u001b[1;37m    ^\u001b[0m\n\u001b[1;31mIndentationError\u001b[0m\u001b[1;31m:\u001b[0m unexpected indent\n"
     ]
    }
   ],
   "source": [
    "* my_variable = 25\n",
    "\n",
    " ** Valid **\n",
    "\n",
    "\n",
    "* counter = 40.7\n",
    "\n",
    "** Valid**\n",
    "\n",
    "\n",
    "* _total = \"Hello\"\n",
    " \n",
    "** Valid or True **\n",
    "\n",
    "\n",
    " - 123abc   = 34\n",
    "    \n",
    "**Invalid because the identifier should not start with numbers\n",
    " \n",
    " - my variable   =6.7\n",
    "\n",
    "** Invalid because space is not accepted between the words\n",
    " \n",
    " - @count  = \"hi\" \n",
    "\n",
    "** Invalid because it should not start with special characters other than underscore(_)\n",
    " \n",
    " - for   = \"True\"\n",
    " \n",
    "** Invalid because for is a keyword\n",
    "\n",
    "* Name123 = 136\n",
    "\n",
    "** Valid **\n",
    "\n",
    "* myFunction = True\n",
    "\n",
    "** Valid **\n",
    "\n",
    "* _data = False\n",
    "\n",
    "** Valid **\n",
    "\n",
    "- if_condition? = \"Innomatics\"\n",
    "\n",
    "** Invalid because keywords are not accepted\n",
    "\n",
    "\n",
    "- class = \"Hyderabad\"\n",
    "\n",
    "** Invalid because of keyword\n"
   ]
  },
  {
   "cell_type": "markdown",
   "id": "35c32a6f",
   "metadata": {},
   "source": [
    "### Use different identifiers and assign the below values"
   ]
  },
  {
   "cell_type": "markdown",
   "id": "d606e5ac",
   "metadata": {},
   "source": [
    "10\n",
    "\n",
    "\n",
    "-5\n",
    "\n",
    "\n",
    "\n",
    "3.14159\n",
    " \n",
    "\n",
    "\n",
    "-0.12345\n",
    "\n",
    "\n",
    "\n",
    "1000\n",
    "\n",
    "\n",
    "\n",
    "\"Hello, World!\"\n",
    "\n",
    "\n",
    "\"Python\"\n",
    "\n",
    "\n",
    "\"I am learning\"\n",
    "\n",
    "\n",
    "\n",
    "\"Text type\"\n",
    "\n",
    "\n",
    "\n",
    "\"String\"\n",
    "\n",
    "\n",
    "\n",
    "True\n",
    "\n",
    "\n",
    "\n",
    "\n",
    "\n",
    "True\n",
    "\n",
    "\n",
    "\n",
    "False\n",
    "\n",
    "\n",
    "\n",
    "True\n",
    "\n",
    "\n",
    "\n"
   ]
  },
  {
   "cell_type": "code",
   "execution_count": 30,
   "id": "caff71f8",
   "metadata": {},
   "outputs": [],
   "source": [
    "age = 10"
   ]
  },
  {
   "cell_type": "code",
   "execution_count": 31,
   "id": "bb00ffb5",
   "metadata": {},
   "outputs": [
    {
     "name": "stdout",
     "output_type": "stream",
     "text": [
      "10\n"
     ]
    }
   ],
   "source": [
    "print(age)"
   ]
  },
  {
   "cell_type": "code",
   "execution_count": 26,
   "id": "71356cbf",
   "metadata": {},
   "outputs": [],
   "source": [
    "my_variable = 10"
   ]
  },
  {
   "cell_type": "code",
   "execution_count": 27,
   "id": "4f9353ee",
   "metadata": {},
   "outputs": [
    {
     "name": "stdout",
     "output_type": "stream",
     "text": [
      "10\n"
     ]
    }
   ],
   "source": [
    "print(my_variable)"
   ]
  },
  {
   "cell_type": "code",
   "execution_count": 28,
   "id": "6b590930",
   "metadata": {},
   "outputs": [],
   "source": [
    "num = -5"
   ]
  },
  {
   "cell_type": "code",
   "execution_count": 29,
   "id": "402a35e4",
   "metadata": {},
   "outputs": [
    {
     "name": "stdout",
     "output_type": "stream",
     "text": [
      "-5\n"
     ]
    }
   ],
   "source": [
    "print(num)"
   ]
  },
  {
   "cell_type": "code",
   "execution_count": 1,
   "id": "7b1d2304",
   "metadata": {},
   "outputs": [
    {
     "name": "stdout",
     "output_type": "stream",
     "text": [
      "3.14159\n"
     ]
    }
   ],
   "source": [
    "float = 3.14159\n",
    "print(float)"
   ]
  },
  {
   "cell_type": "code",
   "execution_count": 34,
   "id": "4b50ea49",
   "metadata": {},
   "outputs": [
    {
     "name": "stdout",
     "output_type": "stream",
     "text": [
      "-0.12345\n"
     ]
    }
   ],
   "source": [
    "my_variable = -0.12345\n",
    "print(my_variable)"
   ]
  },
  {
   "cell_type": "code",
   "execution_count": 2,
   "id": "b995dd6b",
   "metadata": {},
   "outputs": [
    {
     "name": "stdout",
     "output_type": "stream",
     "text": [
      "1000\n"
     ]
    }
   ],
   "source": [
    "a = 1000\n",
    "print(a)"
   ]
  },
  {
   "cell_type": "code",
   "execution_count": 39,
   "id": "f8d6f0a1",
   "metadata": {},
   "outputs": [
    {
     "name": "stdout",
     "output_type": "stream",
     "text": [
      "Hello,World!\n"
     ]
    }
   ],
   "source": [
    "a = \"Hello,\"\n",
    "b = \"World!\"\n",
    "print(a+b)"
   ]
  },
  {
   "cell_type": "code",
   "execution_count": 40,
   "id": "db89ec46",
   "metadata": {},
   "outputs": [
    {
     "name": "stdout",
     "output_type": "stream",
     "text": [
      "Python\n"
     ]
    }
   ],
   "source": [
    "a = \"Python\"\n",
    "print(a)"
   ]
  },
  {
   "cell_type": "code",
   "execution_count": 41,
   "id": "7436c9ad",
   "metadata": {},
   "outputs": [
    {
     "name": "stdout",
     "output_type": "stream",
     "text": [
      "Iam learning\n"
     ]
    }
   ],
   "source": [
    "a = \"Iam learning\"\n",
    "b =\"Python\"\n",
    "print(a)"
   ]
  },
  {
   "cell_type": "code",
   "execution_count": 3,
   "id": "c75743ac",
   "metadata": {},
   "outputs": [
    {
     "name": "stdout",
     "output_type": "stream",
     "text": [
      "Text type\n"
     ]
    }
   ],
   "source": [
    "y = \"Text type\"\n",
    "print(y)\n"
   ]
  },
  {
   "cell_type": "code",
   "execution_count": 4,
   "id": "f91c6823",
   "metadata": {},
   "outputs": [
    {
     "name": "stdout",
     "output_type": "stream",
     "text": [
      "String\n"
     ]
    }
   ],
   "source": [
    "x = \"String\"\n",
    "\n",
    "print(x)"
   ]
  },
  {
   "cell_type": "code",
   "execution_count": 5,
   "id": "abe6678f",
   "metadata": {},
   "outputs": [
    {
     "name": "stdout",
     "output_type": "stream",
     "text": [
      "True\n"
     ]
    }
   ],
   "source": [
    "a = True\n",
    "print(a)"
   ]
  },
  {
   "cell_type": "code",
   "execution_count": 10,
   "id": "22d24c69",
   "metadata": {},
   "outputs": [
    {
     "name": "stdout",
     "output_type": "stream",
     "text": [
      "False\n"
     ]
    }
   ],
   "source": [
    "bool_1 = False\n",
    "print(bool_1)\n",
    "\n"
   ]
  },
  {
   "cell_type": "code",
   "execution_count": 7,
   "id": "0f12e4dc",
   "metadata": {},
   "outputs": [
    {
     "name": "stdout",
     "output_type": "stream",
     "text": [
      "True\n"
     ]
    }
   ],
   "source": [
    "Akshitha = True\n",
    "print(Akshitha)\n"
   ]
  },
  {
   "cell_type": "code",
   "execution_count": 8,
   "id": "b1ac828a",
   "metadata": {},
   "outputs": [
    {
     "name": "stdout",
     "output_type": "stream",
     "text": [
      "False\n"
     ]
    }
   ],
   "source": [
    "Data = False\n",
    "print(Data)"
   ]
  },
  {
   "cell_type": "code",
   "execution_count": 9,
   "id": "c3a64808",
   "metadata": {},
   "outputs": [
    {
     "name": "stdout",
     "output_type": "stream",
     "text": [
      "True\n"
     ]
    }
   ],
   "source": [
    "bool_2 = True\n",
    "print(bool_2)"
   ]
  },
  {
   "cell_type": "code",
   "execution_count": null,
   "id": "11459c51",
   "metadata": {},
   "outputs": [],
   "source": []
  }
 ],
 "metadata": {
  "kernelspec": {
   "display_name": "Python 3 (ipykernel)",
   "language": "python",
   "name": "python3"
  },
  "language_info": {
   "codemirror_mode": {
    "name": "ipython",
    "version": 3
   },
   "file_extension": ".py",
   "mimetype": "text/x-python",
   "name": "python",
   "nbconvert_exporter": "python",
   "pygments_lexer": "ipython3",
   "version": "3.11.4"
  }
 },
 "nbformat": 4,
 "nbformat_minor": 5
}
