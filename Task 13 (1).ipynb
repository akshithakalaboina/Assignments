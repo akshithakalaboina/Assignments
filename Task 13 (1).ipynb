{
 "cells": [
  {
   "cell_type": "markdown",
   "id": "89ffda57",
   "metadata": {},
   "source": [
    "1. Write a function called \"add_numbers\" that takes two integers as input and returns their sum.\n",
    "\n",
    "2. Write a function called \"multiply_numbers\" that takes two integers as input and returns their product.\n",
    "\n",
    "3. Write a function called \"calculate_average\" that takes a list of numbers as input and returns the average of thosenumbers.\n",
    "\n",
    "4. Write a function called \"is_even\" that takes an integer as input and returns True if the number is even, and False otherwise.\n",
    "\n",
    "5. Write a function called \"reverse_string\" that takes a string as input and returns the reverse of that string.\n",
    "\n",
    "6. Write a function called \"count_vowels\" that takes a string as input and returns the number of vowels (a, e, i, o, u) in that string.\n",
    "\n",
    "7. Write a function called \"find_max\" that takes a list of numbers as input and returns the maximum value in that list.\n",
    "\n",
    "8. Write a function called \"find_min\" that takes a list of numbers as input and returns the minimum value in that list."
   ]
  },
  {
   "cell_type": "markdown",
   "id": "233f3b69",
   "metadata": {},
   "source": [
    "1. Write a function called \"add_numbers\" that takes two integers as input and returns their sum."
   ]
  },
  {
   "cell_type": "code",
   "execution_count": 10,
   "id": "b0b4acca",
   "metadata": {},
   "outputs": [
    {
     "name": "stdout",
     "output_type": "stream",
     "text": [
      "18\n"
     ]
    }
   ],
   "source": [
    "def add_numbers(x,y):\n",
    "    print(x+y)\n",
    "add_numbers(10,8)"
   ]
  },
  {
   "cell_type": "markdown",
   "id": "1e96f3eb",
   "metadata": {},
   "source": [
    "2.Write a function called \"multiply_numbers\" that takes two integers as input and returns their product."
   ]
  },
  {
   "cell_type": "code",
   "execution_count": 11,
   "id": "1e24f393",
   "metadata": {},
   "outputs": [
    {
     "name": "stdout",
     "output_type": "stream",
     "text": [
      "63\n"
     ]
    }
   ],
   "source": [
    "def multiply_numbers(a,b):\n",
    "    print(a * b)\n",
    "multiply_numbers(9,7)"
   ]
  },
  {
   "cell_type": "markdown",
   "id": "ee8ed480",
   "metadata": {},
   "source": [
    "3.Write a function called \"calculate_average\" that takes a list of numbers as input and returns the average of thosenumbers."
   ]
  },
  {
   "cell_type": "code",
   "execution_count": 13,
   "id": "ca6cbe87",
   "metadata": {},
   "outputs": [
    {
     "name": "stdout",
     "output_type": "stream",
     "text": [
      "11.2\n"
     ]
    }
   ],
   "source": [
    "def calculate_average(a):\n",
    "    print(sum(a)/len(a))\n",
    "    \n",
    "calculate_average([5,10,15,18,8])"
   ]
  },
  {
   "cell_type": "markdown",
   "id": "c8cbc286",
   "metadata": {},
   "source": [
    "4.Write a function called \"is_even\" that takes an integer as input and returns True if the number is even, and False otherwise."
   ]
  },
  {
   "cell_type": "code",
   "execution_count": 14,
   "id": "99c29a1d",
   "metadata": {},
   "outputs": [],
   "source": [
    "def is_even(a):\n",
    "    if (a%2==0):\n",
    "        print(\"True\")\n",
    "    else:\n",
    "        print(\"False\")"
   ]
  },
  {
   "cell_type": "code",
   "execution_count": 15,
   "id": "ff941c9b",
   "metadata": {},
   "outputs": [
    {
     "name": "stdout",
     "output_type": "stream",
     "text": [
      "True\n"
     ]
    }
   ],
   "source": [
    "is_even(18)"
   ]
  },
  {
   "cell_type": "markdown",
   "id": "ac635652",
   "metadata": {},
   "source": [
    "5.Write a function called \"reverse_string\" that takes a string as input and returns the reverse of that string."
   ]
  },
  {
   "cell_type": "code",
   "execution_count": 19,
   "id": "38bab606",
   "metadata": {},
   "outputs": [
    {
     "name": "stdout",
     "output_type": "stream",
     "text": [
      "varuos\n"
     ]
    }
   ],
   "source": [
    "def reverse_string(x):\n",
    "    print(x[::-1])\n",
    "reverse_string(\"sourav\")"
   ]
  },
  {
   "cell_type": "markdown",
   "id": "8d433730",
   "metadata": {},
   "source": [
    "6.Write a function called \"count_vowels\" that takes a string as input and returns the number of vowels (a, e, i, o, u) in that string."
   ]
  },
  {
   "cell_type": "code",
   "execution_count": 23,
   "id": "42038f8b",
   "metadata": {},
   "outputs": [
    {
     "name": "stdout",
     "output_type": "stream",
     "text": [
      "['i', 'o', 'a', 'i', 'e', 'e', 'a', 'a']\n",
      "The vowels present in this are :  8\n"
     ]
    }
   ],
   "source": [
    "count = []\n",
    "vowels = ['a','e','i','o','u']\n",
    "def count_vowels(a):\n",
    "    for i in a:\n",
    "        if i in vowels:\n",
    "            count.append(i)\n",
    "    print(count)\n",
    "    print(\"The vowels present in this are : \", len(count))\n",
    "count_vowels(\"innomatics research labs\")"
   ]
  },
  {
   "cell_type": "markdown",
   "id": "40f8c1df",
   "metadata": {},
   "source": [
    "7.Write a function called \"find_max\" that takes a list of numbers as input and returns the maximum value in that list."
   ]
  },
  {
   "cell_type": "code",
   "execution_count": 25,
   "id": "d24fe4d7",
   "metadata": {},
   "outputs": [
    {
     "name": "stdout",
     "output_type": "stream",
     "text": [
      "8\n"
     ]
    }
   ],
   "source": [
    "def find_max(a):\n",
    "    print(max(a))\n",
    "a = [1,2,3,5,7,8]\n",
    "find_max(a)"
   ]
  },
  {
   "cell_type": "markdown",
   "id": "ae4fa320",
   "metadata": {},
   "source": [
    "8.Write a function called \"find_min\" that takes a list of numbers as input and returns the minimum value in that list."
   ]
  },
  {
   "cell_type": "code",
   "execution_count": 26,
   "id": "8a1410b4",
   "metadata": {},
   "outputs": [
    {
     "name": "stdout",
     "output_type": "stream",
     "text": [
      "5\n"
     ]
    }
   ],
   "source": [
    "def find_min(b):\n",
    "    print(min(b))\n",
    "b = [5,7,8,10,12,9]\n",
    "find_min(b)"
   ]
  },
  {
   "cell_type": "code",
   "execution_count": null,
   "id": "b9329721",
   "metadata": {},
   "outputs": [],
   "source": []
  }
 ],
 "metadata": {
  "kernelspec": {
   "display_name": "Python 3 (ipykernel)",
   "language": "python",
   "name": "python3"
  },
  "language_info": {
   "codemirror_mode": {
    "name": "ipython",
    "version": 3
   },
   "file_extension": ".py",
   "mimetype": "text/x-python",
   "name": "python",
   "nbconvert_exporter": "python",
   "pygments_lexer": "ipython3",
   "version": "3.11.4"
  }
 },
 "nbformat": 4,
 "nbformat_minor": 5
}
